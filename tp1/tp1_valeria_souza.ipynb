{
 "cells": [
  {
   "cell_type": "markdown",
   "metadata": {},
   "source": [
    "**Universidade Federal de Minas Gerais**  \n",
    "**Departamento de Ciência da Computação**  \n",
    "**Aprendizado de Máquina**  \n",
    "**Valéria Pereira de Souza**    \n",
    "\n",
    "## Trabalho Prático 1 - Classificação de Exoplanetas"
   ]
  },
  {
   "cell_type": "markdown",
   "metadata": {},
   "source": [
    "# Apresentação do problema\n",
    "\n",
    "Um KOI - Kepler Object of Interest é uma corpo celeste que se suspeita ser um exoplaneta. A partir da observação de diversas características, o corpo é classificado como KOI e posteriormente, após novas verificações é feita a classificação dos KOI em \"Confirmado\" ou \"Falso positivo\". \n",
    "\n",
    "O objetivo é comparar o desempenho de diversos classificadores na tarefa de classificação automática de um KOI como exoplaneta confirmado ou falso positivo."
   ]
  },
  {
   "cell_type": "markdown",
   "metadata": {},
   "source": [
    "## 1. Inspeção, limpeza e preparação dos dados"
   ]
  },
  {
   "cell_type": "code",
   "execution_count": 86,
   "metadata": {},
   "outputs": [],
   "source": [
    "import pandas as pd\n",
    "import matplotlib.pyplot as plt\n",
    "import numpy as np\n",
    "from tqdm import tqdm\n",
    "from sklearn.preprocessing import LabelEncoder\n",
    "from sklearn.preprocessing import minmax_scale\n",
    "from sklearn.naive_bayes import GaussianNB\n",
    "from sklearn.svm import SVC\n",
    "from sklearn.model_selection import KFold\n",
    "from sklearn.tree import DecisionTreeClassifier\n",
    "from sklearn.metrics import accuracy_score, precision_score, recall_score, f1_score\n",
    "import warnings\n",
    "\n",
    "warnings.filterwarnings('ignore')"
   ]
  },
  {
   "cell_type": "code",
   "execution_count": 2,
   "metadata": {},
   "outputs": [],
   "source": [
    "INPUT_FILEPATH = \"koi_data.csv\"\n",
    "TARGET = \"koi_disposition\"\n",
    "N_FOLDS = 5"
   ]
  },
  {
   "cell_type": "markdown",
   "metadata": {},
   "source": [
    "###### Inspeção Inicial"
   ]
  },
  {
   "cell_type": "code",
   "execution_count": 3,
   "metadata": {},
   "outputs": [
    {
     "data": {
      "text/html": [
       "<div>\n",
       "<style scoped>\n",
       "    .dataframe tbody tr th:only-of-type {\n",
       "        vertical-align: middle;\n",
       "    }\n",
       "\n",
       "    .dataframe tbody tr th {\n",
       "        vertical-align: top;\n",
       "    }\n",
       "\n",
       "    .dataframe thead th {\n",
       "        text-align: right;\n",
       "    }\n",
       "</style>\n",
       "<table border=\"1\" class=\"dataframe\">\n",
       "  <thead>\n",
       "    <tr style=\"text-align: right;\">\n",
       "      <th></th>\n",
       "      <th>kepoi_name</th>\n",
       "      <th>koi_disposition</th>\n",
       "      <th>koi_period</th>\n",
       "      <th>koi_impact</th>\n",
       "      <th>koi_duration</th>\n",
       "      <th>koi_depth</th>\n",
       "      <th>koi_ror</th>\n",
       "      <th>koi_srho</th>\n",
       "      <th>koi_prad</th>\n",
       "      <th>koi_sma</th>\n",
       "      <th>...</th>\n",
       "      <th>koi_fwm_srao</th>\n",
       "      <th>koi_fwm_sdeco</th>\n",
       "      <th>koi_fwm_prao</th>\n",
       "      <th>koi_fwm_pdeco</th>\n",
       "      <th>koi_dicco_mra</th>\n",
       "      <th>koi_dicco_mdec</th>\n",
       "      <th>koi_dicco_msky</th>\n",
       "      <th>koi_dikco_mra</th>\n",
       "      <th>koi_dikco_mdec</th>\n",
       "      <th>koi_dikco_msky</th>\n",
       "    </tr>\n",
       "  </thead>\n",
       "  <tbody>\n",
       "    <tr>\n",
       "      <th>0</th>\n",
       "      <td>K00752.01</td>\n",
       "      <td>CONFIRMED</td>\n",
       "      <td>9.48804</td>\n",
       "      <td>0.146</td>\n",
       "      <td>2.95750</td>\n",
       "      <td>615.8</td>\n",
       "      <td>0.02234</td>\n",
       "      <td>3.20796</td>\n",
       "      <td>2.26</td>\n",
       "      <td>0.0853</td>\n",
       "      <td>...</td>\n",
       "      <td>0.430</td>\n",
       "      <td>0.940</td>\n",
       "      <td>-0.00020</td>\n",
       "      <td>-0.00055</td>\n",
       "      <td>-0.010</td>\n",
       "      <td>0.200</td>\n",
       "      <td>0.200</td>\n",
       "      <td>0.080</td>\n",
       "      <td>0.310</td>\n",
       "      <td>0.320</td>\n",
       "    </tr>\n",
       "    <tr>\n",
       "      <th>1</th>\n",
       "      <td>K00752.02</td>\n",
       "      <td>CONFIRMED</td>\n",
       "      <td>54.41838</td>\n",
       "      <td>0.586</td>\n",
       "      <td>4.50700</td>\n",
       "      <td>874.8</td>\n",
       "      <td>0.02795</td>\n",
       "      <td>3.02368</td>\n",
       "      <td>2.83</td>\n",
       "      <td>0.2734</td>\n",
       "      <td>...</td>\n",
       "      <td>-0.630</td>\n",
       "      <td>1.230</td>\n",
       "      <td>0.00066</td>\n",
       "      <td>-0.00105</td>\n",
       "      <td>0.390</td>\n",
       "      <td>0.000</td>\n",
       "      <td>0.390</td>\n",
       "      <td>0.490</td>\n",
       "      <td>0.120</td>\n",
       "      <td>0.500</td>\n",
       "    </tr>\n",
       "    <tr>\n",
       "      <th>2</th>\n",
       "      <td>K00754.01</td>\n",
       "      <td>FALSE POSITIVE</td>\n",
       "      <td>1.73695</td>\n",
       "      <td>1.276</td>\n",
       "      <td>2.40641</td>\n",
       "      <td>8079.2</td>\n",
       "      <td>0.38739</td>\n",
       "      <td>0.22080</td>\n",
       "      <td>33.46</td>\n",
       "      <td>0.0267</td>\n",
       "      <td>...</td>\n",
       "      <td>-0.111</td>\n",
       "      <td>0.002</td>\n",
       "      <td>0.00302</td>\n",
       "      <td>-0.00142</td>\n",
       "      <td>-0.249</td>\n",
       "      <td>0.147</td>\n",
       "      <td>0.289</td>\n",
       "      <td>-0.257</td>\n",
       "      <td>0.099</td>\n",
       "      <td>0.276</td>\n",
       "    </tr>\n",
       "    <tr>\n",
       "      <th>3</th>\n",
       "      <td>K00755.01</td>\n",
       "      <td>CONFIRMED</td>\n",
       "      <td>2.52559</td>\n",
       "      <td>0.701</td>\n",
       "      <td>1.65450</td>\n",
       "      <td>603.3</td>\n",
       "      <td>0.02406</td>\n",
       "      <td>1.98635</td>\n",
       "      <td>2.75</td>\n",
       "      <td>0.0374</td>\n",
       "      <td>...</td>\n",
       "      <td>-0.010</td>\n",
       "      <td>0.230</td>\n",
       "      <td>0.00008</td>\n",
       "      <td>-0.00007</td>\n",
       "      <td>0.030</td>\n",
       "      <td>-0.090</td>\n",
       "      <td>0.100</td>\n",
       "      <td>0.070</td>\n",
       "      <td>0.020</td>\n",
       "      <td>0.070</td>\n",
       "    </tr>\n",
       "    <tr>\n",
       "      <th>4</th>\n",
       "      <td>K00114.01</td>\n",
       "      <td>FALSE POSITIVE</td>\n",
       "      <td>7.36179</td>\n",
       "      <td>1.169</td>\n",
       "      <td>5.02200</td>\n",
       "      <td>233.7</td>\n",
       "      <td>0.18339</td>\n",
       "      <td>0.00485</td>\n",
       "      <td>39.21</td>\n",
       "      <td>0.0820</td>\n",
       "      <td>...</td>\n",
       "      <td>-13.450</td>\n",
       "      <td>24.090</td>\n",
       "      <td>0.00303</td>\n",
       "      <td>-0.00555</td>\n",
       "      <td>-4.506</td>\n",
       "      <td>7.710</td>\n",
       "      <td>8.930</td>\n",
       "      <td>-4.537</td>\n",
       "      <td>7.713</td>\n",
       "      <td>8.948</td>\n",
       "    </tr>\n",
       "  </tbody>\n",
       "</table>\n",
       "<p>5 rows × 43 columns</p>\n",
       "</div>"
      ],
      "text/plain": [
       "  kepoi_name koi_disposition  koi_period  koi_impact  koi_duration  koi_depth  \\\n",
       "0  K00752.01       CONFIRMED     9.48804       0.146       2.95750      615.8   \n",
       "1  K00752.02       CONFIRMED    54.41838       0.586       4.50700      874.8   \n",
       "2  K00754.01  FALSE POSITIVE     1.73695       1.276       2.40641     8079.2   \n",
       "3  K00755.01       CONFIRMED     2.52559       0.701       1.65450      603.3   \n",
       "4  K00114.01  FALSE POSITIVE     7.36179       1.169       5.02200      233.7   \n",
       "\n",
       "   koi_ror  koi_srho  koi_prad  koi_sma  ...  koi_fwm_srao  koi_fwm_sdeco  \\\n",
       "0  0.02234   3.20796      2.26   0.0853  ...         0.430          0.940   \n",
       "1  0.02795   3.02368      2.83   0.2734  ...        -0.630          1.230   \n",
       "2  0.38739   0.22080     33.46   0.0267  ...        -0.111          0.002   \n",
       "3  0.02406   1.98635      2.75   0.0374  ...        -0.010          0.230   \n",
       "4  0.18339   0.00485     39.21   0.0820  ...       -13.450         24.090   \n",
       "\n",
       "   koi_fwm_prao  koi_fwm_pdeco  koi_dicco_mra  koi_dicco_mdec  koi_dicco_msky  \\\n",
       "0      -0.00020       -0.00055         -0.010           0.200           0.200   \n",
       "1       0.00066       -0.00105          0.390           0.000           0.390   \n",
       "2       0.00302       -0.00142         -0.249           0.147           0.289   \n",
       "3       0.00008       -0.00007          0.030          -0.090           0.100   \n",
       "4       0.00303       -0.00555         -4.506           7.710           8.930   \n",
       "\n",
       "   koi_dikco_mra  koi_dikco_mdec  koi_dikco_msky  \n",
       "0          0.080           0.310           0.320  \n",
       "1          0.490           0.120           0.500  \n",
       "2         -0.257           0.099           0.276  \n",
       "3          0.070           0.020           0.070  \n",
       "4         -4.537           7.713           8.948  \n",
       "\n",
       "[5 rows x 43 columns]"
      ]
     },
     "execution_count": 3,
     "metadata": {},
     "output_type": "execute_result"
    }
   ],
   "source": [
    "data_raw = pd.read_csv(INPUT_FILEPATH)\n",
    "data_raw.head(5)"
   ]
  },
  {
   "cell_type": "markdown",
   "metadata": {},
   "source": [
    "Observarmos 43 colunas, das quais uma se refere ao código de cada KOI e outra se refere à anotação do dado de interesse (y)."
   ]
  },
  {
   "cell_type": "markdown",
   "metadata": {},
   "source": [
    "###### Tipos de dados"
   ]
  },
  {
   "cell_type": "code",
   "execution_count": 4,
   "metadata": {},
   "outputs": [
    {
     "data": {
      "text/plain": [
       "kepoi_name           object\n",
       "koi_disposition      object\n",
       "koi_period          float64\n",
       "koi_impact          float64\n",
       "koi_duration        float64\n",
       "koi_depth           float64\n",
       "koi_ror             float64\n",
       "koi_srho            float64\n",
       "koi_prad            float64\n",
       "koi_sma             float64\n",
       "koi_incl            float64\n",
       "koi_teq             float64\n",
       "koi_insol           float64\n",
       "koi_dor             float64\n",
       "koi_max_sngle_ev    float64\n",
       "koi_max_mult_ev     float64\n",
       "koi_model_snr       float64\n",
       "koi_steff           float64\n",
       "koi_slogg           float64\n",
       "koi_smet            float64\n",
       "koi_srad            float64\n",
       "koi_smass           float64\n",
       "koi_kepmag          float64\n",
       "koi_gmag            float64\n",
       "koi_rmag            float64\n",
       "koi_imag            float64\n",
       "koi_zmag            float64\n",
       "koi_jmag            float64\n",
       "koi_hmag            float64\n",
       "koi_kmag            float64\n",
       "koi_fwm_stat_sig    float64\n",
       "koi_fwm_sra         float64\n",
       "koi_fwm_sdec        float64\n",
       "koi_fwm_srao        float64\n",
       "koi_fwm_sdeco       float64\n",
       "koi_fwm_prao        float64\n",
       "koi_fwm_pdeco       float64\n",
       "koi_dicco_mra       float64\n",
       "koi_dicco_mdec      float64\n",
       "koi_dicco_msky      float64\n",
       "koi_dikco_mra       float64\n",
       "koi_dikco_mdec      float64\n",
       "koi_dikco_msky      float64\n",
       "dtype: object"
      ]
     },
     "execution_count": 4,
     "metadata": {},
     "output_type": "execute_result"
    }
   ],
   "source": [
    "data_raw.dtypes"
   ]
  },
  {
   "cell_type": "markdown",
   "metadata": {},
   "source": [
    "###### Prepração do X, y"
   ]
  },
  {
   "cell_type": "markdown",
   "metadata": {},
   "source": [
    "O dataset é composto majoritariamente por dados numéricos contínuos, não havendo necessidade de transformações de features categóricas. A coluna kepoi_name traz indentificadores únicos para cada instância. Dessa forma, não é uma feature discriminativa entre as classes e será desconsiderada. \n",
    "\n",
    "Após reservada em variável à parte, a coluna com as respostas também será removida do DataFrame"
   ]
  },
  {
   "cell_type": "code",
   "execution_count": 5,
   "metadata": {},
   "outputs": [],
   "source": [
    "y = data_raw[TARGET]\n",
    "X = data_raw.drop(columns=['kepoi_name', 'koi_disposition'])"
   ]
  },
  {
   "cell_type": "markdown",
   "metadata": {},
   "source": [
    "###### Valores faltantes\n",
    "Não existem valores faltantes"
   ]
  },
  {
   "cell_type": "code",
   "execution_count": 6,
   "metadata": {},
   "outputs": [
    {
     "data": {
      "text/plain": [
       "False"
      ]
     },
     "execution_count": 6,
     "metadata": {},
     "output_type": "execute_result"
    }
   ],
   "source": [
    "X.isnull().values.any()"
   ]
  },
  {
   "cell_type": "markdown",
   "metadata": {},
   "source": [
    "###### Normalização"
   ]
  },
  {
   "cell_type": "code",
   "execution_count": 7,
   "metadata": {},
   "outputs": [
    {
     "data": {
      "text/html": [
       "<div>\n",
       "<style scoped>\n",
       "    .dataframe tbody tr th:only-of-type {\n",
       "        vertical-align: middle;\n",
       "    }\n",
       "\n",
       "    .dataframe tbody tr th {\n",
       "        vertical-align: top;\n",
       "    }\n",
       "\n",
       "    .dataframe thead th {\n",
       "        text-align: right;\n",
       "    }\n",
       "</style>\n",
       "<table border=\"1\" class=\"dataframe\">\n",
       "  <thead>\n",
       "    <tr style=\"text-align: right;\">\n",
       "      <th></th>\n",
       "      <th>koi_period</th>\n",
       "      <th>koi_impact</th>\n",
       "      <th>koi_duration</th>\n",
       "      <th>koi_depth</th>\n",
       "      <th>koi_ror</th>\n",
       "      <th>koi_srho</th>\n",
       "      <th>koi_prad</th>\n",
       "      <th>koi_sma</th>\n",
       "      <th>koi_incl</th>\n",
       "      <th>koi_teq</th>\n",
       "      <th>...</th>\n",
       "      <th>koi_fwm_srao</th>\n",
       "      <th>koi_fwm_sdeco</th>\n",
       "      <th>koi_fwm_prao</th>\n",
       "      <th>koi_fwm_pdeco</th>\n",
       "      <th>koi_dicco_mra</th>\n",
       "      <th>koi_dicco_mdec</th>\n",
       "      <th>koi_dicco_msky</th>\n",
       "      <th>koi_dikco_mra</th>\n",
       "      <th>koi_dikco_mdec</th>\n",
       "      <th>koi_dikco_msky</th>\n",
       "    </tr>\n",
       "  </thead>\n",
       "  <tbody>\n",
       "    <tr>\n",
       "      <th>count</th>\n",
       "      <td>5202.000000</td>\n",
       "      <td>5202.000000</td>\n",
       "      <td>5202.000000</td>\n",
       "      <td>5202.000000</td>\n",
       "      <td>5202.000000</td>\n",
       "      <td>5202.000000</td>\n",
       "      <td>5202.000000</td>\n",
       "      <td>5202.000000</td>\n",
       "      <td>5202.000000</td>\n",
       "      <td>5202.000000</td>\n",
       "      <td>...</td>\n",
       "      <td>5202.000000</td>\n",
       "      <td>5202.000000</td>\n",
       "      <td>5202.000000</td>\n",
       "      <td>5202.000000</td>\n",
       "      <td>5202.000000</td>\n",
       "      <td>5202.000000</td>\n",
       "      <td>5202.000000</td>\n",
       "      <td>5202.000000</td>\n",
       "      <td>5202.000000</td>\n",
       "      <td>5202.000000</td>\n",
       "    </tr>\n",
       "    <tr>\n",
       "      <th>mean</th>\n",
       "      <td>37.032237</td>\n",
       "      <td>0.717106</td>\n",
       "      <td>5.607025</td>\n",
       "      <td>21340.318993</td>\n",
       "      <td>0.235205</td>\n",
       "      <td>3.415370</td>\n",
       "      <td>112.230798</td>\n",
       "      <td>0.158146</td>\n",
       "      <td>81.181413</td>\n",
       "      <td>1143.721069</td>\n",
       "      <td>...</td>\n",
       "      <td>-0.355681</td>\n",
       "      <td>-0.805629</td>\n",
       "      <td>-0.000263</td>\n",
       "      <td>0.000439</td>\n",
       "      <td>-0.049743</td>\n",
       "      <td>-0.087413</td>\n",
       "      <td>1.930251</td>\n",
       "      <td>-0.038402</td>\n",
       "      <td>-0.098738</td>\n",
       "      <td>1.920226</td>\n",
       "    </tr>\n",
       "    <tr>\n",
       "      <th>std</th>\n",
       "      <td>88.417985</td>\n",
       "      <td>2.628207</td>\n",
       "      <td>6.962634</td>\n",
       "      <td>66989.808550</td>\n",
       "      <td>2.586213</td>\n",
       "      <td>25.131368</td>\n",
       "      <td>3699.799318</td>\n",
       "      <td>0.241792</td>\n",
       "      <td>16.308839</td>\n",
       "      <td>775.788868</td>\n",
       "      <td>...</td>\n",
       "      <td>10.978677</td>\n",
       "      <td>14.741473</td>\n",
       "      <td>0.065707</td>\n",
       "      <td>0.077519</td>\n",
       "      <td>2.465670</td>\n",
       "      <td>2.746534</td>\n",
       "      <td>3.147553</td>\n",
       "      <td>2.465094</td>\n",
       "      <td>2.734732</td>\n",
       "      <td>3.142764</td>\n",
       "    </tr>\n",
       "    <tr>\n",
       "      <th>min</th>\n",
       "      <td>0.306940</td>\n",
       "      <td>0.000000</td>\n",
       "      <td>0.104600</td>\n",
       "      <td>0.800000</td>\n",
       "      <td>0.001290</td>\n",
       "      <td>0.000040</td>\n",
       "      <td>0.080000</td>\n",
       "      <td>0.007200</td>\n",
       "      <td>2.290000</td>\n",
       "      <td>92.000000</td>\n",
       "      <td>...</td>\n",
       "      <td>-275.600000</td>\n",
       "      <td>-397.620000</td>\n",
       "      <td>-4.000000</td>\n",
       "      <td>-0.800000</td>\n",
       "      <td>-21.500000</td>\n",
       "      <td>-75.900000</td>\n",
       "      <td>0.000000</td>\n",
       "      <td>-23.600000</td>\n",
       "      <td>-76.600000</td>\n",
       "      <td>0.000000</td>\n",
       "    </tr>\n",
       "    <tr>\n",
       "      <th>25%</th>\n",
       "      <td>2.213962</td>\n",
       "      <td>0.226000</td>\n",
       "      <td>2.500250</td>\n",
       "      <td>176.800000</td>\n",
       "      <td>0.013058</td>\n",
       "      <td>0.176092</td>\n",
       "      <td>1.460000</td>\n",
       "      <td>0.033000</td>\n",
       "      <td>81.930000</td>\n",
       "      <td>615.250000</td>\n",
       "      <td>...</td>\n",
       "      <td>-0.500000</td>\n",
       "      <td>-0.570000</td>\n",
       "      <td>-0.000240</td>\n",
       "      <td>-0.000240</td>\n",
       "      <td>-0.270000</td>\n",
       "      <td>-0.291500</td>\n",
       "      <td>0.128250</td>\n",
       "      <td>-0.265250</td>\n",
       "      <td>-0.320000</td>\n",
       "      <td>0.180000</td>\n",
       "    </tr>\n",
       "    <tr>\n",
       "      <th>50%</th>\n",
       "      <td>7.386755</td>\n",
       "      <td>0.610000</td>\n",
       "      <td>3.805500</td>\n",
       "      <td>495.950000</td>\n",
       "      <td>0.024185</td>\n",
       "      <td>0.748045</td>\n",
       "      <td>2.600000</td>\n",
       "      <td>0.073650</td>\n",
       "      <td>87.890000</td>\n",
       "      <td>948.000000</td>\n",
       "      <td>...</td>\n",
       "      <td>0.000000</td>\n",
       "      <td>-0.030000</td>\n",
       "      <td>0.000000</td>\n",
       "      <td>0.000000</td>\n",
       "      <td>0.000000</td>\n",
       "      <td>0.000000</td>\n",
       "      <td>0.460000</td>\n",
       "      <td>-0.007000</td>\n",
       "      <td>-0.018000</td>\n",
       "      <td>0.453000</td>\n",
       "    </tr>\n",
       "    <tr>\n",
       "      <th>75%</th>\n",
       "      <td>23.448117</td>\n",
       "      <td>0.923750</td>\n",
       "      <td>6.000750</td>\n",
       "      <td>2120.525000</td>\n",
       "      <td>0.171260</td>\n",
       "      <td>2.267063</td>\n",
       "      <td>21.645000</td>\n",
       "      <td>0.158200</td>\n",
       "      <td>89.520000</td>\n",
       "      <td>1482.000000</td>\n",
       "      <td>...</td>\n",
       "      <td>0.500000</td>\n",
       "      <td>0.450000</td>\n",
       "      <td>0.000260</td>\n",
       "      <td>0.000280</td>\n",
       "      <td>0.230000</td>\n",
       "      <td>0.230000</td>\n",
       "      <td>2.570000</td>\n",
       "      <td>0.226250</td>\n",
       "      <td>0.250000</td>\n",
       "      <td>2.420000</td>\n",
       "    </tr>\n",
       "    <tr>\n",
       "      <th>max</th>\n",
       "      <td>1071.232620</td>\n",
       "      <td>100.806000</td>\n",
       "      <td>138.540000</td>\n",
       "      <td>864260.000000</td>\n",
       "      <td>99.870650</td>\n",
       "      <td>918.752390</td>\n",
       "      <td>200346.000000</td>\n",
       "      <td>2.034500</td>\n",
       "      <td>90.000000</td>\n",
       "      <td>9791.000000</td>\n",
       "      <td>...</td>\n",
       "      <td>97.780000</td>\n",
       "      <td>98.780000</td>\n",
       "      <td>1.190000</td>\n",
       "      <td>5.000000</td>\n",
       "      <td>45.680000</td>\n",
       "      <td>27.500000</td>\n",
       "      <td>88.600000</td>\n",
       "      <td>46.570000</td>\n",
       "      <td>31.200000</td>\n",
       "      <td>89.600000</td>\n",
       "    </tr>\n",
       "  </tbody>\n",
       "</table>\n",
       "<p>8 rows × 41 columns</p>\n",
       "</div>"
      ],
      "text/plain": [
       "        koi_period   koi_impact  koi_duration      koi_depth      koi_ror  \\\n",
       "count  5202.000000  5202.000000   5202.000000    5202.000000  5202.000000   \n",
       "mean     37.032237     0.717106      5.607025   21340.318993     0.235205   \n",
       "std      88.417985     2.628207      6.962634   66989.808550     2.586213   \n",
       "min       0.306940     0.000000      0.104600       0.800000     0.001290   \n",
       "25%       2.213962     0.226000      2.500250     176.800000     0.013058   \n",
       "50%       7.386755     0.610000      3.805500     495.950000     0.024185   \n",
       "75%      23.448117     0.923750      6.000750    2120.525000     0.171260   \n",
       "max    1071.232620   100.806000    138.540000  864260.000000    99.870650   \n",
       "\n",
       "          koi_srho       koi_prad      koi_sma     koi_incl      koi_teq  ...  \\\n",
       "count  5202.000000    5202.000000  5202.000000  5202.000000  5202.000000  ...   \n",
       "mean      3.415370     112.230798     0.158146    81.181413  1143.721069  ...   \n",
       "std      25.131368    3699.799318     0.241792    16.308839   775.788868  ...   \n",
       "min       0.000040       0.080000     0.007200     2.290000    92.000000  ...   \n",
       "25%       0.176092       1.460000     0.033000    81.930000   615.250000  ...   \n",
       "50%       0.748045       2.600000     0.073650    87.890000   948.000000  ...   \n",
       "75%       2.267063      21.645000     0.158200    89.520000  1482.000000  ...   \n",
       "max     918.752390  200346.000000     2.034500    90.000000  9791.000000  ...   \n",
       "\n",
       "       koi_fwm_srao  koi_fwm_sdeco  koi_fwm_prao  koi_fwm_pdeco  \\\n",
       "count   5202.000000    5202.000000   5202.000000    5202.000000   \n",
       "mean      -0.355681      -0.805629     -0.000263       0.000439   \n",
       "std       10.978677      14.741473      0.065707       0.077519   \n",
       "min     -275.600000    -397.620000     -4.000000      -0.800000   \n",
       "25%       -0.500000      -0.570000     -0.000240      -0.000240   \n",
       "50%        0.000000      -0.030000      0.000000       0.000000   \n",
       "75%        0.500000       0.450000      0.000260       0.000280   \n",
       "max       97.780000      98.780000      1.190000       5.000000   \n",
       "\n",
       "       koi_dicco_mra  koi_dicco_mdec  koi_dicco_msky  koi_dikco_mra  \\\n",
       "count    5202.000000     5202.000000     5202.000000    5202.000000   \n",
       "mean       -0.049743       -0.087413        1.930251      -0.038402   \n",
       "std         2.465670        2.746534        3.147553       2.465094   \n",
       "min       -21.500000      -75.900000        0.000000     -23.600000   \n",
       "25%        -0.270000       -0.291500        0.128250      -0.265250   \n",
       "50%         0.000000        0.000000        0.460000      -0.007000   \n",
       "75%         0.230000        0.230000        2.570000       0.226250   \n",
       "max        45.680000       27.500000       88.600000      46.570000   \n",
       "\n",
       "       koi_dikco_mdec  koi_dikco_msky  \n",
       "count     5202.000000     5202.000000  \n",
       "mean        -0.098738        1.920226  \n",
       "std          2.734732        3.142764  \n",
       "min        -76.600000        0.000000  \n",
       "25%         -0.320000        0.180000  \n",
       "50%         -0.018000        0.453000  \n",
       "75%          0.250000        2.420000  \n",
       "max         31.200000       89.600000  \n",
       "\n",
       "[8 rows x 41 columns]"
      ]
     },
     "execution_count": 7,
     "metadata": {},
     "output_type": "execute_result"
    }
   ],
   "source": [
    "X.describe()"
   ]
  },
  {
   "cell_type": "markdown",
   "metadata": {},
   "source": [
    "Observarmos grande variância na escala de valores das features. Esse fato pode representar um problema para algoritmos paramétricos uma vez que features com valores mais extremos influenciarão mais o resultado enviesando artificalmente os modelos. Para evitar esse tipo de problema, faremos um procedimento de feature scaling pela técnica de normalização no intervalo (0, 1)"
   ]
  },
  {
   "cell_type": "code",
   "execution_count": 8,
   "metadata": {},
   "outputs": [
    {
     "data": {
      "text/html": [
       "<div>\n",
       "<style scoped>\n",
       "    .dataframe tbody tr th:only-of-type {\n",
       "        vertical-align: middle;\n",
       "    }\n",
       "\n",
       "    .dataframe tbody tr th {\n",
       "        vertical-align: top;\n",
       "    }\n",
       "\n",
       "    .dataframe thead th {\n",
       "        text-align: right;\n",
       "    }\n",
       "</style>\n",
       "<table border=\"1\" class=\"dataframe\">\n",
       "  <thead>\n",
       "    <tr style=\"text-align: right;\">\n",
       "      <th></th>\n",
       "      <th>0</th>\n",
       "      <th>1</th>\n",
       "      <th>2</th>\n",
       "      <th>3</th>\n",
       "      <th>4</th>\n",
       "      <th>5</th>\n",
       "      <th>6</th>\n",
       "      <th>7</th>\n",
       "      <th>8</th>\n",
       "      <th>9</th>\n",
       "      <th>...</th>\n",
       "      <th>31</th>\n",
       "      <th>32</th>\n",
       "      <th>33</th>\n",
       "      <th>34</th>\n",
       "      <th>35</th>\n",
       "      <th>36</th>\n",
       "      <th>37</th>\n",
       "      <th>38</th>\n",
       "      <th>39</th>\n",
       "      <th>40</th>\n",
       "    </tr>\n",
       "  </thead>\n",
       "  <tbody>\n",
       "    <tr>\n",
       "      <th>count</th>\n",
       "      <td>5202.000000</td>\n",
       "      <td>5202.000000</td>\n",
       "      <td>5202.000000</td>\n",
       "      <td>5202.000000</td>\n",
       "      <td>5202.000000</td>\n",
       "      <td>5202.000000</td>\n",
       "      <td>5202.000000</td>\n",
       "      <td>5202.000000</td>\n",
       "      <td>5202.000000</td>\n",
       "      <td>5202.000000</td>\n",
       "      <td>...</td>\n",
       "      <td>5202.000000</td>\n",
       "      <td>5202.000000</td>\n",
       "      <td>5202.000000</td>\n",
       "      <td>5202.000000</td>\n",
       "      <td>5202.000000</td>\n",
       "      <td>5202.000000</td>\n",
       "      <td>5202.000000</td>\n",
       "      <td>5202.000000</td>\n",
       "      <td>5202.000000</td>\n",
       "      <td>5202.000000</td>\n",
       "    </tr>\n",
       "    <tr>\n",
       "      <th>mean</th>\n",
       "      <td>0.034293</td>\n",
       "      <td>0.007114</td>\n",
       "      <td>0.039747</td>\n",
       "      <td>0.024691</td>\n",
       "      <td>0.002342</td>\n",
       "      <td>0.003717</td>\n",
       "      <td>0.000560</td>\n",
       "      <td>0.074457</td>\n",
       "      <td>0.899457</td>\n",
       "      <td>0.108436</td>\n",
       "      <td>...</td>\n",
       "      <td>0.737169</td>\n",
       "      <td>0.799384</td>\n",
       "      <td>0.770662</td>\n",
       "      <td>0.138007</td>\n",
       "      <td>0.319295</td>\n",
       "      <td>0.733197</td>\n",
       "      <td>0.021786</td>\n",
       "      <td>0.335779</td>\n",
       "      <td>0.709659</td>\n",
       "      <td>0.021431</td>\n",
       "    </tr>\n",
       "    <tr>\n",
       "      <th>std</th>\n",
       "      <td>0.082562</td>\n",
       "      <td>0.026072</td>\n",
       "      <td>0.050295</td>\n",
       "      <td>0.077511</td>\n",
       "      <td>0.025896</td>\n",
       "      <td>0.027354</td>\n",
       "      <td>0.018467</td>\n",
       "      <td>0.119268</td>\n",
       "      <td>0.185940</td>\n",
       "      <td>0.079986</td>\n",
       "      <td>...</td>\n",
       "      <td>0.029403</td>\n",
       "      <td>0.029697</td>\n",
       "      <td>0.012660</td>\n",
       "      <td>0.013365</td>\n",
       "      <td>0.036702</td>\n",
       "      <td>0.026562</td>\n",
       "      <td>0.035525</td>\n",
       "      <td>0.035130</td>\n",
       "      <td>0.025369</td>\n",
       "      <td>0.035075</td>\n",
       "    </tr>\n",
       "    <tr>\n",
       "      <th>min</th>\n",
       "      <td>0.000000</td>\n",
       "      <td>0.000000</td>\n",
       "      <td>0.000000</td>\n",
       "      <td>0.000000</td>\n",
       "      <td>0.000000</td>\n",
       "      <td>0.000000</td>\n",
       "      <td>0.000000</td>\n",
       "      <td>0.000000</td>\n",
       "      <td>0.000000</td>\n",
       "      <td>0.000000</td>\n",
       "      <td>...</td>\n",
       "      <td>0.000000</td>\n",
       "      <td>0.000000</td>\n",
       "      <td>0.000000</td>\n",
       "      <td>0.000000</td>\n",
       "      <td>0.000000</td>\n",
       "      <td>0.000000</td>\n",
       "      <td>0.000000</td>\n",
       "      <td>0.000000</td>\n",
       "      <td>0.000000</td>\n",
       "      <td>0.000000</td>\n",
       "    </tr>\n",
       "    <tr>\n",
       "      <th>25%</th>\n",
       "      <td>0.001781</td>\n",
       "      <td>0.002242</td>\n",
       "      <td>0.017305</td>\n",
       "      <td>0.000204</td>\n",
       "      <td>0.000118</td>\n",
       "      <td>0.000192</td>\n",
       "      <td>0.000007</td>\n",
       "      <td>0.012726</td>\n",
       "      <td>0.907992</td>\n",
       "      <td>0.053949</td>\n",
       "      <td>...</td>\n",
       "      <td>0.736783</td>\n",
       "      <td>0.799859</td>\n",
       "      <td>0.770667</td>\n",
       "      <td>0.137890</td>\n",
       "      <td>0.316017</td>\n",
       "      <td>0.731223</td>\n",
       "      <td>0.001448</td>\n",
       "      <td>0.332546</td>\n",
       "      <td>0.707607</td>\n",
       "      <td>0.002009</td>\n",
       "    </tr>\n",
       "    <tr>\n",
       "      <th>50%</th>\n",
       "      <td>0.006611</td>\n",
       "      <td>0.006051</td>\n",
       "      <td>0.026734</td>\n",
       "      <td>0.000573</td>\n",
       "      <td>0.000229</td>\n",
       "      <td>0.000814</td>\n",
       "      <td>0.000013</td>\n",
       "      <td>0.032778</td>\n",
       "      <td>0.975943</td>\n",
       "      <td>0.088257</td>\n",
       "      <td>...</td>\n",
       "      <td>0.738122</td>\n",
       "      <td>0.800947</td>\n",
       "      <td>0.770713</td>\n",
       "      <td>0.137931</td>\n",
       "      <td>0.320036</td>\n",
       "      <td>0.734043</td>\n",
       "      <td>0.005192</td>\n",
       "      <td>0.336226</td>\n",
       "      <td>0.710408</td>\n",
       "      <td>0.005056</td>\n",
       "    </tr>\n",
       "    <tr>\n",
       "      <th>75%</th>\n",
       "      <td>0.021609</td>\n",
       "      <td>0.009164</td>\n",
       "      <td>0.042591</td>\n",
       "      <td>0.002453</td>\n",
       "      <td>0.001702</td>\n",
       "      <td>0.002468</td>\n",
       "      <td>0.000108</td>\n",
       "      <td>0.074483</td>\n",
       "      <td>0.994527</td>\n",
       "      <td>0.143314</td>\n",
       "      <td>...</td>\n",
       "      <td>0.739461</td>\n",
       "      <td>0.801914</td>\n",
       "      <td>0.770763</td>\n",
       "      <td>0.137979</td>\n",
       "      <td>0.323459</td>\n",
       "      <td>0.736267</td>\n",
       "      <td>0.029007</td>\n",
       "      <td>0.339550</td>\n",
       "      <td>0.712894</td>\n",
       "      <td>0.027009</td>\n",
       "    </tr>\n",
       "    <tr>\n",
       "      <th>max</th>\n",
       "      <td>1.000000</td>\n",
       "      <td>1.000000</td>\n",
       "      <td>1.000000</td>\n",
       "      <td>1.000000</td>\n",
       "      <td>1.000000</td>\n",
       "      <td>1.000000</td>\n",
       "      <td>1.000000</td>\n",
       "      <td>1.000000</td>\n",
       "      <td>1.000000</td>\n",
       "      <td>1.000000</td>\n",
       "      <td>...</td>\n",
       "      <td>1.000000</td>\n",
       "      <td>1.000000</td>\n",
       "      <td>1.000000</td>\n",
       "      <td>1.000000</td>\n",
       "      <td>1.000000</td>\n",
       "      <td>1.000000</td>\n",
       "      <td>1.000000</td>\n",
       "      <td>1.000000</td>\n",
       "      <td>1.000000</td>\n",
       "      <td>1.000000</td>\n",
       "    </tr>\n",
       "  </tbody>\n",
       "</table>\n",
       "<p>8 rows × 41 columns</p>\n",
       "</div>"
      ],
      "text/plain": [
       "                0            1            2            3            4   \\\n",
       "count  5202.000000  5202.000000  5202.000000  5202.000000  5202.000000   \n",
       "mean      0.034293     0.007114     0.039747     0.024691     0.002342   \n",
       "std       0.082562     0.026072     0.050295     0.077511     0.025896   \n",
       "min       0.000000     0.000000     0.000000     0.000000     0.000000   \n",
       "25%       0.001781     0.002242     0.017305     0.000204     0.000118   \n",
       "50%       0.006611     0.006051     0.026734     0.000573     0.000229   \n",
       "75%       0.021609     0.009164     0.042591     0.002453     0.001702   \n",
       "max       1.000000     1.000000     1.000000     1.000000     1.000000   \n",
       "\n",
       "                5            6            7            8            9   ...  \\\n",
       "count  5202.000000  5202.000000  5202.000000  5202.000000  5202.000000  ...   \n",
       "mean      0.003717     0.000560     0.074457     0.899457     0.108436  ...   \n",
       "std       0.027354     0.018467     0.119268     0.185940     0.079986  ...   \n",
       "min       0.000000     0.000000     0.000000     0.000000     0.000000  ...   \n",
       "25%       0.000192     0.000007     0.012726     0.907992     0.053949  ...   \n",
       "50%       0.000814     0.000013     0.032778     0.975943     0.088257  ...   \n",
       "75%       0.002468     0.000108     0.074483     0.994527     0.143314  ...   \n",
       "max       1.000000     1.000000     1.000000     1.000000     1.000000  ...   \n",
       "\n",
       "                31           32           33           34           35  \\\n",
       "count  5202.000000  5202.000000  5202.000000  5202.000000  5202.000000   \n",
       "mean      0.737169     0.799384     0.770662     0.138007     0.319295   \n",
       "std       0.029403     0.029697     0.012660     0.013365     0.036702   \n",
       "min       0.000000     0.000000     0.000000     0.000000     0.000000   \n",
       "25%       0.736783     0.799859     0.770667     0.137890     0.316017   \n",
       "50%       0.738122     0.800947     0.770713     0.137931     0.320036   \n",
       "75%       0.739461     0.801914     0.770763     0.137979     0.323459   \n",
       "max       1.000000     1.000000     1.000000     1.000000     1.000000   \n",
       "\n",
       "                36           37           38           39           40  \n",
       "count  5202.000000  5202.000000  5202.000000  5202.000000  5202.000000  \n",
       "mean      0.733197     0.021786     0.335779     0.709659     0.021431  \n",
       "std       0.026562     0.035525     0.035130     0.025369     0.035075  \n",
       "min       0.000000     0.000000     0.000000     0.000000     0.000000  \n",
       "25%       0.731223     0.001448     0.332546     0.707607     0.002009  \n",
       "50%       0.734043     0.005192     0.336226     0.710408     0.005056  \n",
       "75%       0.736267     0.029007     0.339550     0.712894     0.027009  \n",
       "max       1.000000     1.000000     1.000000     1.000000     1.000000  \n",
       "\n",
       "[8 rows x 41 columns]"
      ]
     },
     "execution_count": 8,
     "metadata": {},
     "output_type": "execute_result"
    }
   ],
   "source": [
    "# Normalização das features\n",
    "X = pd.DataFrame(minmax_scale(X, feature_range=(0, 1)))\n",
    "X.describe()"
   ]
  },
  {
   "cell_type": "markdown",
   "metadata": {},
   "source": [
    "###### Encoding dos valores alvo"
   ]
  },
  {
   "cell_type": "code",
   "execution_count": 9,
   "metadata": {},
   "outputs": [],
   "source": [
    "label_encoder = LabelEncoder()\n",
    "label_encoder.fit(['CONFIRMED', 'FALSE POSITIVE'])\n",
    "y = label_encoder.transform(y)"
   ]
  },
  {
   "cell_type": "markdown",
   "metadata": {},
   "source": [
    "## 2. Experimentos"
   ]
  },
  {
   "cell_type": "markdown",
   "metadata": {},
   "source": [
    "#### *Classe utilitária*"
   ]
  },
  {
   "cell_type": "code",
   "execution_count": 87,
   "metadata": {},
   "outputs": [],
   "source": [
    "class Experiment():\n",
    "    def __init__(self):\n",
    "\n",
    "        self.X_train, self.X_test = [], []\n",
    "        self.y_train, self.y_test = [], []\n",
    "        self.train_index, self.test_index = [], []\n",
    "        self.train_pred, self.test_pred = [], []\n",
    "        \n",
    "        self.accuracy_train, self.accuracy_test = [], []\n",
    "        self.precision_train, self.precision_test = [], []\n",
    "        self.recall_train, self.recall_test = [], []\n",
    "        self.f1_train, self.f1_test = [], []\n",
    "        \n",
    "        self.mean_accuracy_train = 0\n",
    "        self.mean_accuracy_test = 0\n",
    "        self.mean_precision_train = 0\n",
    "        self.mean_precision_test = 0\n",
    "        self.mean_recall_train = 0\n",
    "        self.mean_recall_test = 0\n",
    "        self.mean_f1_train = 0\n",
    "        self.mean_f1_test = 0\n",
    "        \n",
    "\n",
    "    def run_naive_bayes(self):\n",
    "        for self.train_index, self.test_index in self.get_folds():\n",
    "            self.slice_fold()            \n",
    "            clf = GaussianNB()\n",
    "            clf = clf.fit(self.X_train, self.y_train)\n",
    "            self.get_predictions(clf)\n",
    "            self.get_metrics_per_fold()\n",
    "        self.get_means()\n",
    "    \n",
    "    def run_decision_tree(self, depth):\n",
    "        for self.train_index, self.test_index in self.get_folds():\n",
    "            self.slice_fold()            \n",
    "            clf = DecisionTreeClassifier(max_depth=depth)\n",
    "            clf = clf.fit(self.X_train, self.y_train)\n",
    "            self.get_predictions(clf)\n",
    "            self.get_metrics_per_fold()\n",
    "        self.get_means()\n",
    "                \n",
    "    def run_svm(self, kernel):\n",
    "        i=1\n",
    "        for self.train_index, self.test_index in self.get_folds():\n",
    "            self.slice_fold()            \n",
    "            print('fold', i, end=' ')\n",
    "            clf = SVC(kernel=kernel, probability=True)\n",
    "            clf = clf.fit(self.X_train, self.y_train)\n",
    "            self.get_predictions(clf)\n",
    "            self.get_metrics_per_fold()\n",
    "            i+=1\n",
    "        self.get_means()\n",
    "        print()\n",
    "        print()\n",
    "            \n",
    "    \n",
    "    def get_folds(self):\n",
    "        kfold = KFold(N_FOLDS, True, 1)\n",
    "        return kfold.split(X)\n",
    "    \n",
    "    def slice_fold(self):\n",
    "        global X\n",
    "        global y\n",
    "        self.X_train = X.iloc[self.train_index]\n",
    "        self.y_train = y[self.train_index]\n",
    "        \n",
    "        self.X_test = X.iloc[self.test_index]\n",
    "        self.y_test = y[self.test_index]\n",
    "        \n",
    "        \n",
    "    def get_predictions(self, clf):\n",
    "        self.train_pred = clf.predict(self.X_train)\n",
    "        self.test_pred = clf.predict(self.X_test)\n",
    "        \n",
    "    def get_metrics_per_fold(self):\n",
    "        self.accuracy_train.append(accuracy_score(self.y_train, self.train_pred))\n",
    "        self.accuracy_test.append(accuracy_score(self.y_test, self.test_pred))\n",
    "        \n",
    "        self.precision_train.append(precision_score(self.y_train, self.train_pred))\n",
    "        self.precision_test.append(precision_score(self.y_test, self.test_pred))\n",
    "        \n",
    "        self.recall_train.append(recall_score(self.y_train, self.train_pred))\n",
    "        self.recall_test.append(recall_score(self.y_test, self.test_pred))\n",
    "        \n",
    "        self.f1_train.append(f1_score(self.y_train, self.train_pred))\n",
    "        self.f1_test.append(f1_score(self.y_test, self.test_pred))\n",
    "        \n",
    "    def get_means(self):\n",
    "        self.mean_accuracy_train = np.mean(self.accuracy_train)\n",
    "        self.mean_accuracy_test = np.mean(self.accuracy_test)\n",
    "        self.mean_precision_train = np.mean(self.precision_train)\n",
    "        self.mean_precision_test = np.mean(self.precision_test)\n",
    "        self.mean_recall_train = np.mean(self.recall_train)\n",
    "        self.mean_recall_test = np.mean(self.recall_test)\n",
    "        self.mean_f1_train = np.mean(self.f1_train)\n",
    "        self.mean_f1_test = np.mean(self.f1_test)\n",
    "    \n",
    "    def print_results(self):\n",
    "        print(\"Train\")\n",
    "        print(\"  Accuracy: {:.3f}\".format(self.mean_accuracy_train))\n",
    "        print(\"  Precision: {:.3f}\".format(self.mean_precision_train))\n",
    "        print(\"  Recall: {:.3f}\".format(self.mean_recall_train))\n",
    "        print(\"  f1: {:.3f}\".format(self.mean_f1_train))\n",
    "\n",
    "        print()\n",
    "        \n",
    "        print(\"Test\")\n",
    "        print(\"  Accuracy: {:.3f}\".format(self.mean_accuracy_test))\n",
    "        print(\"  Precision: {:.3f}\".format(self.mean_precision_test))\n",
    "        print(\"  Recall: {:.3f}\".format(self.mean_recall_test))\n",
    "        print(\"  f1: {:.3f}\".format(self.mean_f1_test))\n",
    "    \n",
    "    def plot_folds(self):\n",
    "        #line graph - all metrics X hiperparâmetro variado\n",
    "        print()\n"
   ]
  },
  {
   "cell_type": "code",
   "execution_count": 88,
   "metadata": {},
   "outputs": [],
   "source": [
    "def save_results(objeto, metrics = {}):\n",
    "    \"\"\" \n",
    "    Função auxiliar que salva resultados de muitos experimentos\n",
    "    \"\"\"    \n",
    "    metrics['accuracy_train'].append(objeto.mean_accuracy_train)\n",
    "    metrics['accuracy_test'].append(objeto.mean_accuracy_test)\n",
    "                            \n",
    "    metrics['precision_train'].append(objeto.mean_precision_train)\n",
    "    metrics['precision_test'].append(objeto.mean_precision_test)\n",
    "    \n",
    "    metrics['recall_train'].append(objeto.mean_recall_train)\n",
    "    metrics['recall_test'].append(objeto.mean_recall_test)\n",
    "    \n",
    "    metrics['f1_train'].append(objeto.mean_f1_train)\n",
    "    metrics['f1_test'].append(objeto.mean_f1_test)\n",
    "  \n",
    "    return metrics"
   ]
  },
  {
   "cell_type": "code",
   "execution_count": 123,
   "metadata": {},
   "outputs": [],
   "source": [
    "def plot_results(metrics, baseline, name='Decision Tree', parameter='Altura'):\n",
    "    \n",
    "    plt.subplot()\n",
    "    plt.title(name + ' - ACCURACY')\n",
    "    plt.xlabel(parameter)\n",
    "    plt.ylabel('Accuracy')\n",
    "    plt.axhline(1.0, linestyle='--', color='grey')\n",
    "    plt.axhline(baseline, linestyle='--', color='grey')\n",
    "    plt.plot(metrics['accuracy_train'], label = 'treino')\n",
    "    plt.plot(metrics['accuracy_test'], label = 'teste')\n",
    "    plt.legend(loc='best')\n",
    "    plt.show()\n",
    "\n",
    "    plt.subplot()\n",
    "    plt.title(name + ' - F1 SCORE')\n",
    "    plt.xlabel('Altura da árvore')\n",
    "    plt.ylabel('f1 score')\n",
    "    plt.axhline(1.0, linestyle='--', color='grey')\n",
    "    plt.axhline(baseline, linestyle='--', color='grey')\n",
    "    plt.plot(metrics['f1_train'], label = 'treino')\n",
    "    plt.plot(metrics['f1_test'], label = 'teste')\n",
    "    plt.legend(loc='best')\n",
    "    plt.show()"
   ]
  },
  {
   "cell_type": "markdown",
   "metadata": {},
   "source": [
    "### 2.1 Naive Bayes - Baseline"
   ]
  },
  {
   "cell_type": "markdown",
   "metadata": {},
   "source": [
    "O algoritmo Naive Bayes, no qual é calculada a probabilidade condicional de cada feature dado o rótulo observado. Dado que não conhecemos a distribuição dos dados e, levando em consideração que fenômenos complexos tendem à distribuição normal, será utlizada a implementação Gaussian Naive Bayes"
   ]
  },
  {
   "cell_type": "code",
   "execution_count": 64,
   "metadata": {},
   "outputs": [
    {
     "name": "stdout",
     "output_type": "stream",
     "text": [
      "Train\n",
      "  Accuracy: 0.917\n",
      "  Precision: 0.980\n",
      "  Recall: 0.878\n",
      "  f1: 0.926\n",
      "\n",
      "Test\n",
      "  Accuracy: 0.918\n",
      "  Precision: 0.980\n",
      "  Recall: 0.880\n",
      "  f1: 0.927\n"
     ]
    }
   ],
   "source": [
    "baseline = Experiment()\n",
    "baseline.run_naive_bayes()\n",
    "baseline.print_results()"
   ]
  },
  {
   "cell_type": "markdown",
   "metadata": {},
   "source": [
    "### 2.2 Decision Trees"
   ]
  },
  {
   "cell_type": "markdown",
   "metadata": {},
   "source": [
    "Decision Tree é um classificador não paramétrico baseado na escolha de features de divisão das instâncias que reduza a entropia de cada divisão. Ou seja, a cada nível da árvore, o conjunto vai sendo subdivido a partir da feature que seja mais discriminativa. Se a árvore puder crescer livremente, os nós folha conterão, em cada folha, apenas instâncias do mesmo label (entropia zero) e, portanto, um grande ovefitting."
   ]
  },
  {
   "cell_type": "markdown",
   "metadata": {},
   "source": [
    "###### 2.2.1 Altura: ilimitada\n",
    "Como podemos observar, a altura ilimitada causou desempenho de 100% em todas as métricas, com resultado inferior no dado de teste, evidenciando o overfitting. Ainda sim, o f1 de teste superou o baseline."
   ]
  },
  {
   "cell_type": "code",
   "execution_count": 110,
   "metadata": {},
   "outputs": [
    {
     "name": "stdout",
     "output_type": "stream",
     "text": [
      "Train\n",
      "  Accuracy: 1.000\n",
      "  Precision: 1.000\n",
      "  Recall: 1.000\n",
      "  f1: 1.000\n",
      "\n",
      "Test\n",
      "  Accuracy: 0.946\n",
      "  Precision: 0.955\n",
      "  Recall: 0.955\n",
      "  f1: 0.955\n"
     ]
    }
   ],
   "source": [
    "no_prunning = Experiment()\n",
    "no_prunning.run_decision_tree(None)\n",
    "no_prunning.print_results()"
   ]
  },
  {
   "cell_type": "markdown",
   "metadata": {},
   "source": [
    "###### 2.2.2 Altura: variando de 1 a 30\n",
    "Para reduzir o problema do overfitting, e tentar melhorar o poder de generalização do nosso modelo, vamos testar diferente limites de altura para a árvore"
   ]
  },
  {
   "cell_type": "code",
   "execution_count": 138,
   "metadata": {
    "scrolled": true
   },
   "outputs": [
    {
     "name": "stderr",
     "output_type": "stream",
     "text": [
      "100%|██████████| 25/25 [00:14<00:00,  1.25it/s]\n"
     ]
    }
   ],
   "source": [
    "metrics={\n",
    "    'accuracy_train':[],\n",
    "    'precision_train':[],\n",
    "    'recall_train':[],\n",
    "    'f1_train':[],\n",
    "    'accuracy_test':[],\n",
    "    'precision_test':[],\n",
    "    'recall_test':[],\n",
    "    'f1_test':[]\n",
    "}\n",
    "\n",
    "for i in tqdm(range(1, 25+1)):\n",
    "    decision_tree = Experiment()\n",
    "    decision_tree.run_decision_tree(i)\n",
    "    metrics = save_results(decision_tree, metrics)"
   ]
  },
  {
   "cell_type": "markdown",
   "metadata": {},
   "source": [
    "**Inspecionando os resultado**"
   ]
  },
  {
   "cell_type": "code",
   "execution_count": 144,
   "metadata": {},
   "outputs": [
    {
     "name": "stdout",
     "output_type": "stream",
     "text": [
      "F1 score para altura\n",
      "1 :0.757\n",
      "2 :0.887\n",
      "3 :0.937\n",
      "4 :0.951\n",
      "5 :0.957\n",
      "6 :0.958\n",
      "7 :0.956\n",
      "8 :0.958\n",
      "9 :0.957\n",
      "10 :0.957\n",
      "11 :0.957\n",
      "12 :0.958\n",
      "13 :0.958\n",
      "14 :0.956\n",
      "15 :0.956\n",
      "16 :0.956\n",
      "17 :0.956\n",
      "18 :0.957\n",
      "19 :0.955\n",
      "20 :0.957\n",
      "21 :0.958\n",
      "22 :0.953\n",
      "23 :0.957\n",
      "24 :0.956\n",
      "25 :0.957\n"
     ]
    }
   ],
   "source": [
    "print('F1 score para altura')\n",
    "for i in range(1, 25+1):    \n",
    "    print(i, ':{:.3f}'.format(metrics['f1_test'][i-1]))"
   ]
  },
  {
   "cell_type": "code",
   "execution_count": 145,
   "metadata": {},
   "outputs": [
    {
     "data": {
      "image/png": "[encoded data removed]",
      "text/plain": [
       "<Figure size 432x288 with 1 Axes>"
      ]
     },
     "metadata": {
      "needs_background": "light"
     },
     "output_type": "display_data"
    },
    {
     "data": {
      "image/png": "[encoded data removed]",
      "text/plain": [
       "<Figure size 432x288 with 1 Axes>"
      ]
     },
     "metadata": {
      "needs_background": "light"
     },
     "output_type": "display_data"
    }
   ],
   "source": [
    "plot_results(metrics, baseline.mean_f1_test, name='Decision Tree', parameter='Altura')"
   ]
  },
  {
   "cell_type": "markdown",
   "metadata": {},
   "source": [
    "**Análise Decision Tree**\n",
    "\n",
    "Por meio de experimentos não demonstrados aqui, a árvore atinge seu tamanho total com altura 25. A partir da altura 5, o desempenho de teste não apresenta melhoria relevante, ao tempo em que o desempenho de treino continua aumentando até a altura 25 evidenciando o overfitting a partir desse ponto. Para altura 5, a árvore de decisão, apesar de ser um modelos simples, obteve desempenho f1 melhor do que o baseline: 0.958 contra 0.927\n",
    "\n",
    "**F1 Baseline...........0.927**<br>\n",
    "**F1 best DT (depth=5)0.958**"
   ]
  },
  {
   "cell_type": "code",
   "execution_count": 150,
   "metadata": {},
   "outputs": [
    {
     "name": "stdout",
     "output_type": "stream",
     "text": [
      "Train\n",
      "  Accuracy: 0.965\n",
      "  Precision: 0.983\n",
      "  Recall: 0.958\n",
      "  f1: 0.971\n",
      "\n",
      "Test\n",
      "  Accuracy: 0.949\n",
      "  Precision: 0.971\n",
      "  Recall: 0.944\n",
      "  f1: 0.957\n"
     ]
    }
   ],
   "source": [
    "best_decision_tree = Experiment()\n",
    "best_decision_tree.run_decision_tree(5)\n",
    "best_decision_tree.print_results()"
   ]
  },
  {
   "cell_type": "markdown",
   "metadata": {},
   "source": [
    "### 3.2 SVM\n",
    "Explicar sobre o SVM"
   ]
  },
  {
   "cell_type": "markdown",
   "metadata": {},
   "source": [
    "##### 3.2.1 Linear Kernel\n",
    "Explicar sobre o kernel"
   ]
  },
  {
   "cell_type": "code",
   "execution_count": 31,
   "metadata": {},
   "outputs": [
    {
     "name": "stdout",
     "output_type": "stream",
     "text": [
      "fold 1 fold 2 fold 3 fold 4 fold 5 \n",
      "\n",
      "Train\n",
      "  Accuracy: 0.914\n",
      "  Precision: 0.952\n",
      "  Recall: 0.901\n",
      "  f1: 0.926\n",
      "\n",
      "Test\n",
      "  Accuracy: 0.912\n",
      "  Precision: 0.951\n",
      "  Recall: 0.899\n",
      "  f1: 0.924\n"
     ]
    }
   ],
   "source": [
    "linear_svm = Experiment()\n",
    "linear_svm.run_svm('linear')\n",
    "linear_svm.print_results()"
   ]
  },
  {
   "cell_type": "markdown",
   "metadata": {},
   "source": [
    "##### 3.2.2 Sigmoid Kernel\n",
    "Explicar sobre o kernel"
   ]
  },
  {
   "cell_type": "code",
   "execution_count": 29,
   "metadata": {},
   "outputs": [
    {
     "name": "stdout",
     "output_type": "stream",
     "text": [
      "fold 1 fold 2 fold 3 fold 4 fold 5 \n",
      "\n",
      "Train\n",
      "  Accuracy: 0.746\n",
      "  Precision: 0.720\n",
      "  Recall: 0.937\n",
      "  f1: 0.814\n",
      "\n",
      "Test\n",
      "  Accuracy: 0.744\n",
      "  Precision: 0.719\n",
      "  Recall: 0.937\n",
      "  f1: 0.813\n"
     ]
    }
   ],
   "source": [
    "sigmoid_svm = Experiment()\n",
    "sigmoid_svm.run_svm('sigmoid')\n",
    "sigmoid_svm.print_results()"
   ]
  },
  {
   "cell_type": "markdown",
   "metadata": {},
   "source": [
    "##### 3.2.3 Polinomial Kernel\n",
    "Explicar sobre o kernel"
   ]
  },
  {
   "cell_type": "code",
   "execution_count": 28,
   "metadata": {},
   "outputs": [
    {
     "name": "stdout",
     "output_type": "stream",
     "text": [
      "fold 1 fold 2 fold 3 fold 4 fold 5 \n",
      "\n",
      "Train\n",
      "  Accuracy: 0.613\n",
      "  Precision: 0.607\n",
      "  Recall: 0.995\n",
      "  f1: 0.754\n",
      "\n",
      "Test\n",
      "  Accuracy: 0.613\n",
      "  Precision: 0.607\n",
      "  Recall: 0.995\n",
      "  f1: 0.754\n"
     ]
    }
   ],
   "source": [
    "poly_svm = Experiment()\n",
    "poly_svm.run_svm('poly')\n",
    "poly_svm.print_results()"
   ]
  },
  {
   "cell_type": "markdown",
   "metadata": {},
   "source": [
    "##### 3.2.4 RBF Kernel\n",
    "Explicar sobre o Kernel"
   ]
  },
  {
   "cell_type": "code",
   "execution_count": 30,
   "metadata": {},
   "outputs": [
    {
     "name": "stdout",
     "output_type": "stream",
     "text": [
      "fold 1 fold 2 fold 3 fold 4 fold 5 \n",
      "\n",
      "Train\n",
      "  Accuracy: 0.823\n",
      "  Precision: 0.817\n",
      "  Recall: 0.905\n",
      "  f1: 0.859\n",
      "\n",
      "Test\n",
      "  Accuracy: 0.822\n",
      "  Precision: 0.816\n",
      "  Recall: 0.905\n",
      "  f1: 0.858\n"
     ]
    }
   ],
   "source": [
    "rbf_svm = Experiment()\n",
    "rbf_svm.run_svm('rbf')\n",
    "rbf_svm.print_results()"
   ]
  },
  {
   "cell_type": "markdown",
   "metadata": {},
   "source": [
    "##### 3.2.5 SVM - Resultado comparativo entre os Kernels"
   ]
  },
  {
   "cell_type": "code",
   "execution_count": null,
   "metadata": {},
   "outputs": [],
   "source": [
    "metrics={\n",
    "    'accuracy_train':[linear_svm.],\n",
    "    'precision_train':[],\n",
    "    'recall_train':[],\n",
    "    'f1_train':[],\n",
    "    'accuracy_test':[],\n",
    "    'precision_test':[],\n",
    "    'recall_test':[],\n",
    "    'f1_test':[]\n",
    "}"
   ]
  },
  {
   "cell_type": "markdown",
   "metadata": {},
   "source": [
    "### 3.3 kNN"
   ]
  },
  {
   "cell_type": "code",
   "execution_count": null,
   "metadata": {},
   "outputs": [],
   "source": []
  },
  {
   "cell_type": "code",
   "execution_count": null,
   "metadata": {},
   "outputs": [],
   "source": []
  },
  {
   "cell_type": "markdown",
   "metadata": {},
   "source": [
    "### 3.4 Random Forest"
   ]
  },
  {
   "cell_type": "code",
   "execution_count": null,
   "metadata": {},
   "outputs": [],
   "source": []
  },
  {
   "cell_type": "code",
   "execution_count": null,
   "metadata": {},
   "outputs": [],
   "source": []
  },
  {
   "cell_type": "markdown",
   "metadata": {},
   "source": [
    "### 3.5 Gradient Tree Boosting"
   ]
  },
  {
   "cell_type": "code",
   "execution_count": null,
   "metadata": {},
   "outputs": [],
   "source": []
  },
  {
   "cell_type": "code",
   "execution_count": null,
   "metadata": {},
   "outputs": [],
   "source": []
  }
 ],
 "metadata": {
  "kernelspec": {
   "display_name": "Python 3",
   "language": "python",
   "name": "python3"
  },
  "language_info": {
   "codemirror_mode": {
    "name": "ipython",
    "version": 3
   },
   "file_extension": ".py",
   "mimetype": "text/x-python",
   "name": "python",
   "nbconvert_exporter": "python",
   "pygments_lexer": "ipython3",
   "version": "3.7.3"
  }
 },
 "nbformat": 4,
 "nbformat_minor": 2
}
