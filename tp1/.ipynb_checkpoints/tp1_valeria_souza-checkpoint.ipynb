{
 "cells": [
  {
   "cell_type": "markdown",
   "metadata": {},
   "source": [
    "**Universidade Federal de Minas Gerais**  \n",
    "**Departamento de Ciência da Computação**  \n",
    "**Aprendizado de Máquina**  \n",
    "**Valéria Pereira de Souza**    \n",
    "\n",
    "## Trabalho Prático 1 - Classificação de Exoplanetas"
   ]
  },
  {
   "cell_type": "markdown",
   "metadata": {},
   "source": [
    "# Apresentação do problema\n",
    "\n",
    "Um KOI - Kepler Object of Interest é uma corpo celeste que se suspeita ser um exoplaneta. A partir da observação de diversas características, o corpo é classificado como KOI e posteriormente, após novas verificações é feita a classificação dos KOI em \"Confirmado\" ou \"Falso positivo\". \n",
    "\n",
    "O objetivo é comparar o desempenho de diversos classificadores na tarefa de classificação automática de um KOI como exoplaneta confirmado ou falso positivo."
   ]
  },
  {
   "cell_type": "markdown",
   "metadata": {},
   "source": [
    "## 1. Inspeção, limpeza e preparação dos dados"
   ]
  },
  {
   "cell_type": "code",
   "execution_count": 68,
   "metadata": {},
   "outputs": [],
   "source": [
    "import pandas as pd\n",
    "import matplotlib.pyplot as plt\n",
    "import numpy as np\n",
    "from tqdm import tqdm_notebook as tqdm\n",
    "from sklearn.preprocessing import LabelEncoder\n",
    "from sklearn.preprocessing import minmax_scale\n",
    "from sklearn.naive_bayes import GaussianNB\n",
    "from sklearn.svm import SVC\n",
    "from sklearn.model_selection import KFold\n",
    "from sklearn.tree import DecisionTreeClassifier\n",
    "from sklearn.neighbors import KNeighborsClassifier\n",
    "from sklearn.ensemble import RandomForestClassifier, GradientBoostingClassifier\n",
    "from sklearn.metrics import accuracy_score, precision_score, recall_score, f1_score, roc_curve, auc\n",
    "import warnings\n",
    "\n",
    "warnings.filterwarnings('ignore')"
   ]
  },
  {
   "cell_type": "code",
   "execution_count": 3,
   "metadata": {},
   "outputs": [],
   "source": [
    "INPUT_FILEPATH = \"koi_data.csv\"\n",
    "TARGET = \"koi_disposition\"\n",
    "N_FOLDS = 5"
   ]
  },
  {
   "cell_type": "markdown",
   "metadata": {},
   "source": [
    "###### Inspeção Inicial"
   ]
  },
  {
   "cell_type": "code",
   "execution_count": 4,
   "metadata": {},
   "outputs": [
    {
     "data": {
      "text/html": [
       "<div>\n",
       "<style scoped>\n",
       "    .dataframe tbody tr th:only-of-type {\n",
       "        vertical-align: middle;\n",
       "    }\n",
       "\n",
       "    .dataframe tbody tr th {\n",
       "        vertical-align: top;\n",
       "    }\n",
       "\n",
       "    .dataframe thead th {\n",
       "        text-align: right;\n",
       "    }\n",
       "</style>\n",
       "<table border=\"1\" class=\"dataframe\">\n",
       "  <thead>\n",
       "    <tr style=\"text-align: right;\">\n",
       "      <th></th>\n",
       "      <th>kepoi_name</th>\n",
       "      <th>koi_disposition</th>\n",
       "      <th>koi_period</th>\n",
       "      <th>koi_impact</th>\n",
       "      <th>koi_duration</th>\n",
       "      <th>koi_depth</th>\n",
       "      <th>koi_ror</th>\n",
       "      <th>koi_srho</th>\n",
       "      <th>koi_prad</th>\n",
       "      <th>koi_sma</th>\n",
       "      <th>...</th>\n",
       "      <th>koi_fwm_srao</th>\n",
       "      <th>koi_fwm_sdeco</th>\n",
       "      <th>koi_fwm_prao</th>\n",
       "      <th>koi_fwm_pdeco</th>\n",
       "      <th>koi_dicco_mra</th>\n",
       "      <th>koi_dicco_mdec</th>\n",
       "      <th>koi_dicco_msky</th>\n",
       "      <th>koi_dikco_mra</th>\n",
       "      <th>koi_dikco_mdec</th>\n",
       "      <th>koi_dikco_msky</th>\n",
       "    </tr>\n",
       "  </thead>\n",
       "  <tbody>\n",
       "    <tr>\n",
       "      <th>0</th>\n",
       "      <td>K00752.01</td>\n",
       "      <td>CONFIRMED</td>\n",
       "      <td>9.48804</td>\n",
       "      <td>0.146</td>\n",
       "      <td>2.95750</td>\n",
       "      <td>615.8</td>\n",
       "      <td>0.02234</td>\n",
       "      <td>3.20796</td>\n",
       "      <td>2.26</td>\n",
       "      <td>0.0853</td>\n",
       "      <td>...</td>\n",
       "      <td>0.430</td>\n",
       "      <td>0.940</td>\n",
       "      <td>-0.00020</td>\n",
       "      <td>-0.00055</td>\n",
       "      <td>-0.010</td>\n",
       "      <td>0.200</td>\n",
       "      <td>0.200</td>\n",
       "      <td>0.080</td>\n",
       "      <td>0.310</td>\n",
       "      <td>0.320</td>\n",
       "    </tr>\n",
       "    <tr>\n",
       "      <th>1</th>\n",
       "      <td>K00752.02</td>\n",
       "      <td>CONFIRMED</td>\n",
       "      <td>54.41838</td>\n",
       "      <td>0.586</td>\n",
       "      <td>4.50700</td>\n",
       "      <td>874.8</td>\n",
       "      <td>0.02795</td>\n",
       "      <td>3.02368</td>\n",
       "      <td>2.83</td>\n",
       "      <td>0.2734</td>\n",
       "      <td>...</td>\n",
       "      <td>-0.630</td>\n",
       "      <td>1.230</td>\n",
       "      <td>0.00066</td>\n",
       "      <td>-0.00105</td>\n",
       "      <td>0.390</td>\n",
       "      <td>0.000</td>\n",
       "      <td>0.390</td>\n",
       "      <td>0.490</td>\n",
       "      <td>0.120</td>\n",
       "      <td>0.500</td>\n",
       "    </tr>\n",
       "    <tr>\n",
       "      <th>2</th>\n",
       "      <td>K00754.01</td>\n",
       "      <td>FALSE POSITIVE</td>\n",
       "      <td>1.73695</td>\n",
       "      <td>1.276</td>\n",
       "      <td>2.40641</td>\n",
       "      <td>8079.2</td>\n",
       "      <td>0.38739</td>\n",
       "      <td>0.22080</td>\n",
       "      <td>33.46</td>\n",
       "      <td>0.0267</td>\n",
       "      <td>...</td>\n",
       "      <td>-0.111</td>\n",
       "      <td>0.002</td>\n",
       "      <td>0.00302</td>\n",
       "      <td>-0.00142</td>\n",
       "      <td>-0.249</td>\n",
       "      <td>0.147</td>\n",
       "      <td>0.289</td>\n",
       "      <td>-0.257</td>\n",
       "      <td>0.099</td>\n",
       "      <td>0.276</td>\n",
       "    </tr>\n",
       "    <tr>\n",
       "      <th>3</th>\n",
       "      <td>K00755.01</td>\n",
       "      <td>CONFIRMED</td>\n",
       "      <td>2.52559</td>\n",
       "      <td>0.701</td>\n",
       "      <td>1.65450</td>\n",
       "      <td>603.3</td>\n",
       "      <td>0.02406</td>\n",
       "      <td>1.98635</td>\n",
       "      <td>2.75</td>\n",
       "      <td>0.0374</td>\n",
       "      <td>...</td>\n",
       "      <td>-0.010</td>\n",
       "      <td>0.230</td>\n",
       "      <td>0.00008</td>\n",
       "      <td>-0.00007</td>\n",
       "      <td>0.030</td>\n",
       "      <td>-0.090</td>\n",
       "      <td>0.100</td>\n",
       "      <td>0.070</td>\n",
       "      <td>0.020</td>\n",
       "      <td>0.070</td>\n",
       "    </tr>\n",
       "    <tr>\n",
       "      <th>4</th>\n",
       "      <td>K00114.01</td>\n",
       "      <td>FALSE POSITIVE</td>\n",
       "      <td>7.36179</td>\n",
       "      <td>1.169</td>\n",
       "      <td>5.02200</td>\n",
       "      <td>233.7</td>\n",
       "      <td>0.18339</td>\n",
       "      <td>0.00485</td>\n",
       "      <td>39.21</td>\n",
       "      <td>0.0820</td>\n",
       "      <td>...</td>\n",
       "      <td>-13.450</td>\n",
       "      <td>24.090</td>\n",
       "      <td>0.00303</td>\n",
       "      <td>-0.00555</td>\n",
       "      <td>-4.506</td>\n",
       "      <td>7.710</td>\n",
       "      <td>8.930</td>\n",
       "      <td>-4.537</td>\n",
       "      <td>7.713</td>\n",
       "      <td>8.948</td>\n",
       "    </tr>\n",
       "  </tbody>\n",
       "</table>\n",
       "<p>5 rows × 43 columns</p>\n",
       "</div>"
      ],
      "text/plain": [
       "  kepoi_name koi_disposition  koi_period  koi_impact  koi_duration  koi_depth  \\\n",
       "0  K00752.01       CONFIRMED     9.48804       0.146       2.95750      615.8   \n",
       "1  K00752.02       CONFIRMED    54.41838       0.586       4.50700      874.8   \n",
       "2  K00754.01  FALSE POSITIVE     1.73695       1.276       2.40641     8079.2   \n",
       "3  K00755.01       CONFIRMED     2.52559       0.701       1.65450      603.3   \n",
       "4  K00114.01  FALSE POSITIVE     7.36179       1.169       5.02200      233.7   \n",
       "\n",
       "   koi_ror  koi_srho  koi_prad  koi_sma  ...  koi_fwm_srao  koi_fwm_sdeco  \\\n",
       "0  0.02234   3.20796      2.26   0.0853  ...         0.430          0.940   \n",
       "1  0.02795   3.02368      2.83   0.2734  ...        -0.630          1.230   \n",
       "2  0.38739   0.22080     33.46   0.0267  ...        -0.111          0.002   \n",
       "3  0.02406   1.98635      2.75   0.0374  ...        -0.010          0.230   \n",
       "4  0.18339   0.00485     39.21   0.0820  ...       -13.450         24.090   \n",
       "\n",
       "   koi_fwm_prao  koi_fwm_pdeco  koi_dicco_mra  koi_dicco_mdec  koi_dicco_msky  \\\n",
       "0      -0.00020       -0.00055         -0.010           0.200           0.200   \n",
       "1       0.00066       -0.00105          0.390           0.000           0.390   \n",
       "2       0.00302       -0.00142         -0.249           0.147           0.289   \n",
       "3       0.00008       -0.00007          0.030          -0.090           0.100   \n",
       "4       0.00303       -0.00555         -4.506           7.710           8.930   \n",
       "\n",
       "   koi_dikco_mra  koi_dikco_mdec  koi_dikco_msky  \n",
       "0          0.080           0.310           0.320  \n",
       "1          0.490           0.120           0.500  \n",
       "2         -0.257           0.099           0.276  \n",
       "3          0.070           0.020           0.070  \n",
       "4         -4.537           7.713           8.948  \n",
       "\n",
       "[5 rows x 43 columns]"
      ]
     },
     "execution_count": 4,
     "metadata": {},
     "output_type": "execute_result"
    }
   ],
   "source": [
    "data_raw = pd.read_csv(INPUT_FILEPATH)\n",
    "data_raw.head(5)"
   ]
  },
  {
   "cell_type": "markdown",
   "metadata": {},
   "source": [
    "Observarmos 43 colunas, das quais uma se refere ao código de cada KOI e outra se refere à anotação do dado de interesse (y)."
   ]
  },
  {
   "cell_type": "markdown",
   "metadata": {},
   "source": [
    "###### Tipos de dados"
   ]
  },
  {
   "cell_type": "code",
   "execution_count": 5,
   "metadata": {},
   "outputs": [
    {
     "data": {
      "text/plain": [
       "kepoi_name           object\n",
       "koi_disposition      object\n",
       "koi_period          float64\n",
       "koi_impact          float64\n",
       "koi_duration        float64\n",
       "koi_depth           float64\n",
       "koi_ror             float64\n",
       "koi_srho            float64\n",
       "koi_prad            float64\n",
       "koi_sma             float64\n",
       "koi_incl            float64\n",
       "koi_teq             float64\n",
       "koi_insol           float64\n",
       "koi_dor             float64\n",
       "koi_max_sngle_ev    float64\n",
       "koi_max_mult_ev     float64\n",
       "koi_model_snr       float64\n",
       "koi_steff           float64\n",
       "koi_slogg           float64\n",
       "koi_smet            float64\n",
       "koi_srad            float64\n",
       "koi_smass           float64\n",
       "koi_kepmag          float64\n",
       "koi_gmag            float64\n",
       "koi_rmag            float64\n",
       "koi_imag            float64\n",
       "koi_zmag            float64\n",
       "koi_jmag            float64\n",
       "koi_hmag            float64\n",
       "koi_kmag            float64\n",
       "koi_fwm_stat_sig    float64\n",
       "koi_fwm_sra         float64\n",
       "koi_fwm_sdec        float64\n",
       "koi_fwm_srao        float64\n",
       "koi_fwm_sdeco       float64\n",
       "koi_fwm_prao        float64\n",
       "koi_fwm_pdeco       float64\n",
       "koi_dicco_mra       float64\n",
       "koi_dicco_mdec      float64\n",
       "koi_dicco_msky      float64\n",
       "koi_dikco_mra       float64\n",
       "koi_dikco_mdec      float64\n",
       "koi_dikco_msky      float64\n",
       "dtype: object"
      ]
     },
     "execution_count": 5,
     "metadata": {},
     "output_type": "execute_result"
    }
   ],
   "source": [
    "data_raw.dtypes"
   ]
  },
  {
   "cell_type": "markdown",
   "metadata": {},
   "source": [
    "###### Prepração do X, y"
   ]
  },
  {
   "cell_type": "markdown",
   "metadata": {},
   "source": [
    "O dataset é composto majoritariamente por dados numéricos contínuos, não havendo necessidade de transformações de features categóricas. A coluna kepoi_name traz indentificadores únicos para cada instância. Dessa forma, não é uma feature discriminativa entre as classes e será desconsiderada. \n",
    "\n",
    "Após reservada em variável à parte, a coluna com as respostas também será removida do DataFrame"
   ]
  },
  {
   "cell_type": "code",
   "execution_count": 6,
   "metadata": {},
   "outputs": [],
   "source": [
    "y = data_raw[TARGET]\n",
    "X = data_raw.drop(columns=['kepoi_name', 'koi_disposition'])"
   ]
  },
  {
   "cell_type": "markdown",
   "metadata": {},
   "source": [
    "###### Valores faltantes\n",
    "Não existem valores faltantes"
   ]
  },
  {
   "cell_type": "code",
   "execution_count": 7,
   "metadata": {},
   "outputs": [
    {
     "data": {
      "text/plain": [
       "False"
      ]
     },
     "execution_count": 7,
     "metadata": {},
     "output_type": "execute_result"
    }
   ],
   "source": [
    "X.isnull().values.any()"
   ]
  },
  {
   "cell_type": "markdown",
   "metadata": {},
   "source": [
    "###### Normalização"
   ]
  },
  {
   "cell_type": "code",
   "execution_count": 8,
   "metadata": {},
   "outputs": [
    {
     "data": {
      "text/html": [
       "<div>\n",
       "<style scoped>\n",
       "    .dataframe tbody tr th:only-of-type {\n",
       "        vertical-align: middle;\n",
       "    }\n",
       "\n",
       "    .dataframe tbody tr th {\n",
       "        vertical-align: top;\n",
       "    }\n",
       "\n",
       "    .dataframe thead th {\n",
       "        text-align: right;\n",
       "    }\n",
       "</style>\n",
       "<table border=\"1\" class=\"dataframe\">\n",
       "  <thead>\n",
       "    <tr style=\"text-align: right;\">\n",
       "      <th></th>\n",
       "      <th>koi_period</th>\n",
       "      <th>koi_impact</th>\n",
       "      <th>koi_duration</th>\n",
       "      <th>koi_depth</th>\n",
       "      <th>koi_ror</th>\n",
       "      <th>koi_srho</th>\n",
       "      <th>koi_prad</th>\n",
       "      <th>koi_sma</th>\n",
       "      <th>koi_incl</th>\n",
       "      <th>koi_teq</th>\n",
       "      <th>...</th>\n",
       "      <th>koi_fwm_srao</th>\n",
       "      <th>koi_fwm_sdeco</th>\n",
       "      <th>koi_fwm_prao</th>\n",
       "      <th>koi_fwm_pdeco</th>\n",
       "      <th>koi_dicco_mra</th>\n",
       "      <th>koi_dicco_mdec</th>\n",
       "      <th>koi_dicco_msky</th>\n",
       "      <th>koi_dikco_mra</th>\n",
       "      <th>koi_dikco_mdec</th>\n",
       "      <th>koi_dikco_msky</th>\n",
       "    </tr>\n",
       "  </thead>\n",
       "  <tbody>\n",
       "    <tr>\n",
       "      <th>count</th>\n",
       "      <td>5202.000000</td>\n",
       "      <td>5202.000000</td>\n",
       "      <td>5202.000000</td>\n",
       "      <td>5202.000000</td>\n",
       "      <td>5202.000000</td>\n",
       "      <td>5202.000000</td>\n",
       "      <td>5202.000000</td>\n",
       "      <td>5202.000000</td>\n",
       "      <td>5202.000000</td>\n",
       "      <td>5202.000000</td>\n",
       "      <td>...</td>\n",
       "      <td>5202.000000</td>\n",
       "      <td>5202.000000</td>\n",
       "      <td>5202.000000</td>\n",
       "      <td>5202.000000</td>\n",
       "      <td>5202.000000</td>\n",
       "      <td>5202.000000</td>\n",
       "      <td>5202.000000</td>\n",
       "      <td>5202.000000</td>\n",
       "      <td>5202.000000</td>\n",
       "      <td>5202.000000</td>\n",
       "    </tr>\n",
       "    <tr>\n",
       "      <th>mean</th>\n",
       "      <td>37.032237</td>\n",
       "      <td>0.717106</td>\n",
       "      <td>5.607025</td>\n",
       "      <td>21340.318993</td>\n",
       "      <td>0.235205</td>\n",
       "      <td>3.415370</td>\n",
       "      <td>112.230798</td>\n",
       "      <td>0.158146</td>\n",
       "      <td>81.181413</td>\n",
       "      <td>1143.721069</td>\n",
       "      <td>...</td>\n",
       "      <td>-0.355681</td>\n",
       "      <td>-0.805629</td>\n",
       "      <td>-0.000263</td>\n",
       "      <td>0.000439</td>\n",
       "      <td>-0.049743</td>\n",
       "      <td>-0.087413</td>\n",
       "      <td>1.930251</td>\n",
       "      <td>-0.038402</td>\n",
       "      <td>-0.098738</td>\n",
       "      <td>1.920226</td>\n",
       "    </tr>\n",
       "    <tr>\n",
       "      <th>std</th>\n",
       "      <td>88.417985</td>\n",
       "      <td>2.628207</td>\n",
       "      <td>6.962634</td>\n",
       "      <td>66989.808550</td>\n",
       "      <td>2.586213</td>\n",
       "      <td>25.131368</td>\n",
       "      <td>3699.799318</td>\n",
       "      <td>0.241792</td>\n",
       "      <td>16.308839</td>\n",
       "      <td>775.788868</td>\n",
       "      <td>...</td>\n",
       "      <td>10.978677</td>\n",
       "      <td>14.741473</td>\n",
       "      <td>0.065707</td>\n",
       "      <td>0.077519</td>\n",
       "      <td>2.465670</td>\n",
       "      <td>2.746534</td>\n",
       "      <td>3.147553</td>\n",
       "      <td>2.465094</td>\n",
       "      <td>2.734732</td>\n",
       "      <td>3.142764</td>\n",
       "    </tr>\n",
       "    <tr>\n",
       "      <th>min</th>\n",
       "      <td>0.306940</td>\n",
       "      <td>0.000000</td>\n",
       "      <td>0.104600</td>\n",
       "      <td>0.800000</td>\n",
       "      <td>0.001290</td>\n",
       "      <td>0.000040</td>\n",
       "      <td>0.080000</td>\n",
       "      <td>0.007200</td>\n",
       "      <td>2.290000</td>\n",
       "      <td>92.000000</td>\n",
       "      <td>...</td>\n",
       "      <td>-275.600000</td>\n",
       "      <td>-397.620000</td>\n",
       "      <td>-4.000000</td>\n",
       "      <td>-0.800000</td>\n",
       "      <td>-21.500000</td>\n",
       "      <td>-75.900000</td>\n",
       "      <td>0.000000</td>\n",
       "      <td>-23.600000</td>\n",
       "      <td>-76.600000</td>\n",
       "      <td>0.000000</td>\n",
       "    </tr>\n",
       "    <tr>\n",
       "      <th>25%</th>\n",
       "      <td>2.213962</td>\n",
       "      <td>0.226000</td>\n",
       "      <td>2.500250</td>\n",
       "      <td>176.800000</td>\n",
       "      <td>0.013058</td>\n",
       "      <td>0.176092</td>\n",
       "      <td>1.460000</td>\n",
       "      <td>0.033000</td>\n",
       "      <td>81.930000</td>\n",
       "      <td>615.250000</td>\n",
       "      <td>...</td>\n",
       "      <td>-0.500000</td>\n",
       "      <td>-0.570000</td>\n",
       "      <td>-0.000240</td>\n",
       "      <td>-0.000240</td>\n",
       "      <td>-0.270000</td>\n",
       "      <td>-0.291500</td>\n",
       "      <td>0.128250</td>\n",
       "      <td>-0.265250</td>\n",
       "      <td>-0.320000</td>\n",
       "      <td>0.180000</td>\n",
       "    </tr>\n",
       "    <tr>\n",
       "      <th>50%</th>\n",
       "      <td>7.386755</td>\n",
       "      <td>0.610000</td>\n",
       "      <td>3.805500</td>\n",
       "      <td>495.950000</td>\n",
       "      <td>0.024185</td>\n",
       "      <td>0.748045</td>\n",
       "      <td>2.600000</td>\n",
       "      <td>0.073650</td>\n",
       "      <td>87.890000</td>\n",
       "      <td>948.000000</td>\n",
       "      <td>...</td>\n",
       "      <td>0.000000</td>\n",
       "      <td>-0.030000</td>\n",
       "      <td>0.000000</td>\n",
       "      <td>0.000000</td>\n",
       "      <td>0.000000</td>\n",
       "      <td>0.000000</td>\n",
       "      <td>0.460000</td>\n",
       "      <td>-0.007000</td>\n",
       "      <td>-0.018000</td>\n",
       "      <td>0.453000</td>\n",
       "    </tr>\n",
       "    <tr>\n",
       "      <th>75%</th>\n",
       "      <td>23.448117</td>\n",
       "      <td>0.923750</td>\n",
       "      <td>6.000750</td>\n",
       "      <td>2120.525000</td>\n",
       "      <td>0.171260</td>\n",
       "      <td>2.267063</td>\n",
       "      <td>21.645000</td>\n",
       "      <td>0.158200</td>\n",
       "      <td>89.520000</td>\n",
       "      <td>1482.000000</td>\n",
       "      <td>...</td>\n",
       "      <td>0.500000</td>\n",
       "      <td>0.450000</td>\n",
       "      <td>0.000260</td>\n",
       "      <td>0.000280</td>\n",
       "      <td>0.230000</td>\n",
       "      <td>0.230000</td>\n",
       "      <td>2.570000</td>\n",
       "      <td>0.226250</td>\n",
       "      <td>0.250000</td>\n",
       "      <td>2.420000</td>\n",
       "    </tr>\n",
       "    <tr>\n",
       "      <th>max</th>\n",
       "      <td>1071.232620</td>\n",
       "      <td>100.806000</td>\n",
       "      <td>138.540000</td>\n",
       "      <td>864260.000000</td>\n",
       "      <td>99.870650</td>\n",
       "      <td>918.752390</td>\n",
       "      <td>200346.000000</td>\n",
       "      <td>2.034500</td>\n",
       "      <td>90.000000</td>\n",
       "      <td>9791.000000</td>\n",
       "      <td>...</td>\n",
       "      <td>97.780000</td>\n",
       "      <td>98.780000</td>\n",
       "      <td>1.190000</td>\n",
       "      <td>5.000000</td>\n",
       "      <td>45.680000</td>\n",
       "      <td>27.500000</td>\n",
       "      <td>88.600000</td>\n",
       "      <td>46.570000</td>\n",
       "      <td>31.200000</td>\n",
       "      <td>89.600000</td>\n",
       "    </tr>\n",
       "  </tbody>\n",
       "</table>\n",
       "<p>8 rows × 41 columns</p>\n",
       "</div>"
      ],
      "text/plain": [
       "        koi_period   koi_impact  koi_duration      koi_depth      koi_ror  \\\n",
       "count  5202.000000  5202.000000   5202.000000    5202.000000  5202.000000   \n",
       "mean     37.032237     0.717106      5.607025   21340.318993     0.235205   \n",
       "std      88.417985     2.628207      6.962634   66989.808550     2.586213   \n",
       "min       0.306940     0.000000      0.104600       0.800000     0.001290   \n",
       "25%       2.213962     0.226000      2.500250     176.800000     0.013058   \n",
       "50%       7.386755     0.610000      3.805500     495.950000     0.024185   \n",
       "75%      23.448117     0.923750      6.000750    2120.525000     0.171260   \n",
       "max    1071.232620   100.806000    138.540000  864260.000000    99.870650   \n",
       "\n",
       "          koi_srho       koi_prad      koi_sma     koi_incl      koi_teq  ...  \\\n",
       "count  5202.000000    5202.000000  5202.000000  5202.000000  5202.000000  ...   \n",
       "mean      3.415370     112.230798     0.158146    81.181413  1143.721069  ...   \n",
       "std      25.131368    3699.799318     0.241792    16.308839   775.788868  ...   \n",
       "min       0.000040       0.080000     0.007200     2.290000    92.000000  ...   \n",
       "25%       0.176092       1.460000     0.033000    81.930000   615.250000  ...   \n",
       "50%       0.748045       2.600000     0.073650    87.890000   948.000000  ...   \n",
       "75%       2.267063      21.645000     0.158200    89.520000  1482.000000  ...   \n",
       "max     918.752390  200346.000000     2.034500    90.000000  9791.000000  ...   \n",
       "\n",
       "       koi_fwm_srao  koi_fwm_sdeco  koi_fwm_prao  koi_fwm_pdeco  \\\n",
       "count   5202.000000    5202.000000   5202.000000    5202.000000   \n",
       "mean      -0.355681      -0.805629     -0.000263       0.000439   \n",
       "std       10.978677      14.741473      0.065707       0.077519   \n",
       "min     -275.600000    -397.620000     -4.000000      -0.800000   \n",
       "25%       -0.500000      -0.570000     -0.000240      -0.000240   \n",
       "50%        0.000000      -0.030000      0.000000       0.000000   \n",
       "75%        0.500000       0.450000      0.000260       0.000280   \n",
       "max       97.780000      98.780000      1.190000       5.000000   \n",
       "\n",
       "       koi_dicco_mra  koi_dicco_mdec  koi_dicco_msky  koi_dikco_mra  \\\n",
       "count    5202.000000     5202.000000     5202.000000    5202.000000   \n",
       "mean       -0.049743       -0.087413        1.930251      -0.038402   \n",
       "std         2.465670        2.746534        3.147553       2.465094   \n",
       "min       -21.500000      -75.900000        0.000000     -23.600000   \n",
       "25%        -0.270000       -0.291500        0.128250      -0.265250   \n",
       "50%         0.000000        0.000000        0.460000      -0.007000   \n",
       "75%         0.230000        0.230000        2.570000       0.226250   \n",
       "max        45.680000       27.500000       88.600000      46.570000   \n",
       "\n",
       "       koi_dikco_mdec  koi_dikco_msky  \n",
       "count     5202.000000     5202.000000  \n",
       "mean        -0.098738        1.920226  \n",
       "std          2.734732        3.142764  \n",
       "min        -76.600000        0.000000  \n",
       "25%         -0.320000        0.180000  \n",
       "50%         -0.018000        0.453000  \n",
       "75%          0.250000        2.420000  \n",
       "max         31.200000       89.600000  \n",
       "\n",
       "[8 rows x 41 columns]"
      ]
     },
     "execution_count": 8,
     "metadata": {},
     "output_type": "execute_result"
    }
   ],
   "source": [
    "X.describe()"
   ]
  },
  {
   "cell_type": "markdown",
   "metadata": {},
   "source": [
    "Observarmos grande variância na escala de valores das features. Esse fato pode representar um problema para algoritmos paramétricos uma vez que features com valores mais extremos influenciarão mais o resultado enviesando artificalmente os modelos. Para evitar esse tipo de problema, faremos um procedimento de feature scaling pela técnica de normalização no intervalo (0, 1)"
   ]
  },
  {
   "cell_type": "code",
   "execution_count": 9,
   "metadata": {
    "scrolled": true
   },
   "outputs": [
    {
     "data": {
      "text/html": [
       "<div>\n",
       "<style scoped>\n",
       "    .dataframe tbody tr th:only-of-type {\n",
       "        vertical-align: middle;\n",
       "    }\n",
       "\n",
       "    .dataframe tbody tr th {\n",
       "        vertical-align: top;\n",
       "    }\n",
       "\n",
       "    .dataframe thead th {\n",
       "        text-align: right;\n",
       "    }\n",
       "</style>\n",
       "<table border=\"1\" class=\"dataframe\">\n",
       "  <thead>\n",
       "    <tr style=\"text-align: right;\">\n",
       "      <th></th>\n",
       "      <th>0</th>\n",
       "      <th>1</th>\n",
       "      <th>2</th>\n",
       "      <th>3</th>\n",
       "      <th>4</th>\n",
       "      <th>5</th>\n",
       "      <th>6</th>\n",
       "      <th>7</th>\n",
       "      <th>8</th>\n",
       "      <th>9</th>\n",
       "      <th>...</th>\n",
       "      <th>31</th>\n",
       "      <th>32</th>\n",
       "      <th>33</th>\n",
       "      <th>34</th>\n",
       "      <th>35</th>\n",
       "      <th>36</th>\n",
       "      <th>37</th>\n",
       "      <th>38</th>\n",
       "      <th>39</th>\n",
       "      <th>40</th>\n",
       "    </tr>\n",
       "  </thead>\n",
       "  <tbody>\n",
       "    <tr>\n",
       "      <th>count</th>\n",
       "      <td>5202.000000</td>\n",
       "      <td>5202.000000</td>\n",
       "      <td>5202.000000</td>\n",
       "      <td>5202.000000</td>\n",
       "      <td>5202.000000</td>\n",
       "      <td>5202.000000</td>\n",
       "      <td>5202.000000</td>\n",
       "      <td>5202.000000</td>\n",
       "      <td>5202.000000</td>\n",
       "      <td>5202.000000</td>\n",
       "      <td>...</td>\n",
       "      <td>5202.000000</td>\n",
       "      <td>5202.000000</td>\n",
       "      <td>5202.000000</td>\n",
       "      <td>5202.000000</td>\n",
       "      <td>5202.000000</td>\n",
       "      <td>5202.000000</td>\n",
       "      <td>5202.000000</td>\n",
       "      <td>5202.000000</td>\n",
       "      <td>5202.000000</td>\n",
       "      <td>5202.000000</td>\n",
       "    </tr>\n",
       "    <tr>\n",
       "      <th>mean</th>\n",
       "      <td>0.034293</td>\n",
       "      <td>0.007114</td>\n",
       "      <td>0.039747</td>\n",
       "      <td>0.024691</td>\n",
       "      <td>0.002342</td>\n",
       "      <td>0.003717</td>\n",
       "      <td>0.000560</td>\n",
       "      <td>0.074457</td>\n",
       "      <td>0.899457</td>\n",
       "      <td>0.108436</td>\n",
       "      <td>...</td>\n",
       "      <td>0.737169</td>\n",
       "      <td>0.799384</td>\n",
       "      <td>0.770662</td>\n",
       "      <td>0.138007</td>\n",
       "      <td>0.319295</td>\n",
       "      <td>0.733197</td>\n",
       "      <td>0.021786</td>\n",
       "      <td>0.335779</td>\n",
       "      <td>0.709659</td>\n",
       "      <td>0.021431</td>\n",
       "    </tr>\n",
       "    <tr>\n",
       "      <th>std</th>\n",
       "      <td>0.082562</td>\n",
       "      <td>0.026072</td>\n",
       "      <td>0.050295</td>\n",
       "      <td>0.077511</td>\n",
       "      <td>0.025896</td>\n",
       "      <td>0.027354</td>\n",
       "      <td>0.018467</td>\n",
       "      <td>0.119268</td>\n",
       "      <td>0.185940</td>\n",
       "      <td>0.079986</td>\n",
       "      <td>...</td>\n",
       "      <td>0.029403</td>\n",
       "      <td>0.029697</td>\n",
       "      <td>0.012660</td>\n",
       "      <td>0.013365</td>\n",
       "      <td>0.036702</td>\n",
       "      <td>0.026562</td>\n",
       "      <td>0.035525</td>\n",
       "      <td>0.035130</td>\n",
       "      <td>0.025369</td>\n",
       "      <td>0.035075</td>\n",
       "    </tr>\n",
       "    <tr>\n",
       "      <th>min</th>\n",
       "      <td>0.000000</td>\n",
       "      <td>0.000000</td>\n",
       "      <td>0.000000</td>\n",
       "      <td>0.000000</td>\n",
       "      <td>0.000000</td>\n",
       "      <td>0.000000</td>\n",
       "      <td>0.000000</td>\n",
       "      <td>0.000000</td>\n",
       "      <td>0.000000</td>\n",
       "      <td>0.000000</td>\n",
       "      <td>...</td>\n",
       "      <td>0.000000</td>\n",
       "      <td>0.000000</td>\n",
       "      <td>0.000000</td>\n",
       "      <td>0.000000</td>\n",
       "      <td>0.000000</td>\n",
       "      <td>0.000000</td>\n",
       "      <td>0.000000</td>\n",
       "      <td>0.000000</td>\n",
       "      <td>0.000000</td>\n",
       "      <td>0.000000</td>\n",
       "    </tr>\n",
       "    <tr>\n",
       "      <th>25%</th>\n",
       "      <td>0.001781</td>\n",
       "      <td>0.002242</td>\n",
       "      <td>0.017305</td>\n",
       "      <td>0.000204</td>\n",
       "      <td>0.000118</td>\n",
       "      <td>0.000192</td>\n",
       "      <td>0.000007</td>\n",
       "      <td>0.012726</td>\n",
       "      <td>0.907992</td>\n",
       "      <td>0.053949</td>\n",
       "      <td>...</td>\n",
       "      <td>0.736783</td>\n",
       "      <td>0.799859</td>\n",
       "      <td>0.770667</td>\n",
       "      <td>0.137890</td>\n",
       "      <td>0.316017</td>\n",
       "      <td>0.731223</td>\n",
       "      <td>0.001448</td>\n",
       "      <td>0.332546</td>\n",
       "      <td>0.707607</td>\n",
       "      <td>0.002009</td>\n",
       "    </tr>\n",
       "    <tr>\n",
       "      <th>50%</th>\n",
       "      <td>0.006611</td>\n",
       "      <td>0.006051</td>\n",
       "      <td>0.026734</td>\n",
       "      <td>0.000573</td>\n",
       "      <td>0.000229</td>\n",
       "      <td>0.000814</td>\n",
       "      <td>0.000013</td>\n",
       "      <td>0.032778</td>\n",
       "      <td>0.975943</td>\n",
       "      <td>0.088257</td>\n",
       "      <td>...</td>\n",
       "      <td>0.738122</td>\n",
       "      <td>0.800947</td>\n",
       "      <td>0.770713</td>\n",
       "      <td>0.137931</td>\n",
       "      <td>0.320036</td>\n",
       "      <td>0.734043</td>\n",
       "      <td>0.005192</td>\n",
       "      <td>0.336226</td>\n",
       "      <td>0.710408</td>\n",
       "      <td>0.005056</td>\n",
       "    </tr>\n",
       "    <tr>\n",
       "      <th>75%</th>\n",
       "      <td>0.021609</td>\n",
       "      <td>0.009164</td>\n",
       "      <td>0.042591</td>\n",
       "      <td>0.002453</td>\n",
       "      <td>0.001702</td>\n",
       "      <td>0.002468</td>\n",
       "      <td>0.000108</td>\n",
       "      <td>0.074483</td>\n",
       "      <td>0.994527</td>\n",
       "      <td>0.143314</td>\n",
       "      <td>...</td>\n",
       "      <td>0.739461</td>\n",
       "      <td>0.801914</td>\n",
       "      <td>0.770763</td>\n",
       "      <td>0.137979</td>\n",
       "      <td>0.323459</td>\n",
       "      <td>0.736267</td>\n",
       "      <td>0.029007</td>\n",
       "      <td>0.339550</td>\n",
       "      <td>0.712894</td>\n",
       "      <td>0.027009</td>\n",
       "    </tr>\n",
       "    <tr>\n",
       "      <th>max</th>\n",
       "      <td>1.000000</td>\n",
       "      <td>1.000000</td>\n",
       "      <td>1.000000</td>\n",
       "      <td>1.000000</td>\n",
       "      <td>1.000000</td>\n",
       "      <td>1.000000</td>\n",
       "      <td>1.000000</td>\n",
       "      <td>1.000000</td>\n",
       "      <td>1.000000</td>\n",
       "      <td>1.000000</td>\n",
       "      <td>...</td>\n",
       "      <td>1.000000</td>\n",
       "      <td>1.000000</td>\n",
       "      <td>1.000000</td>\n",
       "      <td>1.000000</td>\n",
       "      <td>1.000000</td>\n",
       "      <td>1.000000</td>\n",
       "      <td>1.000000</td>\n",
       "      <td>1.000000</td>\n",
       "      <td>1.000000</td>\n",
       "      <td>1.000000</td>\n",
       "    </tr>\n",
       "  </tbody>\n",
       "</table>\n",
       "<p>8 rows × 41 columns</p>\n",
       "</div>"
      ],
      "text/plain": [
       "                0            1            2            3            4   \\\n",
       "count  5202.000000  5202.000000  5202.000000  5202.000000  5202.000000   \n",
       "mean      0.034293     0.007114     0.039747     0.024691     0.002342   \n",
       "std       0.082562     0.026072     0.050295     0.077511     0.025896   \n",
       "min       0.000000     0.000000     0.000000     0.000000     0.000000   \n",
       "25%       0.001781     0.002242     0.017305     0.000204     0.000118   \n",
       "50%       0.006611     0.006051     0.026734     0.000573     0.000229   \n",
       "75%       0.021609     0.009164     0.042591     0.002453     0.001702   \n",
       "max       1.000000     1.000000     1.000000     1.000000     1.000000   \n",
       "\n",
       "                5            6            7            8            9   ...  \\\n",
       "count  5202.000000  5202.000000  5202.000000  5202.000000  5202.000000  ...   \n",
       "mean      0.003717     0.000560     0.074457     0.899457     0.108436  ...   \n",
       "std       0.027354     0.018467     0.119268     0.185940     0.079986  ...   \n",
       "min       0.000000     0.000000     0.000000     0.000000     0.000000  ...   \n",
       "25%       0.000192     0.000007     0.012726     0.907992     0.053949  ...   \n",
       "50%       0.000814     0.000013     0.032778     0.975943     0.088257  ...   \n",
       "75%       0.002468     0.000108     0.074483     0.994527     0.143314  ...   \n",
       "max       1.000000     1.000000     1.000000     1.000000     1.000000  ...   \n",
       "\n",
       "                31           32           33           34           35  \\\n",
       "count  5202.000000  5202.000000  5202.000000  5202.000000  5202.000000   \n",
       "mean      0.737169     0.799384     0.770662     0.138007     0.319295   \n",
       "std       0.029403     0.029697     0.012660     0.013365     0.036702   \n",
       "min       0.000000     0.000000     0.000000     0.000000     0.000000   \n",
       "25%       0.736783     0.799859     0.770667     0.137890     0.316017   \n",
       "50%       0.738122     0.800947     0.770713     0.137931     0.320036   \n",
       "75%       0.739461     0.801914     0.770763     0.137979     0.323459   \n",
       "max       1.000000     1.000000     1.000000     1.000000     1.000000   \n",
       "\n",
       "                36           37           38           39           40  \n",
       "count  5202.000000  5202.000000  5202.000000  5202.000000  5202.000000  \n",
       "mean      0.733197     0.021786     0.335779     0.709659     0.021431  \n",
       "std       0.026562     0.035525     0.035130     0.025369     0.035075  \n",
       "min       0.000000     0.000000     0.000000     0.000000     0.000000  \n",
       "25%       0.731223     0.001448     0.332546     0.707607     0.002009  \n",
       "50%       0.734043     0.005192     0.336226     0.710408     0.005056  \n",
       "75%       0.736267     0.029007     0.339550     0.712894     0.027009  \n",
       "max       1.000000     1.000000     1.000000     1.000000     1.000000  \n",
       "\n",
       "[8 rows x 41 columns]"
      ]
     },
     "execution_count": 9,
     "metadata": {},
     "output_type": "execute_result"
    }
   ],
   "source": [
    "# Normalização das features\n",
    "X = pd.DataFrame(minmax_scale(X, feature_range=(0, 1)))\n",
    "X.describe()"
   ]
  },
  {
   "cell_type": "markdown",
   "metadata": {},
   "source": [
    "###### Encoding dos valores alvo"
   ]
  },
  {
   "cell_type": "code",
   "execution_count": 10,
   "metadata": {},
   "outputs": [
    {
     "name": "stdout",
     "output_type": "stream",
     "text": [
      "0         CONFIRMED\n",
      "1         CONFIRMED\n",
      "2    FALSE POSITIVE\n",
      "3         CONFIRMED\n",
      "4    FALSE POSITIVE\n",
      "Name: koi_disposition, dtype: object\n"
     ]
    }
   ],
   "source": [
    "print(y[0:5])"
   ]
  },
  {
   "cell_type": "code",
   "execution_count": 11,
   "metadata": {},
   "outputs": [
    {
     "name": "stdout",
     "output_type": "stream",
     "text": [
      "[0 0 1 0 1]\n"
     ]
    }
   ],
   "source": [
    "label_encoder = LabelEncoder()\n",
    "label_encoder.fit(['FALSE POSITIVE', 'CONFIRMED'])\n",
    "y = label_encoder.transform(y)\n",
    "print(y[0:5])"
   ]
  },
  {
   "cell_type": "markdown",
   "metadata": {},
   "source": [
    "## 2. Experimentos"
   ]
  },
  {
   "cell_type": "markdown",
   "metadata": {},
   "source": [
    "#### *Classe utilitária*"
   ]
  },
  {
   "cell_type": "code",
   "execution_count": 84,
   "metadata": {},
   "outputs": [],
   "source": [
    "class Experiment():\n",
    "    def __init__(self):\n",
    "\n",
    "        self.X_train, self.X_test = [], []\n",
    "        self.y_train, self.y_test = [], []\n",
    "        self.train_index, self.test_index = [], []\n",
    "        self.train_pred, self.test_pred = [], []\n",
    "        self.clf = None\n",
    "        self.accuracy_train, self.accuracy_test = [], []\n",
    "        self.precision_train, self.precision_test = [], []\n",
    "        self.recall_train, self.recall_test = [], []\n",
    "        self.f1_train, self.f1_test = [], []\n",
    "        \n",
    "        self.mean_accuracy_train = 0\n",
    "        self.mean_accuracy_test = 0\n",
    "        self.mean_precision_train = 0\n",
    "        self.mean_precision_test = 0\n",
    "        self.mean_recall_train = 0\n",
    "        self.mean_recall_test = 0\n",
    "        self.mean_f1_train = 0\n",
    "        self.mean_f1_test = 0\n",
    "        \n",
    "        self.fpr_fold = []\n",
    "        self.tpr_fold = []\n",
    "        self.mean_fpr = 0\n",
    "        self.mean_tpr = 0\n",
    "        self.test_pred_proba=0\n",
    "\n",
    "    def run_naive_bayes(self):\n",
    "        for self.train_index, self.test_index in self.get_folds():\n",
    "            self.slice_fold()            \n",
    "            self.clf = GaussianNB()\n",
    "            self.clf = self.clf.fit(self.X_train, self.y_train)\n",
    "            self.get_predictions(self.clf)\n",
    "            self.get_metrics_per_fold()\n",
    "        self.get_means()\n",
    "    \n",
    "    def run_decision_tree(self, depth):\n",
    "        mean_fpr = np.linspace(0,1,100)\n",
    "        for self.train_index, self.test_index in self.get_folds():\n",
    "            self.slice_fold()            \n",
    "            self.clf = DecisionTreeClassifier(max_depth=depth)\n",
    "            self.clf = self.clf.fit(self.X_train, self.y_train)\n",
    "            self.get_predictions(self.clf)\n",
    "            self.get_metrics_per_fold()\n",
    "        self.get_means()\n",
    "                \n",
    "    def run_svm(self, kernel, C=None):\n",
    "        i=1\n",
    "        for self.train_index, self.test_index in self.get_folds():\n",
    "            self.slice_fold()            \n",
    "            if not C:\n",
    "                self.clf = SVC(kernel=kernel, probability=True, C=1)\n",
    "            else:\n",
    "                self.clf = SVC(kernel=kernel, probability=True, C=C)\n",
    "            self.clf = self.clf.fit(self.X_train, self.y_train)\n",
    "            self.get_predictions(self.clf)\n",
    "            self.get_metrics_per_fold()\n",
    "            i+=1\n",
    "        self.get_means()          \n",
    "    \n",
    "    def run_knn(self, k):\n",
    "        for self.train_index, self.test_index in self.get_folds():\n",
    "            self.slice_fold()            \n",
    "            self.clf = KNeighborsClassifier(n_neighbors=k)\n",
    "            self.clf = self.clf.fit(self.X_train, self.y_train)\n",
    "            self.get_predictions(self.clf)\n",
    "            self.get_metrics_per_fold()\n",
    "        self.get_means()\n",
    "    \n",
    "    def run_rf(self, n_estimators):\n",
    "        for self.train_index, self.test_index in self.get_folds():\n",
    "            self.slice_fold()            \n",
    "            self.clf = RandomForestClassifier(n_estimators=n_estimators, n_jobs=-1)\n",
    "            self.clf = self.clf.fit(self.X_train, self.y_train)\n",
    "            self.get_predictions(self.clf)\n",
    "            self.get_metrics_per_fold()\n",
    "        self.get_means()\n",
    "        \n",
    "    def run_gb(self, estimators):\n",
    "        for self.train_index, self.test_index in self.get_folds():\n",
    "            self.slice_fold()            \n",
    "            self.clf = GradientBoostingClassifier(n_estimators=estimators)\n",
    "            self.clf = self.clf.fit(self.X_train, self.y_train)\n",
    "            self.get_predictions(self.clf)\n",
    "            self.get_metrics_per_fold()\n",
    "        self.get_means()\n",
    "        \n",
    "    def get_folds(self):\n",
    "        kfold = KFold(N_FOLDS, True, 1)\n",
    "        return kfold.split(X)\n",
    "\n",
    "    def slice_fold(self):\n",
    "        global X\n",
    "        global y\n",
    "        self.X_train = X.iloc[self.train_index]\n",
    "        self.y_train = y[self.train_index]\n",
    "        \n",
    "        self.X_test = X.iloc[self.test_index]\n",
    "        self.y_test = y[self.test_index]\n",
    "         \n",
    "    def get_predictions(self, clf):\n",
    "        self.train_pred = clf.predict(self.X_train)\n",
    "        self.test_pred = clf.predict(self.X_test)\n",
    "        \n",
    "    def get_metrics_per_fold(self):\n",
    "        self.accuracy_train.append(accuracy_score(self.y_train, self.train_pred))\n",
    "        self.accuracy_test.append(accuracy_score(self.y_test, self.test_pred))\n",
    "        \n",
    "        self.precision_train.append(precision_score(self.y_train, self.train_pred))\n",
    "        self.precision_test.append(precision_score(self.y_test, self.test_pred))\n",
    "        \n",
    "        self.recall_train.append(recall_score(self.y_train, self.train_pred))\n",
    "        self.recall_test.append(recall_score(self.y_test, self.test_pred))\n",
    "        \n",
    "        self.f1_train.append(f1_score(self.y_train, self.train_pred))\n",
    "        self.f1_test.append(f1_score(self.y_test, self.test_pred))\n",
    "        \n",
    "        \n",
    "        \n",
    "    def get_means(self):\n",
    "        self.mean_accuracy_train = np.mean(self.accuracy_train)\n",
    "        self.mean_accuracy_test = np.mean(self.accuracy_test)\n",
    "        self.mean_precision_train = np.mean(self.precision_train)\n",
    "        self.mean_precision_test = np.mean(self.precision_test)\n",
    "        self.mean_recall_train = np.mean(self.recall_train)\n",
    "        self.mean_recall_test = np.mean(self.recall_test)\n",
    "        self.mean_f1_train = np.mean(self.f1_train)\n",
    "        self.mean_f1_test = np.mean(self.f1_test)\n",
    "#         self.mean_fpr = np.mean(self.fpr_fold)\n",
    "#         self.mean_tpr = np.mean(self.tpr_fold)\n",
    "        \n",
    "    def print_results(self):\n",
    "        print(\"Train\")\n",
    "        print(\"  Accuracy: {:.3f}\".format(self.mean_accuracy_train))\n",
    "        print(\"  Precision: {:.3f}\".format(self.mean_precision_train))\n",
    "        print(\"  Recall: {:.3f}\".format(self.mean_recall_train))\n",
    "        print(\"  f1: {:.3f}\".format(self.mean_f1_train))\n",
    "\n",
    "        print()\n",
    "        \n",
    "        print(\"Test\")\n",
    "        print(\"  Accuracy: {:.3f}\".format(self.mean_accuracy_test))\n",
    "        print(\"  Precision: {:.3f}\".format(self.mean_precision_test))\n",
    "        print(\"  Recall: {:.3f}\".format(self.mean_recall_test))\n",
    "        print(\"  f1: {:.3f}\".format(self.mean_f1_test))\n"
   ]
  },
  {
   "cell_type": "code",
   "execution_count": 57,
   "metadata": {},
   "outputs": [],
   "source": [
    "def save_results(objeto, metrics = {}):\n",
    "    \"\"\" \n",
    "    Função auxiliar que salva resultados de muitos experimentos\n",
    "    \"\"\"    \n",
    "    metrics['accuracy_train'].append(objeto.mean_accuracy_train)\n",
    "    metrics['accuracy_test'].append(objeto.mean_accuracy_test)\n",
    "                            \n",
    "    metrics['precision_train'].append(objeto.mean_precision_train)\n",
    "    metrics['precision_test'].append(objeto.mean_precision_test)\n",
    "    \n",
    "    metrics['recall_train'].append(objeto.mean_recall_train)\n",
    "    metrics['recall_test'].append(objeto.mean_recall_test)\n",
    "    \n",
    "    metrics['f1_train'].append(objeto.mean_f1_train)\n",
    "    metrics['f1_test'].append(objeto.mean_f1_test)\n",
    "  \n",
    "    return metrics"
   ]
  },
  {
   "cell_type": "code",
   "execution_count": 58,
   "metadata": {},
   "outputs": [],
   "source": [
    "def plot_results(x, metrics, baseline, name='Decision Tree', parameter='Altura'):\n",
    "    \n",
    "    plt.subplot()\n",
    "    plt.title(name + ' - ACCURACY')\n",
    "    plt.xlabel(parameter)\n",
    "    plt.ylabel('Accuracy')\n",
    "    plt.axhline(baseline.mean_accuracy_test, linestyle='--', color='grey')\n",
    "    plt.plot(x, metrics['accuracy_train'], label = 'treino')\n",
    "    plt.plot(x, metrics['accuracy_test'], label = 'teste')\n",
    "    plt.legend(loc='best')\n",
    "    plt.show()\n",
    "\n",
    "    plt.subplot()\n",
    "    plt.title(name + ' - F1 SCORE')\n",
    "    plt.xlabel(parameter)\n",
    "    plt.ylabel('f1 score')\n",
    "    plt.axhline(baseline.mean_f1_test, linestyle='--', color='grey')\n",
    "    plt.plot(x, metrics['f1_train'], label = 'treino')\n",
    "    plt.plot(x, metrics['f1_test'], label = 'teste')\n",
    "    plt.legend(loc='best')\n",
    "    plt.show()"
   ]
  },
  {
   "cell_type": "code",
   "execution_count": 110,
   "metadata": {},
   "outputs": [],
   "source": [
    "from matplotlib.pyplot import figure\n",
    "def roc_compare(baseline, best_dt, best_svm, best_knn, best_rf, best_gb):\n",
    "    \n",
    "    # Baseline\n",
    "    probs = baseline.clf.predict_proba(baseline.X_test)\n",
    "    preds = probs[:,1]\n",
    "    fpr_baseline, tpr_baseline, _ = roc_curve(baseline.y_test, preds)\n",
    "    roc_auc_bl = auc(fpr_baseline, tpr_baseline)\n",
    "    \n",
    "    # Best DT\n",
    "    probs = best_dt.clf.predict_proba(best_dt.X_test)\n",
    "    preds = probs[:,1]\n",
    "    fpr_dt, tpr_dt, _ = roc_curve(best_dt.y_test, preds)\n",
    "    roc_auc_dt = auc(fpr_dt, tpr_dt)\n",
    "    \n",
    "    # Best SVM\n",
    "    probs = baseline.clf.predict_proba(best_svm.X_test)\n",
    "    preds = probs[:,1]\n",
    "    fpr_svm, tpr_svm, _ = roc_curve(best_svm.y_test, preds)\n",
    "    roc_auc_svm = auc(fpr_svm, tpr_svm)\n",
    "    \n",
    "    # Best knn\n",
    "    probs = best_knn.clf.predict_proba(best_knn.X_test)\n",
    "    preds = probs[:,1]\n",
    "    fpr_knn, tpr_knn, _ = roc_curve(best_knn.y_test, preds)\n",
    "    roc_auc_knn = auc(fpr_knn, tpr_knn)\n",
    "    \n",
    "    #best_rf\n",
    "    probs = best_rf.clf.predict_proba(best_rf.X_test)\n",
    "    preds = probs[:,1]\n",
    "    fpr_rf, tpr_rf, _ = roc_curve(best_rf.y_test, preds)\n",
    "    roc_auc_rf = auc(fpr_rf, tpr_rf)\n",
    "    \n",
    "    # best GB\n",
    "    probs = best_gb.clf.predict_proba(best_gb.X_test)\n",
    "    preds = probs[:,1]\n",
    "    fpr_gb, tpr_gb, _ = roc_curve(best_gb.y_test, preds)\n",
    "    roc_auc_gb = auc(fpr_gb, tpr_gb)\n",
    "\n",
    "    # GRAPH\n",
    "    plt.title('ROC - Comparativo')\n",
    "#     plt.figure(num=None, figsize=(15, 15), dpi=80, facecolor='w', edgecolor='k')\n",
    "\n",
    "    plt.plot(fpr_baseline, tpr_baseline, 'brown', label = 'Baseline AUC = %0.4f' % roc_auc_bl)\n",
    "    plt.plot(fpr_dt, tpr_dt, 'green', label = 'DT AUC = %0.4f' % roc_auc_dt)\n",
    "    plt.plot(fpr_svm, tpr_svm, 'orange', label = 'SVM AUC = %0.4f' % roc_auc_svm)\n",
    "    plt.plot(fpr_knn, tpr_knn, 'fuchsia', label = 'KNN AUC = %0.4f' % roc_auc_knn)\n",
    "    plt.plot(fpr_rf, tpr_rf, 'red', label = 'RF AUC = %0.4f' % roc_auc_rf)\n",
    "    plt.plot(fpr_gb, tpr_gb, 'blue', label = 'GB AUC = %0.4f' % roc_auc_gb)\n",
    "    \n",
    "    \n",
    "\n",
    "    plt.legend(loc = 'lower right')\n",
    "    plt.plot([0, 1], [0, 1],'r--')\n",
    "    plt.xlim([0, 1])\n",
    "    plt.ylim([0, 1])\n",
    "    plt.ylabel('True Positive Rate')\n",
    "    plt.xlabel('False Positive Rate')\n",
    "    plt.show()"
   ]
  },
  {
   "cell_type": "code",
   "execution_count": 61,
   "metadata": {
    "scrolled": true
   },
   "outputs": [],
   "source": [
    "def plot_compare_svm():\n",
    "    n_groups = 4\n",
    "    fig, ax = plt.subplots()\n",
    "    index = np.arange(n_groups)\n",
    "    bar_width = 0.1\n",
    "\n",
    "    objects = ('Linear', 'Sigmoid', 'Polinomial', 'RBF')\n",
    "    acc = [linear_svm.mean_accuracy_test, \n",
    "           sigmoid_svm.mean_accuracy_test, \n",
    "           poly_svm.mean_accuracy_test, \n",
    "           rbf_svm.mean_accuracy_test]\n",
    "    prec = [linear_svm.mean_precision_test, \n",
    "            sigmoid_svm.mean_precision_test, \n",
    "            poly_svm.mean_precision_test, \n",
    "            rbf_svm.mean_precision_test]\n",
    "    recall = [linear_svm.mean_recall_test, \n",
    "              sigmoid_svm.mean_recall_test, \n",
    "              poly_svm.mean_recall_test, \n",
    "              rbf_svm.mean_recall_test]\n",
    "    f1 = [linear_svm.mean_f1_test, \n",
    "          sigmoid_svm.mean_f1_test, \n",
    "          poly_svm.mean_f1_test, \n",
    "          rbf_svm.mean_f1_test]\n",
    "\n",
    "    rects1 = plt.bar(index, acc, bar_width, color='blue', label='accuracy')\n",
    "    rects2 = plt.bar(index + bar_width, prec, bar_width, color='green', label='precision')\n",
    "    rects3 = plt.bar(index + 2*bar_width, recall, bar_width, color='orange', label='recall')\n",
    "    rects4 = plt.bar(index + 3*bar_width, f1, bar_width, color='red', label='f1')\n",
    "\n",
    "\n",
    "    plt.xlabel('Kernels')\n",
    "    plt.ylabel('f1 scores')\n",
    "    plt.title('Metricas de teste por Kernel')\n",
    "    plt.axhline(baseline.mean_f1_test, linestyle='--', color='grey')\n",
    "\n",
    "    plt.xticks(index + bar_width, ('Linear', 'Sigmoid', 'Polinomial', 'RBF'))\n",
    "    plt.legend()\n",
    "    plt.show()\n"
   ]
  },
  {
   "cell_type": "code",
   "execution_count": 62,
   "metadata": {},
   "outputs": [],
   "source": [
    "def plot_compare_models(models, baseline):\n",
    "    #models is a list of objects\n",
    "    n_groups = len(models)\n",
    "    fig, ax = plt.subplots()\n",
    "    index = np.arange(n_groups)\n",
    "    bar_width = 0.1\n",
    "\n",
    "    objects = ('Linear', 'Sigmoid', 'Polinomial', 'RBF')\n",
    "    acc = [models[0].mean_accuracy_test, \n",
    "           models[1].mean_accuracy_test, \n",
    "           models[2].mean_accuracy_test, \n",
    "           models[3].mean_accuracy_test,\n",
    "           models[4].mean_accuracy_test]\n",
    "    \n",
    "    prec = [models[0].mean_precision_test, \n",
    "           models[1].mean_precision_test, \n",
    "           models[2].mean_precision_test, \n",
    "           models[3].mean_precision_test,\n",
    "           models[4].mean_precision_test]\n",
    "    \n",
    "    recall = [models[0].mean_recall_test, \n",
    "           models[1].mean_recall_test, \n",
    "           models[2].mean_recall_test, \n",
    "           models[3].mean_recall_test,\n",
    "           models[4].mean_recall_test]\n",
    "    \n",
    "    f1 = [models[0].mean_f1_test, \n",
    "           models[1].mean_f1_test, \n",
    "           models[2].mean_f1_test, \n",
    "           models[3].mean_f1_test,\n",
    "           models[4].mean_f1_test]\n",
    "\n",
    "    rects1 = plt.bar(index, acc, bar_width, color='blue', label='accuracy')\n",
    "    rects2 = plt.bar(index + bar_width, prec, bar_width, color='green', label='precision')\n",
    "    rects3 = plt.bar(index + 2*bar_width, recall, bar_width, color='orange', label='recall')\n",
    "    rects4 = plt.bar(index + 3*bar_width, f1, bar_width, color='red', label='f1')\n",
    "\n",
    "    plt.xlabel('Models')    \n",
    "    axes = plt.gca()\n",
    "    axes.set_ylim([0.75, 1.0])\n",
    "    plt.title('Metricas de teste por Modelo')\n",
    "    plt.axhline(baseline.mean_accuracy_test, linestyle='--', color='grey')\n",
    "    plt.xticks(index + bar_width, ('DecTree', 'SVM', 'kNN', 'RF', 'GB'))\n",
    "    plt.legend()\n",
    "    plt.show()"
   ]
  },
  {
   "cell_type": "code",
   "execution_count": 108,
   "metadata": {},
   "outputs": [],
   "source": [
    "def accuracy_compare(baseline, best_dt, best_svm, best_knn, best_rf, best_gb):\n",
    "    print(\"Acurácia de Teste\")\n",
    "    print(\"  Baseline...........{:.3f}\".format(baseline.mean_accuracy_test))\n",
    "    print(\"  Decision Tree......{:.3f}\".format(best_dt.mean_accuracy_test))\n",
    "    print(\"  SVM................{:.3f}\".format(best_svm.mean_accuracy_test))\n",
    "    print(\"  kNN................{:.3f}\".format(best_knn.mean_accuracy_test))\n",
    "    print(\"  Random Forest......{:.3f}\".format(best_rf.mean_accuracy_test))\n",
    "    print(\"  Gradient Boosting..{:.3f}\".format(best_gb.mean_accuracy_test))"
   ]
  },
  {
   "cell_type": "markdown",
   "metadata": {},
   "source": [
    "### 2.1 Naive Bayes - Baseline"
   ]
  },
  {
   "cell_type": "markdown",
   "metadata": {},
   "source": [
    "O algoritmo Naive Bayes calcula a probabilidade condicional de cada feature dado o rótulo observado. Como não conhecemos a distribuição dos dados e, levando em consideração que fenômenos complexos tendem à distribuição normal, será utlizada a implementação Gaussian Naive Bayes."
   ]
  },
  {
   "cell_type": "code",
   "execution_count": 85,
   "metadata": {},
   "outputs": [
    {
     "name": "stdout",
     "output_type": "stream",
     "text": [
      "Train\n",
      "  Accuracy: 0.917\n",
      "  Precision: 0.980\n",
      "  Recall: 0.878\n",
      "  f1: 0.926\n",
      "\n",
      "Test\n",
      "  Accuracy: 0.918\n",
      "  Precision: 0.980\n",
      "  Recall: 0.880\n",
      "  f1: 0.927\n"
     ]
    }
   ],
   "source": [
    "baseline = Experiment()\n",
    "baseline.run_naive_bayes()\n",
    "baseline.print_results()"
   ]
  },
  {
   "cell_type": "markdown",
   "metadata": {},
   "source": [
    "### 2.2 Decision Trees"
   ]
  },
  {
   "cell_type": "markdown",
   "metadata": {},
   "source": [
    "Decision Tree é um classificador não paramétrico baseado na escolha de features que melhor dividam os dados, ou seja, divisões que resultem em subconjuntos com menor entropia do que o anterior. A cada nível da árvore, o conjunto vai sendo subdivido a partir da feature que seja mais discriminativa. \n",
    "\n",
    "Isso significa que, se a árvore puder crescer livremente, os nós folha conterão, em cada folha, apenas instâncias do mesmo label (entropia zero). Nesse cenário, o acerto do modelo é total para os dados de treino incorrendo em forte overfitting, no qual nosso modelo perde poder de generalização. A altura é, portanto, o hiperparâmetro de interesse.\n",
    "\n",
    "**Hiperparâmetro variado: altura**\n"
   ]
  },
  {
   "cell_type": "markdown",
   "metadata": {},
   "source": [
    "#### 2.2.1 Altura: ilimitada\n",
    "\n",
    "**A | Objetivo do experimento**<br>\n",
    "Neste experimento, observaremos um árvores crescer de forma ilimitada e atingir desempenho de 100% no dado de treino com resultado inferior no dado de teste, evidenciando o overfitting."
   ]
  },
  {
   "cell_type": "markdown",
   "metadata": {},
   "source": [
    "**B | Resultados**"
   ]
  },
  {
   "cell_type": "code",
   "execution_count": 21,
   "metadata": {},
   "outputs": [
    {
     "name": "stdout",
     "output_type": "stream",
     "text": [
      "Train\n",
      "  Accuracy: 1.000\n",
      "  Precision: 1.000\n",
      "  Recall: 1.000\n",
      "  f1: 1.000\n",
      "\n",
      "Test\n",
      "  Accuracy: 0.946\n",
      "  Precision: 0.954\n",
      "  Recall: 0.955\n",
      "  f1: 0.954\n"
     ]
    }
   ],
   "source": [
    "no_prunning = Experiment()\n",
    "no_prunning.run_decision_tree(None)\n",
    "no_prunning.print_results()"
   ]
  },
  {
   "cell_type": "markdown",
   "metadata": {},
   "source": [
    "**C | Análise do resultado** <br>\n",
    "O desempenho de 100% em todas as métricas evidencia que o modelo decorou regras de decisão totalmente específicas para o dado de treino. O resultado inferior no dado de teste mostra que, ao decorar, as regras aprendidas pelo modelo não sao capazes de generalizar tão bem para dados nunca vistos antes - dado de teste."
   ]
  },
  {
   "cell_type": "markdown",
   "metadata": {},
   "source": [
    "###### 2.2.2 Altura: variando de 1 a 30\n",
    "\n",
    "**A | Objetivo do experimento**<br>\n",
    "Para reduzir o problema do overfitting, e melhorar o poder de generalização do nosso modelo, vamos testar diferente limites de altura para a árvore. "
   ]
  },
  {
   "cell_type": "code",
   "execution_count": 63,
   "metadata": {
    "scrolled": true
   },
   "outputs": [
    {
     "data": {
      "application/vnd.jupyter.widget-view+json": {
       "model_id": "8f71deac793b457a9c6ef6c8f60da732",
       "version_major": 2,
       "version_minor": 0
      },
      "text/plain": [
       "HBox(children=(IntProgress(value=0, max=30), HTML(value='')))"
      ]
     },
     "metadata": {},
     "output_type": "display_data"
    },
    {
     "name": "stdout",
     "output_type": "stream",
     "text": [
      "\n"
     ]
    }
   ],
   "source": [
    "metrics_dt={\n",
    "    'accuracy_train':[],\n",
    "    'precision_train':[],\n",
    "    'recall_train':[],\n",
    "    'f1_train':[],\n",
    "    'accuracy_test':[],\n",
    "    'precision_test':[],\n",
    "    'recall_test':[],\n",
    "    'f1_test':[]\n",
    "}\n",
    "\n",
    "espaco_de_busca_dt = range(1, 30+1) \n",
    "\n",
    "for i in tqdm(espaco_de_busca_dt):\n",
    "    decision_tree = Experiment()\n",
    "    decision_tree.run_decision_tree(i)\n",
    "    metrics = save_results(decision_tree, metrics_dt)"
   ]
  },
  {
   "cell_type": "markdown",
   "metadata": {},
   "source": [
    "**B | Resultados**"
   ]
  },
  {
   "cell_type": "code",
   "execution_count": 64,
   "metadata": {},
   "outputs": [
    {
     "data": {
      "image/png": "[encoded data removed]",
      "text/plain": [
       "<Figure size 432x288 with 1 Axes>"
      ]
     },
     "metadata": {
      "needs_background": "light"
     },
     "output_type": "display_data"
    },
    {
     "data": {
      "image/png": "[encoded data removed]",
      "text/plain": [
       "<Figure size 432x288 with 1 Axes>"
      ]
     },
     "metadata": {
      "needs_background": "light"
     },
     "output_type": "display_data"
    }
   ],
   "source": [
    "plot_results(espaco_de_busca_dt, metrics_dt, baseline, name='Decision Tree', parameter='Altura')"
   ]
  },
  {
   "cell_type": "code",
   "execution_count": 65,
   "metadata": {},
   "outputs": [
    {
     "name": "stdout",
     "output_type": "stream",
     "text": [
      "Acurácia teste\n",
      "1 :0.747 \n",
      "2 :0.865 \n",
      "3 :0.927 \n",
      "4 :0.943 \n",
      "5 :0.950 \n",
      "6 :0.948 \n",
      "7 :0.949 \n",
      "8 :0.948 \n",
      "9 :0.949 \n",
      "10 :0.951 \n",
      "11 :0.949 \n",
      "12 :0.949 \n",
      "13 :0.949 \n",
      "14 :0.949 \n",
      "15 :0.948 \n",
      "16 :0.948 \n",
      "17 :0.945 \n",
      "18 :0.948 \n",
      "19 :0.947 \n",
      "20 :0.946 \n",
      "21 :0.945 \n",
      "22 :0.945 \n",
      "23 :0.949 \n",
      "24 :0.949 \n",
      "25 :0.947 \n",
      "26 :0.946 \n",
      "27 :0.948 \n",
      "28 :0.946 \n",
      "29 :0.945 \n",
      "30 :0.948 \n"
     ]
    }
   ],
   "source": [
    "print('Acurácia teste')\n",
    "for i in espaco_de_busca_dt:    \n",
    "    print(i, ':{:.3f} '.format(metrics['accuracy_test'][i-1]))"
   ]
  },
  {
   "cell_type": "markdown",
   "metadata": {},
   "source": [
    "**C | Análise do resultado**\n",
    "\n",
    "A partir da altura 5, o desempenho de teste não apresenta melhoria relevante, ao tempo em que o desempenho de treino continua aumentando, o que evidenci o overfitting a partir desse ponto. Para altura 5, a árvore de decisão, apesar de ser um modelos simples, obteve desempenho f1-teste melhor do que o baseline: 0.958 contra 0.927 e acurácia de 0.950 contra 0.918.\n",
    "\n",
    "**Resultado preliminar - Acurácia de Teste**<br>\n",
    "Baseline..............................0.918<br>\n",
    "Decision Tree (depth=5).....0.950"
   ]
  },
  {
   "cell_type": "code",
   "execution_count": 66,
   "metadata": {},
   "outputs": [
    {
     "name": "stdout",
     "output_type": "stream",
     "text": [
      "Train\n",
      "  Accuracy: 0.965\n",
      "  Precision: 0.983\n",
      "  Recall: 0.958\n",
      "  f1: 0.971\n",
      "\n",
      "Test\n",
      "  Accuracy: 0.950\n",
      "  Precision: 0.971\n",
      "  Recall: 0.945\n",
      "  f1: 0.958\n"
     ]
    }
   ],
   "source": [
    "# Decision Tree depth=5\n",
    "best_dt = Experiment()\n",
    "best_dt.run_decision_tree(5)\n",
    "best_dt.print_results()"
   ]
  },
  {
   "cell_type": "markdown",
   "metadata": {},
   "source": [
    "### 3.2 SVM\n",
    "\n",
    "O SVM é um algoritmo que tenta identificar o hiperplano que melhor separe os dados de cada classe. De todos os hiperplanos possíveis, o SVM tentará modelar aquele que maximiza a margem, ou seja a distância do hiperplano para os pontos mais próximos, denominados \"suport vectors\". Quanto maior a quantidade de support vector, mais restrito fica o espaço de busca de hiperplanos e maior a chance de overfitting.\n",
    "\n",
    "A tarefa não é simples dado que, na maioria dos cenários, os dados não são linearmente separáveis. Para atingir seu objetivo, o SVM atua com um hiperparâmetro chamado **Kernel**, que aplica transformações nos dados de maneira a  alterar a disposição dos pontos no espaço multidimensional, na tentativa de torná-los mais linearmente separáveis.\n",
    "\n",
    "A tentativa de separar completamente os dados, entretanto, pode resultar em modelo da alta complexidade que causa overfitting. Dessa forma, o hiperparâmetro **C** é utilizado como forma de regularização ao permitir algumas classificações erradas. \n",
    "\n",
    "Para kernels que realizam transformações não lineares, é possível variar também o hiperparâmetro **gamma**, entretanto, por questões de viabilidade de tempo, esse hiperparâmetro será fixado como 'auto', valor padrão da biblioteca sklearn.\n",
    "\n",
    "**Hiperparâmetros variados: kernel. Para o melhor kernel, será variado o hiperparâmetro C**"
   ]
  },
  {
   "cell_type": "markdown",
   "metadata": {},
   "source": [
    "##### 3.2.1 Verificação do desempenho de diversos kernels\n",
    "**A | Objetivo do experimento**<br>\n",
    "Explorar como a utilização de vários kernels afeta o desempenho do modelo\n",
    "\n",
    "**Linear Kernel**<br>"
   ]
  },
  {
   "cell_type": "code",
   "execution_count": 24,
   "metadata": {},
   "outputs": [
    {
     "name": "stdout",
     "output_type": "stream",
     "text": [
      "Train\n",
      "  Accuracy: 0.914\n",
      "  Precision: 0.952\n",
      "  Recall: 0.901\n",
      "  f1: 0.926\n",
      "\n",
      "Test\n",
      "  Accuracy: 0.912\n",
      "  Precision: 0.951\n",
      "  Recall: 0.899\n",
      "  f1: 0.924\n"
     ]
    }
   ],
   "source": [
    "linear_svm = Experiment()\n",
    "linear_svm.run_svm('linear')\n",
    "linear_svm.print_results()"
   ]
  },
  {
   "cell_type": "markdown",
   "metadata": {},
   "source": [
    "**Sigmoid Kernel**"
   ]
  },
  {
   "cell_type": "code",
   "execution_count": 25,
   "metadata": {},
   "outputs": [
    {
     "name": "stdout",
     "output_type": "stream",
     "text": [
      "Train\n",
      "  Accuracy: 0.746\n",
      "  Precision: 0.720\n",
      "  Recall: 0.937\n",
      "  f1: 0.814\n",
      "\n",
      "Test\n",
      "  Accuracy: 0.744\n",
      "  Precision: 0.719\n",
      "  Recall: 0.937\n",
      "  f1: 0.813\n"
     ]
    }
   ],
   "source": [
    "sigmoid_svm = Experiment()\n",
    "sigmoid_svm.run_svm('sigmoid')\n",
    "sigmoid_svm.print_results()"
   ]
  },
  {
   "cell_type": "markdown",
   "metadata": {},
   "source": [
    "**Polinomial Kernel**"
   ]
  },
  {
   "cell_type": "code",
   "execution_count": 26,
   "metadata": {},
   "outputs": [
    {
     "name": "stdout",
     "output_type": "stream",
     "text": [
      "Train\n",
      "  Accuracy: 0.613\n",
      "  Precision: 0.607\n",
      "  Recall: 0.995\n",
      "  f1: 0.754\n",
      "\n",
      "Test\n",
      "  Accuracy: 0.613\n",
      "  Precision: 0.607\n",
      "  Recall: 0.995\n",
      "  f1: 0.754\n"
     ]
    }
   ],
   "source": [
    "poly_svm = Experiment()\n",
    "poly_svm.run_svm('poly')\n",
    "poly_svm.print_results()"
   ]
  },
  {
   "cell_type": "markdown",
   "metadata": {},
   "source": [
    "**RBF Kernel**"
   ]
  },
  {
   "cell_type": "code",
   "execution_count": 27,
   "metadata": {},
   "outputs": [
    {
     "name": "stdout",
     "output_type": "stream",
     "text": [
      "Train\n",
      "  Accuracy: 0.823\n",
      "  Precision: 0.817\n",
      "  Recall: 0.905\n",
      "  f1: 0.859\n",
      "\n",
      "Test\n",
      "  Accuracy: 0.822\n",
      "  Precision: 0.816\n",
      "  Recall: 0.905\n",
      "  f1: 0.858\n"
     ]
    }
   ],
   "source": [
    "rbf_svm = Experiment()\n",
    "rbf_svm.run_svm('rbf')\n",
    "rbf_svm.print_results()"
   ]
  },
  {
   "cell_type": "markdown",
   "metadata": {},
   "source": [
    "**B | Resultado**"
   ]
  },
  {
   "cell_type": "code",
   "execution_count": 28,
   "metadata": {},
   "outputs": [
    {
     "data": {
      "image/png": "[encoded data removed]",
      "text/plain": [
       "<Figure size 432x288 with 1 Axes>"
      ]
     },
     "metadata": {
      "needs_background": "light"
     },
     "output_type": "display_data"
    }
   ],
   "source": [
    "plot_compare_svm()"
   ]
  },
  {
   "cell_type": "markdown",
   "metadata": {},
   "source": [
    "**C | Análise dos resultados**"
   ]
  },
  {
   "cell_type": "markdown",
   "metadata": {},
   "source": [
    "Dos 4 kernels testados, o linear apresentou o melhor resultado para a métrica F1. Esse kernel é apropriado quando sabe-se que os dados são linearmente separáveis, ou quando temos alta dimensionalidade, o que pode ter sido o caso.\n",
    "\n",
    "É interessante notar que o kernel polinomial apresentou um resultado alto para a métrica *recall*, que varificar a proporção de True Positives, ou seja, ele se saiu bem em identificar o maior número exoplantes confirmados, mas nesse processo, também avaliou errado uma alta quantidade de falsos positivos (baixa precision)"
   ]
  },
  {
   "cell_type": "markdown",
   "metadata": {},
   "source": [
    "**D | Variando o hiperparâmetro C**<br>\n",
    "Faremos agora a variação do hiperparâmetro C na tentativa de identificar um modelo com melhor desempenho para o kernel linear"
   ]
  },
  {
   "cell_type": "code",
   "execution_count": 72,
   "metadata": {},
   "outputs": [
    {
     "data": {
      "application/vnd.jupyter.widget-view+json": {
       "model_id": "6c3396a0cb9a45c29cc610c452f306fb",
       "version_major": 2,
       "version_minor": 0
      },
      "text/plain": [
       "HBox(children=(IntProgress(value=0, max=4), HTML(value='')))"
      ]
     },
     "metadata": {},
     "output_type": "display_data"
    },
    {
     "name": "stdout",
     "output_type": "stream",
     "text": [
      "\n"
     ]
    }
   ],
   "source": [
    "metrics_svm = {\n",
    "    'accuracy_train':[],\n",
    "    'precision_train':[],\n",
    "    'recall_train':[],\n",
    "    'f1_train':[],\n",
    "    'accuracy_test':[],\n",
    "    'precision_test':[],\n",
    "    'recall_test':[],\n",
    "    'f1_test':[]\n",
    "}\n",
    "\n",
    "espaco_de_busca_svm = [1, 10, 100, 500]\n",
    "for C in tqdm(espaco_de_busca_svm):\n",
    "    search_svm = Experiment()\n",
    "    search_svm.run_svm('linear', C)\n",
    "    metrics_search_svm = save_results(search_svm, metrics_svm)"
   ]
  },
  {
   "cell_type": "code",
   "execution_count": 74,
   "metadata": {},
   "outputs": [
    {
     "data": {
      "image/png": "[encoded data removed]",
      "text/plain": [
       "<Figure size 432x288 with 1 Axes>"
      ]
     },
     "metadata": {
      "needs_background": "light"
     },
     "output_type": "display_data"
    },
    {
     "data": {
      "image/png": "[encoded data removed]",
      "text/plain": [
       "<Figure size 432x288 with 1 Axes>"
      ]
     },
     "metadata": {
      "needs_background": "light"
     },
     "output_type": "display_data"
    }
   ],
   "source": [
    "plot_results(espaco_de_busca_svm, metrics_search_svm, baseline, name='SVM', parameter='C')"
   ]
  },
  {
   "cell_type": "markdown",
   "metadata": {},
   "source": [
    "**E | Análise do resultados**<br>\n",
    "Variando o C, foi possível melhorar o desempenho. Observamos que o desempenho de testes continua subindo no mesmo ritmo que o desempenho de treino, sugerindo que o overfitting ainda não ocorreu. Poderíamos continuar buscando novos valores de C, caso o desempenho do modelo fosse o objetivo. Por ora, prosseguiremos com o melhor modelo identificado até aqui: kernel linear com C=500.\n",
    "\n",
    "**Resultado preliminar - Acurácia de Teste**<br>\n",
    "Baseline..............................0.918<br>\n",
    "Decision Tree (depth=5).....0.950<br>\n",
    "SVM (linear, C=500)...........0.951"
   ]
  },
  {
   "cell_type": "code",
   "execution_count": 75,
   "metadata": {},
   "outputs": [
    {
     "name": "stdout",
     "output_type": "stream",
     "text": [
      "Train\n",
      "  Accuracy: 0.953\n",
      "  Precision: 0.974\n",
      "  Recall: 0.947\n",
      "  f1: 0.960\n",
      "\n",
      "Test\n",
      "  Accuracy: 0.951\n",
      "  Precision: 0.973\n",
      "  Recall: 0.944\n",
      "  f1: 0.958\n"
     ]
    }
   ],
   "source": [
    "best_svm = Experiment()\n",
    "best_svm.run_svm('linear', 500)\n",
    "best_svm.print_results()"
   ]
  },
  {
   "cell_type": "markdown",
   "metadata": {},
   "source": [
    "### 3.3 kNN"
   ]
  },
  {
   "cell_type": "markdown",
   "metadata": {},
   "source": [
    "**A | Objetivo do experimento**<br>\n",
    "O K-nearest neighbors faz a classificação de cada ponto com base observando o rótulo dos **k** vizinhos e decidindo o rótulo do ponto pela maioria dos rótulos observados.\n",
    "\n",
    "**Hiperparâmetro a ser variado: k**"
   ]
  },
  {
   "cell_type": "code",
   "execution_count": 32,
   "metadata": {},
   "outputs": [
    {
     "data": {
      "application/vnd.jupyter.widget-view+json": {
       "model_id": "9a3d5c67f1ca4d2faff80b7c299be026",
       "version_major": 2,
       "version_minor": 0
      },
      "text/plain": [
       "HBox(children=(IntProgress(value=0, max=8), HTML(value='')))"
      ]
     },
     "metadata": {},
     "output_type": "display_data"
    },
    {
     "name": "stdout",
     "output_type": "stream",
     "text": [
      "\n"
     ]
    }
   ],
   "source": [
    "metrics_knn = {\n",
    "    'accuracy_train':[],\n",
    "    'precision_train':[],\n",
    "    'recall_train':[],\n",
    "    'f1_train':[],\n",
    "    'accuracy_test':[],\n",
    "    'precision_test':[],\n",
    "    'recall_test':[],\n",
    "    'f1_test':[]\n",
    "}\n",
    "\n",
    "espaco_de_busca_knn = [i for i in range(3,17+1, 2)]\n",
    "for k in tqdm(espaco_de_busca_knn):\n",
    "    knn = Experiment()\n",
    "    knn.run_knn(k)\n",
    "    metrics_knn = save_results(knn, metrics_knn)"
   ]
  },
  {
   "cell_type": "markdown",
   "metadata": {},
   "source": [
    "**B | Resultados**"
   ]
  },
  {
   "cell_type": "code",
   "execution_count": 33,
   "metadata": {},
   "outputs": [
    {
     "data": {
      "image/png": "[encoded data removed]",
      "text/plain": [
       "<Figure size 432x288 with 1 Axes>"
      ]
     },
     "metadata": {
      "needs_background": "light"
     },
     "output_type": "display_data"
    },
    {
     "data": {
      "image/png": "[encoded data removed]",
      "text/plain": [
       "<Figure size 432x288 with 1 Axes>"
      ]
     },
     "metadata": {
      "needs_background": "light"
     },
     "output_type": "display_data"
    }
   ],
   "source": [
    "plot_results(espaco_de_busca_knn, metrics_knn, baseline, name='Knn', parameter='n_neighbors')"
   ]
  },
  {
   "cell_type": "code",
   "execution_count": 34,
   "metadata": {},
   "outputs": [
    {
     "name": "stdout",
     "output_type": "stream",
     "text": [
      "Acurácia teste\n",
      "3 :0.837 \n",
      "5 :0.838 \n",
      "7 :0.833 \n",
      "9 :0.833 \n",
      "11 :0.832 \n",
      "13 :0.831 \n",
      "15 :0.831 \n",
      "17 :0.829 \n"
     ]
    }
   ],
   "source": [
    "print('Acurácia teste')\n",
    "for i, item in enumerate(espaco_de_busca_knn):\n",
    "    print(item, ':{:.3f} '.format(metrics_knn['accuracy_test'][i]))"
   ]
  },
  {
   "cell_type": "markdown",
   "metadata": {},
   "source": [
    "**C | Análise**<br>\n",
    "Com baixos valores de k, o modelo apresenta forte overfitting uma vez que a percepção do modelo fica restrita a pontos muito próximos. Isso faz com que o modelo tenha pouco dado para embasar sua decisão, causando o overfitting. Entretanto, mesmo aumentando o valor de k, o melhor resultado fica em k=5 e não melhoramos o desempenho do modelo, que fica abaixo do baseline para todos os cassos testados.\n",
    "\n",
    "**Resultado preliminar - Acurácia de Teste**<br>\n",
    "Baseline..............................0.918<br>\n",
    "Decision Tree (depth=5).....0.950<br>\n",
    "SVM (linear, C=500)...........0.951<br>\n",
    "kNN (k=5)...........................0.838"
   ]
  },
  {
   "cell_type": "code",
   "execution_count": 77,
   "metadata": {},
   "outputs": [
    {
     "name": "stdout",
     "output_type": "stream",
     "text": [
      "Train\n",
      "  Accuracy: 0.886\n",
      "  Precision: 0.960\n",
      "  Recall: 0.844\n",
      "  f1: 0.898\n",
      "\n",
      "Test\n",
      "  Accuracy: 0.838\n",
      "  Precision: 0.934\n",
      "  Recall: 0.784\n",
      "  f1: 0.852\n"
     ]
    }
   ],
   "source": [
    "best_knn = Experiment()\n",
    "best_knn.run_knn(5)\n",
    "best_knn.print_results()"
   ]
  },
  {
   "cell_type": "markdown",
   "metadata": {},
   "source": [
    "### 3.4 Random Forest\n",
    "\n",
    "Esse algoritmo é um ensemble de árvores de decisão. Árvores são particularmente suscetíveis a overfitting. A técnica de bagging utilizada pela Random Forest tenta minimizar esse problema por meio de duas técnicas.\n",
    "\n",
    "*1 - Bootstrap aggregation*: A partir do dataset de treino, são escolhidas aleatoriamente X instâncias para formar um subdataset no qual uma árvore será treinada. O processo é realizado tantas vezes quantas forem as árvores a serem treinadas, com reposição das instâncias. Dessa forma, evita-se que as árvores overfittem para todas as instâncias do dataset de treino.<br>\n",
    "*2 - Random projection*: A cada subdatset criado, também são selecionadas algumas features, de forma a evitar o overfitting para features.\n",
    "\n",
    "Dados que os procedimentos acima são realizados uma vez para cada árvore a ser treinada, caso o **número de árvores** seja pequeno, frente ao tamanho do dataset, pode ocorrer de algumas instâncias e features serem pouco observadas ou sequer sejam observadas, incorrendo em underfitting. Os criadores do algoritmo alegam que o modelo não incorre em overfitting, entretanto, Segal (2004) identificou que o modelo entra em overfitting para alguns poucos datasets ruidosos.\n",
    "\n",
    "**Hiperparâmetro a ser variado: número de árvores**<br>\n",
    "\n",
    "**A | Objetivo do experimento**<br>\n",
    "Observar o comportamento do desempenho da Random Forest ao se varia o hiperparâmetro n_estimators."
   ]
  },
  {
   "cell_type": "code",
   "execution_count": 36,
   "metadata": {},
   "outputs": [
    {
     "data": {
      "application/vnd.jupyter.widget-view+json": {
       "model_id": "5ec7a06d9cd34b30884c9ac4a7a9712e",
       "version_major": 2,
       "version_minor": 0
      },
      "text/plain": [
       "HBox(children=(IntProgress(value=0, max=50), HTML(value='')))"
      ]
     },
     "metadata": {},
     "output_type": "display_data"
    },
    {
     "name": "stdout",
     "output_type": "stream",
     "text": [
      "\n"
     ]
    }
   ],
   "source": [
    "metrics_rf = {\n",
    "    'accuracy_train':[],\n",
    "    'precision_train':[],\n",
    "    'recall_train':[],\n",
    "    'f1_train':[],\n",
    "    'accuracy_test':[],\n",
    "    'precision_test':[],\n",
    "    'recall_test':[],\n",
    "    'f1_test':[]\n",
    "}\n",
    "\n",
    "espaco_de_busca_rf = [i for i in range(1,100+1, 2)]\n",
    "for estimators in tqdm(espaco_de_busca_rf):\n",
    "    rf = Experiment()\n",
    "    rf.run_rf(estimators)\n",
    "    metrics_rf = save_results(rf, metrics_rf)"
   ]
  },
  {
   "cell_type": "markdown",
   "metadata": {},
   "source": [
    "**B | Resultados**"
   ]
  },
  {
   "cell_type": "code",
   "execution_count": 37,
   "metadata": {},
   "outputs": [
    {
     "data": {
      "image/png": "[encoded data removed]",
      "text/plain": [
       "<Figure size 432x288 with 1 Axes>"
      ]
     },
     "metadata": {
      "needs_background": "light"
     },
     "output_type": "display_data"
    },
    {
     "data": {
      "image/png": "[encoded data removed]",
      "text/plain": [
       "<Figure size 432x288 with 1 Axes>"
      ]
     },
     "metadata": {
      "needs_background": "light"
     },
     "output_type": "display_data"
    }
   ],
   "source": [
    "plot_results(espaco_de_busca_rf, metrics_rf, baseline, name='RF', parameter='n_estimators')"
   ]
  },
  {
   "cell_type": "code",
   "execution_count": 38,
   "metadata": {},
   "outputs": [
    {
     "name": "stdout",
     "output_type": "stream",
     "text": [
      "Acurácia Teste\n",
      "1 :0.936 \n",
      "3 :0.953 \n",
      "5 :0.960 \n",
      "7 :0.963 \n",
      "9 :0.962 \n",
      "11 :0.965 \n",
      "13 :0.964 \n",
      "15 :0.971 \n",
      "17 :0.967 \n",
      "19 :0.968 \n",
      "21 :0.967 \n",
      "23 :0.969 \n",
      "25 :0.969 \n",
      "27 :0.969 \n",
      "29 :0.969 \n",
      "31 :0.967 \n",
      "33 :0.970 \n",
      "35 :0.968 \n",
      "37 :0.969 \n",
      "39 :0.969 \n",
      "41 :0.970 \n",
      "43 :0.971 \n",
      "45 :0.969 \n",
      "47 :0.968 \n",
      "49 :0.967 \n",
      "51 :0.968 \n",
      "53 :0.968 \n",
      "55 :0.968 \n",
      "57 :0.971 \n",
      "59 :0.970 \n",
      "61 :0.968 \n",
      "63 :0.969 \n",
      "65 :0.969 \n",
      "67 :0.968 \n",
      "69 :0.968 \n",
      "71 :0.969 \n",
      "73 :0.968 \n",
      "75 :0.968 \n",
      "77 :0.969 \n",
      "79 :0.968 \n",
      "81 :0.969 \n",
      "83 :0.970 \n",
      "85 :0.968 \n",
      "87 :0.970 \n",
      "89 :0.969 \n",
      "91 :0.968 \n",
      "93 :0.971 \n",
      "95 :0.969 \n",
      "97 :0.970 \n",
      "99 :0.968 \n"
     ]
    }
   ],
   "source": [
    "print('Acurácia Teste')\n",
    "for i, item in enumerate(espaco_de_busca_rf):\n",
    "    print(item, ':{:.3f} '.format(metrics_rf['accuracy_test'][i]))"
   ]
  },
  {
   "cell_type": "markdown",
   "metadata": {},
   "source": [
    "**C | Análise**<br>\n",
    "É muito interessante observar que, mesmo para um grande número de árvores, não se verifica indício de overfitting, conforme o esperado. O desempenho de treino atinge níveis muito altos, mas não leva a uma queda de desempenho no teste. Por outro lado, a partir de 20 árvores, o desempenho de teste não aumentou. Para que isso ocorresse, precisaríamos de mais dados de treino. Além disso, esse modelo atingiu a melhor acurácia até agora: 0.964\n",
    "\n",
    "Selecionaremos n_estimators=13, dado que entre desempenhos que empatam, vamos privilegiar o menor custo computacional.\n",
    "\n",
    "**Resultado preliminar - Acurácia de Teste**<br>\n",
    "Baseline..............................0.918<br>\n",
    "Decision Tree (depth=5).....0.950<br>\n",
    "SVM (linear, C=500)...........0.951<br>\n",
    "kNN (k=5)...........................0.838<br>\n",
    "RF (n_estimators=13).........0.964"
   ]
  },
  {
   "cell_type": "code",
   "execution_count": 78,
   "metadata": {},
   "outputs": [
    {
     "name": "stdout",
     "output_type": "stream",
     "text": [
      "Train\n",
      "  Accuracy: 0.999\n",
      "  Precision: 0.999\n",
      "  Recall: 1.000\n",
      "  f1: 0.999\n",
      "\n",
      "Test\n",
      "  Accuracy: 0.968\n",
      "  Precision: 0.971\n",
      "  Recall: 0.975\n",
      "  f1: 0.973\n"
     ]
    }
   ],
   "source": [
    "best_rf = Experiment()\n",
    "best_rf.run_rf(13)\n",
    "best_rf.print_results()"
   ]
  },
  {
   "cell_type": "markdown",
   "metadata": {},
   "source": [
    "### 3.5 Gradient Tree Boosting\n",
    "\n",
    "O Gradient Boosting utiliza o boosting como técnica de ensemble. O GB é uma variação do AdaBosst, no qual árvores extremamente simples (decision stumps) são cultivadas e, ao final, uma votação entre elas decide a classificação final. O GB altera a forma de cultivo dos classificadores fracos. Além de poderem ser ligeiramente maiores, as árvores são adicionadas uma a cada **iteração**. É utilizada uma função de otimização para informar a parametrização de cada árvore adicionada, tipicamente, o gradient descent. \n",
    "\n",
    "Dado que são utilizados classificadores fracos, o GB é robusto a overfitting, mas como a cada iteração, o erro dos classificadores anteriores é utilizado para cultivo da árvores seguinte, temos chance real de overfitting\n",
    "\n",
    "**Hiperparâmetro variado: n_estimators (iterações)**\n",
    "\n",
    "**A | Objetivo do experimento**<br>\n",
    "Verificar o comportamento do desempenho ao se variar o número de iterações do Gradient Boosting"
   ]
  },
  {
   "cell_type": "code",
   "execution_count": 41,
   "metadata": {},
   "outputs": [
    {
     "data": {
      "application/vnd.jupyter.widget-view+json": {
       "model_id": "3071929fc7ba4ad89cd53f136a15a150",
       "version_major": 2,
       "version_minor": 0
      },
      "text/plain": [
       "HBox(children=(IntProgress(value=0, max=10), HTML(value='')))"
      ]
     },
     "metadata": {},
     "output_type": "display_data"
    },
    {
     "name": "stdout",
     "output_type": "stream",
     "text": [
      "\n"
     ]
    }
   ],
   "source": [
    "metrics_gb = {\n",
    "    'accuracy_train':[],\n",
    "    'precision_train':[],\n",
    "    'recall_train':[],\n",
    "    'f1_train':[],\n",
    "    'accuracy_test':[],\n",
    "    'precision_test':[],\n",
    "    'recall_test':[],\n",
    "    'f1_test':[]\n",
    "}\n",
    "\n",
    "espaco_de_busca_gb = [i for i in range(10,100+1, 10)]\n",
    "for estimators in tqdm(espaco_de_busca_gb):\n",
    "    gb = Experiment()\n",
    "    gb.run_gb(estimators)\n",
    "    metrics_gb = save_results(gb, metrics_gb)"
   ]
  },
  {
   "cell_type": "markdown",
   "metadata": {},
   "source": [
    "**B | Resultados**"
   ]
  },
  {
   "cell_type": "code",
   "execution_count": 42,
   "metadata": {},
   "outputs": [
    {
     "data": {
      "image/png": "[encoded data removed]",
      "text/plain": [
       "<Figure size 432x288 with 1 Axes>"
      ]
     },
     "metadata": {
      "needs_background": "light"
     },
     "output_type": "display_data"
    },
    {
     "data": {
      "image/png": "[encoded data removed]",
      "text/plain": [
       "<Figure size 432x288 with 1 Axes>"
      ]
     },
     "metadata": {
      "needs_background": "light"
     },
     "output_type": "display_data"
    }
   ],
   "source": [
    "plot_results(espaco_de_busca_gb, metrics_gb, baseline, name='Gradient Boosting', parameter='n_estimators')"
   ]
  },
  {
   "cell_type": "code",
   "execution_count": 43,
   "metadata": {},
   "outputs": [
    {
     "name": "stdout",
     "output_type": "stream",
     "text": [
      "Acurácia de Teste\n",
      "10 :0.954 \n",
      "20 :0.960 \n",
      "30 :0.965 \n",
      "40 :0.966 \n",
      "50 :0.968 \n",
      "60 :0.969 \n",
      "70 :0.970 \n",
      "80 :0.970 \n",
      "90 :0.970 \n",
      "100 :0.970 \n"
     ]
    }
   ],
   "source": [
    "print('Acurácia de Teste')\n",
    "for i, item in enumerate(espaco_de_busca_gb):\n",
    "    print(item, ':{:.3f} '.format(metrics_gb['accuracy_test'][i]))"
   ]
  },
  {
   "cell_type": "markdown",
   "metadata": {},
   "source": [
    "**C | Análise**<br>\n",
    "O afastamento das curvas de treino e teste evidencia o overfitting. A partir de 70 iterações, o desempenho de teste não apresenta melhora significativa e aumenta o custo computacional. Dessa forma, será selecionado como melhor modelo deste experimento, o Gradient Boosting com 70 iterações\n",
    "\n",
    "**Resultado preliminar - Acurácia de Teste**<br>\n",
    "Baseline..............................0.918<br>\n",
    "Decision Tree (depth=5).....0.950<br>\n",
    "SVM (linear, C=500)...........0.951<br>\n",
    "kNN (k=5)...........................0.838<br>\n",
    "RF (n_estimators=13).........0.964<br>\n",
    "GB (iterações = 70)............0.970"
   ]
  },
  {
   "cell_type": "code",
   "execution_count": 79,
   "metadata": {},
   "outputs": [
    {
     "name": "stdout",
     "output_type": "stream",
     "text": [
      "Train\n",
      "  Accuracy: 0.985\n",
      "  Precision: 0.991\n",
      "  Recall: 0.983\n",
      "  f1: 0.987\n",
      "\n",
      "Test\n",
      "  Accuracy: 0.970\n",
      "  Precision: 0.980\n",
      "  Recall: 0.970\n",
      "  f1: 0.975\n"
     ]
    }
   ],
   "source": [
    "best_gb = Experiment()\n",
    "best_gb.run_gb(70)\n",
    "best_gb.print_results()"
   ]
  },
  {
   "cell_type": "markdown",
   "metadata": {},
   "source": [
    "## 3. Análise comparativa entre os modelos"
   ]
  },
  {
   "cell_type": "markdown",
   "metadata": {},
   "source": [
    "Observamos que o modelo Gradiente Boosting obteve o melhor desempenho dos 5 testados, com acurácia de teste de 0.970. Apenas o modelo kNN ficou abaixo do baseline para as métricas acurácia e f1 e também foi o que obteve maior variância nas métricas."
   ]
  },
  {
   "cell_type": "code",
   "execution_count": 107,
   "metadata": {},
   "outputs": [
    {
     "name": "stdout",
     "output_type": "stream",
     "text": [
      "Acurácia de Teste\n",
      "  Baseline...........0.918\n",
      "  Decision Tree......0.950\n",
      "  SVM................0.951\n",
      "  kNN................0.838\n",
      "  Random Forest......0.968\n",
      "  Gradient Boosting..0.970\n"
     ]
    }
   ],
   "source": [
    "accuracy_compare(baseline, best_dt, best_svm, best_knn, best_rf, best_gb)"
   ]
  },
  {
   "cell_type": "code",
   "execution_count": 109,
   "metadata": {},
   "outputs": [
    {
     "data": {
      "image/png": "[encoded data removed]",
      "text/plain": [
       "<Figure size 432x288 with 1 Axes>"
      ]
     },
     "metadata": {
      "needs_background": "light"
     },
     "output_type": "display_data"
    }
   ],
   "source": [
    "# Atenção, eixo y cropado\n",
    "models = [best_dt, best_svm, best_knn, best_rf, best_gb]\n",
    "plot_compare_models(models, baseline)"
   ]
  },
  {
   "cell_type": "markdown",
   "metadata": {},
   "source": [
    "**ROC e AUC**"
   ]
  },
  {
   "cell_type": "code",
   "execution_count": 111,
   "metadata": {},
   "outputs": [
    {
     "data": {
      "image/png": "[encoded data removed]",
      "text/plain": [
       "<Figure size 432x288 with 1 Axes>"
      ]
     },
     "metadata": {
      "needs_background": "light"
     },
     "output_type": "display_data"
    }
   ],
   "source": [
    "roc_compare(baseline, best_dt, best_svm, best_knn, best_rf, best_gb)"
   ]
  },
  {
   "cell_type": "markdown",
   "metadata": {},
   "source": [
    "Um trade-off típico que acompanha classificações binárias é a true positives x false positive; o aumento de um vem acompanhado do decremento do outro. A curva ROC permite visualizar a dimensão desse trade-off. Essa informação é importante para decisões em problemas em que é desejado algum viés no sentido aumentar algum desses dois indicadores.\n",
    "\n",
    "Observamos que o KNN apresenta grande trade-off, ou seja, caso deseje aumentar sua cobertura dos true positives, esse aumento também virá acompanhado de um aumento de false positives. A medida AUC - area under curve sumariza esse trade-off. Observamos que a RF e o GB apresenta empate estístico e que a DT ficou abaixo do AUC do baseline (NB).\n",
    "\n"
   ]
  },
  {
   "cell_type": "markdown",
   "metadata": {},
   "source": [
    "## 4. Conclusão"
   ]
  },
  {
   "cell_type": "markdown",
   "metadata": {},
   "source": [
    "Fica claro que cada algoritmo tem suas vantagens e desvantagens, dependendo da quantidade de dados, disposição dos pontos no espaço, custo computacional e desmepenho mínimo necessário, de acordo com a tarefa. Também é importante notar que pra certos problemas, podemos estar mais interessados em desmepenho de recall do que de precisão, como exames médicos por exemplo, e a escolha correta de hiperparâmetros é fundamental para atingir esse objetivo.\n",
    "\n",
    "O tunning dos hiperparâmetros é fundamental para melhoria dos resultados e a validação cruzada foi essencial para explicitar a ocorrência ou não de overfitting de modo a permitir uma escolha mais segura dos hiperparâmetros para que, em produção, o modelo faça predições o mais acuradas possível em dados nunca antes vistos. Para além dasmétricas clássicas, a ROC apresenta informações adicionais que podem ser essenciais em decisões de tunning em função do problema em estudo.\n",
    "\n",
    "Também fica claro como não é possível determinar receitas prontas de modelos, uma vez que cada dado e cada problema tem particularidades que precisam ser investigadas empiricamente."
   ]
  },
  {
   "cell_type": "markdown",
   "metadata": {},
   "source": [
    "###### Referências\n",
    "\n",
    "* Rando Fortes. <https://www.stat.berkeley.edu/~breiman/RandomForests/cc_home.htm#remarks>. Acessado em 21/05/2019.\n",
    "* Segal, Mark R. \"Machine learning benchmarks and random forest regression.\" (2004)."
   ]
  }
 ],
 "metadata": {
  "kernelspec": {
   "display_name": "Python 3",
   "language": "python",
   "name": "python3"
  },
  "language_info": {
   "codemirror_mode": {
    "name": "ipython",
    "version": 3
   },
   "file_extension": ".py",
   "mimetype": "text/x-python",
   "name": "python",
   "nbconvert_exporter": "python",
   "pygments_lexer": "ipython3",
   "version": "3.7.3"
  }
 },
 "nbformat": 4,
 "nbformat_minor": 2
}
