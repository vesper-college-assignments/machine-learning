{
 "cells": [
  {
   "cell_type": "markdown",
   "metadata": {},
   "source": [
    "# Aula de Demonstração Prática"
   ]
  },
  {
   "cell_type": "code",
   "execution_count": 1,
   "metadata": {},
   "outputs": [],
   "source": [
    "import pandas as pd\n",
    "import numpy as np\n",
    "\n",
    "import matplotlib as mpl\n",
    "import matplotlib.pyplot as plt\n",
    "\n",
    "from IPython.display import display\n",
    "\n",
    "from sklearn import svm\n",
    "from sklearn import metrics\n",
    "from sklearn import ensemble\n",
    "from sklearn import neighbors\n",
    "from sklearn import feature_selection"
   ]
  },
  {
   "cell_type": "code",
   "execution_count": 2,
   "metadata": {},
   "outputs": [],
   "source": [
    "# Constantes geralmente ficam no inicio do notebook e usam apenas letras maiusculas\n",
    "\n",
    "# Caminho do arquivo de entrada\n",
    "INPUT_FILEPATH = \"weatherAUS.csv\"\n",
    "\n",
    "# Variavel que queremos predizer\n",
    "TARGET = \"RainTomorrow\"\n",
    "\n",
    "# Tamanho do conjunto de validacao (proporcao)\n",
    "VAL_SIZE = 0.2\n",
    "\n",
    "# Numero de features a serem usadas\n",
    "N_FEATURES = 20"
   ]
  },
  {
   "cell_type": "markdown",
   "metadata": {},
   "source": [
    "## Resumo dos Dados"
   ]
  },
  {
   "cell_type": "markdown",
   "metadata": {},
   "source": [
    "O conjunto de dados usado neste notebook consiste observações meteorologicas diárias feitas em múltiplas cidades Australianas. O problema abordado é de classificar, a partir de medições feitas no dia atual, se haverá chuva no dia seguinte. \n",
    "\n",
    "Fonte dos dados: [Kaggle: Rain in Australia](https://www.kaggle.com/jsphyg/weather-dataset-rattle-package)"
   ]
  },
  {
   "cell_type": "code",
   "execution_count": 3,
   "metadata": {
    "scrolled": false
   },
   "outputs": [
    {
     "name": "stdout",
     "output_type": "stream",
     "text": [
      "Numero de linhas: 142193\n",
      "Numero de colunas: 21\n",
      "Dados faltando: 316559\n",
      "\n",
      "Amostra:\n"
     ]
    },
    {
     "data": {
      "text/html": [
       "<div>\n",
       "<style scoped>\n",
       "    .dataframe tbody tr th:only-of-type {\n",
       "        vertical-align: middle;\n",
       "    }\n",
       "\n",
       "    .dataframe tbody tr th {\n",
       "        vertical-align: top;\n",
       "    }\n",
       "\n",
       "    .dataframe thead th {\n",
       "        text-align: right;\n",
       "    }\n",
       "</style>\n",
       "<table border=\"1\" class=\"dataframe\">\n",
       "  <thead>\n",
       "    <tr style=\"text-align: right;\">\n",
       "      <th></th>\n",
       "      <th>MinTemp</th>\n",
       "      <th>MaxTemp</th>\n",
       "      <th>Rainfall</th>\n",
       "      <th>Evaporation</th>\n",
       "      <th>Sunshine</th>\n",
       "      <th>WindGustDir</th>\n",
       "      <th>...</th>\n",
       "      <th>Cloud9am</th>\n",
       "      <th>Cloud3pm</th>\n",
       "      <th>Temp9am</th>\n",
       "      <th>Temp3pm</th>\n",
       "      <th>RainToday</th>\n",
       "      <th>RainTomorrow</th>\n",
       "    </tr>\n",
       "  </thead>\n",
       "  <tbody>\n",
       "    <tr>\n",
       "      <th>0</th>\n",
       "      <td>13.4</td>\n",
       "      <td>22.9</td>\n",
       "      <td>0.6</td>\n",
       "      <td>NaN</td>\n",
       "      <td>NaN</td>\n",
       "      <td>W</td>\n",
       "      <td>...</td>\n",
       "      <td>8.0</td>\n",
       "      <td>NaN</td>\n",
       "      <td>16.9</td>\n",
       "      <td>21.8</td>\n",
       "      <td>No</td>\n",
       "      <td>No</td>\n",
       "    </tr>\n",
       "    <tr>\n",
       "      <th>1</th>\n",
       "      <td>7.4</td>\n",
       "      <td>25.1</td>\n",
       "      <td>0.0</td>\n",
       "      <td>NaN</td>\n",
       "      <td>NaN</td>\n",
       "      <td>WNW</td>\n",
       "      <td>...</td>\n",
       "      <td>NaN</td>\n",
       "      <td>NaN</td>\n",
       "      <td>17.2</td>\n",
       "      <td>24.3</td>\n",
       "      <td>No</td>\n",
       "      <td>No</td>\n",
       "    </tr>\n",
       "    <tr>\n",
       "      <th>2</th>\n",
       "      <td>12.9</td>\n",
       "      <td>25.7</td>\n",
       "      <td>0.0</td>\n",
       "      <td>NaN</td>\n",
       "      <td>NaN</td>\n",
       "      <td>WSW</td>\n",
       "      <td>...</td>\n",
       "      <td>NaN</td>\n",
       "      <td>2.0</td>\n",
       "      <td>21.0</td>\n",
       "      <td>23.2</td>\n",
       "      <td>No</td>\n",
       "      <td>No</td>\n",
       "    </tr>\n",
       "    <tr>\n",
       "      <th>3</th>\n",
       "      <td>9.2</td>\n",
       "      <td>28.0</td>\n",
       "      <td>0.0</td>\n",
       "      <td>NaN</td>\n",
       "      <td>NaN</td>\n",
       "      <td>NE</td>\n",
       "      <td>...</td>\n",
       "      <td>NaN</td>\n",
       "      <td>NaN</td>\n",
       "      <td>18.1</td>\n",
       "      <td>26.5</td>\n",
       "      <td>No</td>\n",
       "      <td>No</td>\n",
       "    </tr>\n",
       "    <tr>\n",
       "      <th>4</th>\n",
       "      <td>17.5</td>\n",
       "      <td>32.3</td>\n",
       "      <td>1.0</td>\n",
       "      <td>NaN</td>\n",
       "      <td>NaN</td>\n",
       "      <td>W</td>\n",
       "      <td>...</td>\n",
       "      <td>7.0</td>\n",
       "      <td>8.0</td>\n",
       "      <td>17.8</td>\n",
       "      <td>29.7</td>\n",
       "      <td>No</td>\n",
       "      <td>No</td>\n",
       "    </tr>\n",
       "    <tr>\n",
       "      <th>5</th>\n",
       "      <td>14.6</td>\n",
       "      <td>29.7</td>\n",
       "      <td>0.2</td>\n",
       "      <td>NaN</td>\n",
       "      <td>NaN</td>\n",
       "      <td>WNW</td>\n",
       "      <td>...</td>\n",
       "      <td>NaN</td>\n",
       "      <td>NaN</td>\n",
       "      <td>20.6</td>\n",
       "      <td>28.9</td>\n",
       "      <td>No</td>\n",
       "      <td>No</td>\n",
       "    </tr>\n",
       "    <tr>\n",
       "      <th>6</th>\n",
       "      <td>14.3</td>\n",
       "      <td>25.0</td>\n",
       "      <td>0.0</td>\n",
       "      <td>NaN</td>\n",
       "      <td>NaN</td>\n",
       "      <td>W</td>\n",
       "      <td>...</td>\n",
       "      <td>1.0</td>\n",
       "      <td>NaN</td>\n",
       "      <td>18.1</td>\n",
       "      <td>24.6</td>\n",
       "      <td>No</td>\n",
       "      <td>No</td>\n",
       "    </tr>\n",
       "    <tr>\n",
       "      <th>7</th>\n",
       "      <td>7.7</td>\n",
       "      <td>26.7</td>\n",
       "      <td>0.0</td>\n",
       "      <td>NaN</td>\n",
       "      <td>NaN</td>\n",
       "      <td>W</td>\n",
       "      <td>...</td>\n",
       "      <td>NaN</td>\n",
       "      <td>NaN</td>\n",
       "      <td>16.3</td>\n",
       "      <td>25.5</td>\n",
       "      <td>No</td>\n",
       "      <td>No</td>\n",
       "    </tr>\n",
       "    <tr>\n",
       "      <th>8</th>\n",
       "      <td>9.7</td>\n",
       "      <td>31.9</td>\n",
       "      <td>0.0</td>\n",
       "      <td>NaN</td>\n",
       "      <td>NaN</td>\n",
       "      <td>NNW</td>\n",
       "      <td>...</td>\n",
       "      <td>NaN</td>\n",
       "      <td>NaN</td>\n",
       "      <td>18.3</td>\n",
       "      <td>30.2</td>\n",
       "      <td>No</td>\n",
       "      <td>Yes</td>\n",
       "    </tr>\n",
       "    <tr>\n",
       "      <th>9</th>\n",
       "      <td>13.1</td>\n",
       "      <td>30.1</td>\n",
       "      <td>1.4</td>\n",
       "      <td>NaN</td>\n",
       "      <td>NaN</td>\n",
       "      <td>W</td>\n",
       "      <td>...</td>\n",
       "      <td>NaN</td>\n",
       "      <td>NaN</td>\n",
       "      <td>20.1</td>\n",
       "      <td>28.2</td>\n",
       "      <td>Yes</td>\n",
       "      <td>No</td>\n",
       "    </tr>\n",
       "    <tr>\n",
       "      <th>10</th>\n",
       "      <td>13.4</td>\n",
       "      <td>30.4</td>\n",
       "      <td>0.0</td>\n",
       "      <td>NaN</td>\n",
       "      <td>NaN</td>\n",
       "      <td>N</td>\n",
       "      <td>...</td>\n",
       "      <td>NaN</td>\n",
       "      <td>NaN</td>\n",
       "      <td>20.4</td>\n",
       "      <td>28.8</td>\n",
       "      <td>No</td>\n",
       "      <td>Yes</td>\n",
       "    </tr>\n",
       "    <tr>\n",
       "      <th>11</th>\n",
       "      <td>15.9</td>\n",
       "      <td>21.7</td>\n",
       "      <td>2.2</td>\n",
       "      <td>NaN</td>\n",
       "      <td>NaN</td>\n",
       "      <td>NNE</td>\n",
       "      <td>...</td>\n",
       "      <td>8.0</td>\n",
       "      <td>8.0</td>\n",
       "      <td>15.9</td>\n",
       "      <td>17.0</td>\n",
       "      <td>Yes</td>\n",
       "      <td>Yes</td>\n",
       "    </tr>\n",
       "    <tr>\n",
       "      <th>12</th>\n",
       "      <td>15.9</td>\n",
       "      <td>18.6</td>\n",
       "      <td>15.6</td>\n",
       "      <td>NaN</td>\n",
       "      <td>NaN</td>\n",
       "      <td>W</td>\n",
       "      <td>...</td>\n",
       "      <td>8.0</td>\n",
       "      <td>8.0</td>\n",
       "      <td>17.4</td>\n",
       "      <td>15.8</td>\n",
       "      <td>Yes</td>\n",
       "      <td>Yes</td>\n",
       "    </tr>\n",
       "    <tr>\n",
       "      <th>13</th>\n",
       "      <td>12.6</td>\n",
       "      <td>21.0</td>\n",
       "      <td>3.6</td>\n",
       "      <td>NaN</td>\n",
       "      <td>NaN</td>\n",
       "      <td>SW</td>\n",
       "      <td>...</td>\n",
       "      <td>NaN</td>\n",
       "      <td>7.0</td>\n",
       "      <td>15.8</td>\n",
       "      <td>19.8</td>\n",
       "      <td>Yes</td>\n",
       "      <td>No</td>\n",
       "    </tr>\n",
       "    <tr>\n",
       "      <th>14</th>\n",
       "      <td>9.8</td>\n",
       "      <td>27.7</td>\n",
       "      <td>NaN</td>\n",
       "      <td>NaN</td>\n",
       "      <td>NaN</td>\n",
       "      <td>WNW</td>\n",
       "      <td>...</td>\n",
       "      <td>0.0</td>\n",
       "      <td>NaN</td>\n",
       "      <td>17.3</td>\n",
       "      <td>26.2</td>\n",
       "      <td>NaN</td>\n",
       "      <td>No</td>\n",
       "    </tr>\n",
       "    <tr>\n",
       "      <th>15</th>\n",
       "      <td>14.1</td>\n",
       "      <td>20.9</td>\n",
       "      <td>0.0</td>\n",
       "      <td>NaN</td>\n",
       "      <td>NaN</td>\n",
       "      <td>ENE</td>\n",
       "      <td>...</td>\n",
       "      <td>8.0</td>\n",
       "      <td>1.0</td>\n",
       "      <td>17.2</td>\n",
       "      <td>18.1</td>\n",
       "      <td>No</td>\n",
       "      <td>Yes</td>\n",
       "    </tr>\n",
       "    <tr>\n",
       "      <th>16</th>\n",
       "      <td>13.5</td>\n",
       "      <td>22.9</td>\n",
       "      <td>16.8</td>\n",
       "      <td>NaN</td>\n",
       "      <td>NaN</td>\n",
       "      <td>W</td>\n",
       "      <td>...</td>\n",
       "      <td>8.0</td>\n",
       "      <td>1.0</td>\n",
       "      <td>18.0</td>\n",
       "      <td>21.5</td>\n",
       "      <td>Yes</td>\n",
       "      <td>Yes</td>\n",
       "    </tr>\n",
       "    <tr>\n",
       "      <th>17</th>\n",
       "      <td>11.2</td>\n",
       "      <td>22.5</td>\n",
       "      <td>10.6</td>\n",
       "      <td>NaN</td>\n",
       "      <td>NaN</td>\n",
       "      <td>SSE</td>\n",
       "      <td>...</td>\n",
       "      <td>NaN</td>\n",
       "      <td>2.0</td>\n",
       "      <td>15.5</td>\n",
       "      <td>21.0</td>\n",
       "      <td>Yes</td>\n",
       "      <td>No</td>\n",
       "    </tr>\n",
       "    <tr>\n",
       "      <th>18</th>\n",
       "      <td>9.8</td>\n",
       "      <td>25.6</td>\n",
       "      <td>0.0</td>\n",
       "      <td>NaN</td>\n",
       "      <td>NaN</td>\n",
       "      <td>SSE</td>\n",
       "      <td>...</td>\n",
       "      <td>NaN</td>\n",
       "      <td>NaN</td>\n",
       "      <td>15.8</td>\n",
       "      <td>23.2</td>\n",
       "      <td>No</td>\n",
       "      <td>No</td>\n",
       "    </tr>\n",
       "    <tr>\n",
       "      <th>19</th>\n",
       "      <td>11.5</td>\n",
       "      <td>29.3</td>\n",
       "      <td>0.0</td>\n",
       "      <td>NaN</td>\n",
       "      <td>NaN</td>\n",
       "      <td>S</td>\n",
       "      <td>...</td>\n",
       "      <td>NaN</td>\n",
       "      <td>NaN</td>\n",
       "      <td>19.1</td>\n",
       "      <td>27.3</td>\n",
       "      <td>No</td>\n",
       "      <td>No</td>\n",
       "    </tr>\n",
       "  </tbody>\n",
       "</table>\n",
       "<p>20 rows × 21 columns</p>\n",
       "</div>"
      ],
      "text/plain": [
       "    MinTemp  MaxTemp  Rainfall  Evaporation  Sunshine WindGustDir  ...  \\\n",
       "0      13.4     22.9       0.6          NaN       NaN           W  ...   \n",
       "1       7.4     25.1       0.0          NaN       NaN         WNW  ...   \n",
       "2      12.9     25.7       0.0          NaN       NaN         WSW  ...   \n",
       "3       9.2     28.0       0.0          NaN       NaN          NE  ...   \n",
       "4      17.5     32.3       1.0          NaN       NaN           W  ...   \n",
       "5      14.6     29.7       0.2          NaN       NaN         WNW  ...   \n",
       "6      14.3     25.0       0.0          NaN       NaN           W  ...   \n",
       "7       7.7     26.7       0.0          NaN       NaN           W  ...   \n",
       "8       9.7     31.9       0.0          NaN       NaN         NNW  ...   \n",
       "9      13.1     30.1       1.4          NaN       NaN           W  ...   \n",
       "10     13.4     30.4       0.0          NaN       NaN           N  ...   \n",
       "11     15.9     21.7       2.2          NaN       NaN         NNE  ...   \n",
       "12     15.9     18.6      15.6          NaN       NaN           W  ...   \n",
       "13     12.6     21.0       3.6          NaN       NaN          SW  ...   \n",
       "14      9.8     27.7       NaN          NaN       NaN         WNW  ...   \n",
       "15     14.1     20.9       0.0          NaN       NaN         ENE  ...   \n",
       "16     13.5     22.9      16.8          NaN       NaN           W  ...   \n",
       "17     11.2     22.5      10.6          NaN       NaN         SSE  ...   \n",
       "18      9.8     25.6       0.0          NaN       NaN         SSE  ...   \n",
       "19     11.5     29.3       0.0          NaN       NaN           S  ...   \n",
       "\n",
       "    Cloud9am Cloud3pm Temp9am  Temp3pm  RainToday  RainTomorrow  \n",
       "0        8.0      NaN    16.9     21.8         No            No  \n",
       "1        NaN      NaN    17.2     24.3         No            No  \n",
       "2        NaN      2.0    21.0     23.2         No            No  \n",
       "3        NaN      NaN    18.1     26.5         No            No  \n",
       "4        7.0      8.0    17.8     29.7         No            No  \n",
       "5        NaN      NaN    20.6     28.9         No            No  \n",
       "6        1.0      NaN    18.1     24.6         No            No  \n",
       "7        NaN      NaN    16.3     25.5         No            No  \n",
       "8        NaN      NaN    18.3     30.2         No           Yes  \n",
       "9        NaN      NaN    20.1     28.2        Yes            No  \n",
       "10       NaN      NaN    20.4     28.8         No           Yes  \n",
       "11       8.0      8.0    15.9     17.0        Yes           Yes  \n",
       "12       8.0      8.0    17.4     15.8        Yes           Yes  \n",
       "13       NaN      7.0    15.8     19.8        Yes            No  \n",
       "14       0.0      NaN    17.3     26.2        NaN            No  \n",
       "15       8.0      1.0    17.2     18.1         No           Yes  \n",
       "16       8.0      1.0    18.0     21.5        Yes           Yes  \n",
       "17       NaN      2.0    15.5     21.0        Yes            No  \n",
       "18       NaN      NaN    15.8     23.2         No            No  \n",
       "19       NaN      NaN    19.1     27.3         No            No  \n",
       "\n",
       "[20 rows x 21 columns]"
      ]
     },
     "metadata": {},
     "output_type": "display_data"
    },
    {
     "name": "stdout",
     "output_type": "stream",
     "text": [
      "Target: RainTomorrow\n",
      "Features:\n",
      "  MinTemp\n",
      "  MaxTemp\n",
      "  Rainfall\n",
      "  Evaporation\n",
      "  Sunshine\n",
      "  WindGustDir\n",
      "  WindGustSpeed\n",
      "  WindDir9am\n",
      "  WindDir3pm\n",
      "  WindSpeed9am\n",
      "  WindSpeed3pm\n",
      "  Humidity9am\n",
      "  Humidity3pm\n",
      "  Pressure9am\n",
      "  Pressure3pm\n",
      "  Cloud9am\n",
      "  Cloud3pm\n",
      "  Temp9am\n",
      "  Temp3pm\n",
      "  RainToday\n"
     ]
    }
   ],
   "source": [
    "# Leitura do dataset para um DataFrame do Pandas\n",
    "# (neste caso ele usa o separador default que eh a virgula)\n",
    "df = pd.read_csv(INPUT_FILEPATH)\n",
    "\n",
    "# Remove colunas que nao serao usadas\n",
    "df = df.drop([\"Date\", \"Location\", \"RISK_MM\"], axis=1)\n",
    "\n",
    "# Imprime algumas informacoes basicas sobre os dados\n",
    "print(\"Numero de linhas: {}\".format(df.shape[0]))\n",
    "print(\"Numero de colunas: {}\".format(df.shape[1]))\n",
    "print(\"Dados faltando: {}\".format(df.isnull().sum().sum()))\n",
    "\n",
    "print(\"\\nAmostra:\")\n",
    "with pd.option_context(\"max_columns\", 12): # Limita o numero de cols mostradas\n",
    "    display(df.head(20))\n",
    "\n",
    "# Cria uma lista com as features\n",
    "features = list(df.columns)\n",
    "features.remove(TARGET)\n",
    "\n",
    "print(\"Target: {}\".format(TARGET))\n",
    "print(\"Features:\")\n",
    "print(\"\\n\".join([\"  \" + x for x in features]))\n",
    "\n",
    "mpl.rc('font', size=14)"
   ]
  },
  {
   "cell_type": "markdown",
   "metadata": {},
   "source": [
    "## Dados Faltando"
   ]
  },
  {
   "cell_type": "code",
   "execution_count": 4,
   "metadata": {},
   "outputs": [
    {
     "data": {
      "text/html": [
       "<div>\n",
       "<style scoped>\n",
       "    .dataframe tbody tr th:only-of-type {\n",
       "        vertical-align: middle;\n",
       "    }\n",
       "\n",
       "    .dataframe tbody tr th {\n",
       "        vertical-align: top;\n",
       "    }\n",
       "\n",
       "    .dataframe thead th {\n",
       "        text-align: right;\n",
       "    }\n",
       "</style>\n",
       "<table border=\"1\" class=\"dataframe\">\n",
       "  <thead>\n",
       "    <tr style=\"text-align: right;\">\n",
       "      <th></th>\n",
       "      <th>Dados faltando</th>\n",
       "      <th>%</th>\n",
       "    </tr>\n",
       "  </thead>\n",
       "  <tbody>\n",
       "    <tr>\n",
       "      <th>MinTemp</th>\n",
       "      <td>637</td>\n",
       "      <td>0.45</td>\n",
       "    </tr>\n",
       "    <tr>\n",
       "      <th>MaxTemp</th>\n",
       "      <td>322</td>\n",
       "      <td>0.23</td>\n",
       "    </tr>\n",
       "    <tr>\n",
       "      <th>Rainfall</th>\n",
       "      <td>1406</td>\n",
       "      <td>0.99</td>\n",
       "    </tr>\n",
       "    <tr>\n",
       "      <th>Evaporation</th>\n",
       "      <td>60843</td>\n",
       "      <td>42.79</td>\n",
       "    </tr>\n",
       "    <tr>\n",
       "      <th>Sunshine</th>\n",
       "      <td>67816</td>\n",
       "      <td>47.69</td>\n",
       "    </tr>\n",
       "    <tr>\n",
       "      <th>WindGustDir</th>\n",
       "      <td>9330</td>\n",
       "      <td>6.56</td>\n",
       "    </tr>\n",
       "    <tr>\n",
       "      <th>WindGustSpeed</th>\n",
       "      <td>9270</td>\n",
       "      <td>6.52</td>\n",
       "    </tr>\n",
       "    <tr>\n",
       "      <th>WindDir9am</th>\n",
       "      <td>10013</td>\n",
       "      <td>7.04</td>\n",
       "    </tr>\n",
       "    <tr>\n",
       "      <th>WindDir3pm</th>\n",
       "      <td>3778</td>\n",
       "      <td>2.66</td>\n",
       "    </tr>\n",
       "    <tr>\n",
       "      <th>WindSpeed9am</th>\n",
       "      <td>1348</td>\n",
       "      <td>0.95</td>\n",
       "    </tr>\n",
       "    <tr>\n",
       "      <th>WindSpeed3pm</th>\n",
       "      <td>2630</td>\n",
       "      <td>1.85</td>\n",
       "    </tr>\n",
       "    <tr>\n",
       "      <th>Humidity9am</th>\n",
       "      <td>1774</td>\n",
       "      <td>1.25</td>\n",
       "    </tr>\n",
       "    <tr>\n",
       "      <th>Humidity3pm</th>\n",
       "      <td>3610</td>\n",
       "      <td>2.54</td>\n",
       "    </tr>\n",
       "    <tr>\n",
       "      <th>Pressure9am</th>\n",
       "      <td>14014</td>\n",
       "      <td>9.86</td>\n",
       "    </tr>\n",
       "    <tr>\n",
       "      <th>Pressure3pm</th>\n",
       "      <td>13981</td>\n",
       "      <td>9.83</td>\n",
       "    </tr>\n",
       "    <tr>\n",
       "      <th>Cloud9am</th>\n",
       "      <td>53657</td>\n",
       "      <td>37.74</td>\n",
       "    </tr>\n",
       "    <tr>\n",
       "      <th>Cloud3pm</th>\n",
       "      <td>57094</td>\n",
       "      <td>40.15</td>\n",
       "    </tr>\n",
       "    <tr>\n",
       "      <th>Temp9am</th>\n",
       "      <td>904</td>\n",
       "      <td>0.64</td>\n",
       "    </tr>\n",
       "    <tr>\n",
       "      <th>Temp3pm</th>\n",
       "      <td>2726</td>\n",
       "      <td>1.92</td>\n",
       "    </tr>\n",
       "    <tr>\n",
       "      <th>RainToday</th>\n",
       "      <td>1406</td>\n",
       "      <td>0.99</td>\n",
       "    </tr>\n",
       "    <tr>\n",
       "      <th>RainTomorrow</th>\n",
       "      <td>0</td>\n",
       "      <td>0.00</td>\n",
       "    </tr>\n",
       "  </tbody>\n",
       "</table>\n",
       "</div>"
      ],
      "text/plain": [
       "               Dados faltando      %\n",
       "MinTemp                   637   0.45\n",
       "MaxTemp                   322   0.23\n",
       "Rainfall                 1406   0.99\n",
       "Evaporation             60843  42.79\n",
       "Sunshine                67816  47.69\n",
       "WindGustDir              9330   6.56\n",
       "WindGustSpeed            9270   6.52\n",
       "WindDir9am              10013   7.04\n",
       "WindDir3pm               3778   2.66\n",
       "WindSpeed9am             1348   0.95\n",
       "WindSpeed3pm             2630   1.85\n",
       "Humidity9am              1774   1.25\n",
       "Humidity3pm              3610   2.54\n",
       "Pressure9am             14014   9.86\n",
       "Pressure3pm             13981   9.83\n",
       "Cloud9am                53657  37.74\n",
       "Cloud3pm                57094  40.15\n",
       "Temp9am                   904   0.64\n",
       "Temp3pm                  2726   1.92\n",
       "RainToday                1406   0.99\n",
       "RainTomorrow                0   0.00"
      ]
     },
     "execution_count": 4,
     "metadata": {},
     "output_type": "execute_result"
    }
   ],
   "source": [
    "df.isnull().sum().to_frame(\"Dados faltando\").join(\n",
    "    (df.isnull().sum().to_frame(\"%\")*100/len(df)).round(2))"
   ]
  },
  {
   "cell_type": "code",
   "execution_count": 5,
   "metadata": {},
   "outputs": [
    {
     "name": "stdout",
     "output_type": "stream",
     "text": [
      "Features removidas: 4\n",
      "  Evaporation\n",
      "  Sunshine\n",
      "  Cloud9am\n",
      "  Cloud3pm\n",
      "\n",
      "Linhas removidas: 29268\n"
     ]
    }
   ],
   "source": [
    "# Remove colunas com mais de 30% dos dados faltando\n",
    "to_drop = [\"Evaporation\", \"Sunshine\", \"Cloud9am\", \"Cloud3pm\"]\n",
    "\n",
    "df = df.drop(to_drop, axis=1)\n",
    "print(\"Features removidas: {}\".format(len(to_drop)))\n",
    "print(\"\\n\".join([\"  \" + x for x in to_drop]))\n",
    "\n",
    "# Remove linhas com dados faltando\n",
    "n_before = df.shape[0]\n",
    "df = df.dropna(axis=0, how=\"any\")\n",
    "print(\"\\nLinhas removidas: {}\".format(n_before - df.shape[0]))\n",
    "\n",
    "# Certifica que nao ha mais dados faltando\n",
    "assert df.isnull().sum().sum() == 0\n",
    "\n",
    "# Reindexa as linhas\n",
    "df = df.reset_index(drop=True)"
   ]
  },
  {
   "cell_type": "markdown",
   "metadata": {},
   "source": [
    "## Análise Exploratória"
   ]
  },
  {
   "cell_type": "markdown",
   "metadata": {},
   "source": [
    "Vamos primeiro visualizar rapidamente os dados para entender melhor o significado das features e verificar a existência de outliers ou outros possíveis problemas."
   ]
  },
  {
   "cell_type": "code",
   "execution_count": 6,
   "metadata": {},
   "outputs": [],
   "source": [
    "# Colunas com dados categoricos\n",
    "cat_cols = [\"RainToday\", \"WindGustDir\", \"WindDir9am\", \"WindDir3pm\"]\n",
    "\n",
    "# Colunas com dados numericos (reais)\n",
    "real_cols = [\"Humidity3pm\", \"Humidity9am\", \"MaxTemp\",\n",
    "             \"MinTemp\", \"Pressure3pm\", \"Pressure9am\", \n",
    "             \"Rainfall\", \"Temp3pm\", \"Temp9am\", \n",
    "             \"WindGustSpeed\", \"WindSpeed3pm\", \"WindSpeed9am\"]"
   ]
  },
  {
   "cell_type": "markdown",
   "metadata": {},
   "source": [
    "### Features Categoricas"
   ]
  },
  {
   "cell_type": "code",
   "execution_count": 7,
   "metadata": {},
   "outputs": [
    {
     "data": {
      "text/html": [
       "<div>\n",
       "<style scoped>\n",
       "    .dataframe tbody tr th:only-of-type {\n",
       "        vertical-align: middle;\n",
       "    }\n",
       "\n",
       "    .dataframe tbody tr th {\n",
       "        vertical-align: top;\n",
       "    }\n",
       "\n",
       "    .dataframe thead th {\n",
       "        text-align: right;\n",
       "    }\n",
       "</style>\n",
       "<table border=\"1\" class=\"dataframe\">\n",
       "  <thead>\n",
       "    <tr style=\"text-align: right;\">\n",
       "      <th></th>\n",
       "      <th>No</th>\n",
       "      <th>Yes</th>\n",
       "    </tr>\n",
       "  </thead>\n",
       "  <tbody>\n",
       "    <tr>\n",
       "      <th>RainToday (%)</th>\n",
       "      <td>77.53</td>\n",
       "      <td>22.47</td>\n",
       "    </tr>\n",
       "  </tbody>\n",
       "</table>\n",
       "</div>"
      ],
      "text/plain": [
       "                  No    Yes\n",
       "RainToday (%)  77.53  22.47"
      ]
     },
     "metadata": {},
     "output_type": "display_data"
    },
    {
     "data": {
      "text/html": [
       "<div>\n",
       "<style scoped>\n",
       "    .dataframe tbody tr th:only-of-type {\n",
       "        vertical-align: middle;\n",
       "    }\n",
       "\n",
       "    .dataframe tbody tr th {\n",
       "        vertical-align: top;\n",
       "    }\n",
       "\n",
       "    .dataframe thead th {\n",
       "        text-align: right;\n",
       "    }\n",
       "</style>\n",
       "<table border=\"1\" class=\"dataframe\">\n",
       "  <thead>\n",
       "    <tr style=\"text-align: right;\">\n",
       "      <th></th>\n",
       "      <th>E</th>\n",
       "      <th>ENE</th>\n",
       "      <th>ESE</th>\n",
       "      <th>N</th>\n",
       "      <th>NE</th>\n",
       "      <th>NNE</th>\n",
       "      <th>NNW</th>\n",
       "      <th>NW</th>\n",
       "      <th>S</th>\n",
       "      <th>SE</th>\n",
       "      <th>SSE</th>\n",
       "      <th>SSW</th>\n",
       "      <th>SW</th>\n",
       "      <th>W</th>\n",
       "      <th>WNW</th>\n",
       "      <th>WSW</th>\n",
       "    </tr>\n",
       "  </thead>\n",
       "  <tbody>\n",
       "    <tr>\n",
       "      <th>WindGustDir (%)</th>\n",
       "      <td>6.94</td>\n",
       "      <td>5.99</td>\n",
       "      <td>5.51</td>\n",
       "      <td>6.8</td>\n",
       "      <td>5.36</td>\n",
       "      <td>4.86</td>\n",
       "      <td>4.63</td>\n",
       "      <td>5.67</td>\n",
       "      <td>6.84</td>\n",
       "      <td>7.16</td>\n",
       "      <td>6.84</td>\n",
       "      <td>6.53</td>\n",
       "      <td>6.71</td>\n",
       "      <td>7.42</td>\n",
       "      <td>5.97</td>\n",
       "      <td>6.76</td>\n",
       "    </tr>\n",
       "  </tbody>\n",
       "</table>\n",
       "</div>"
      ],
      "text/plain": [
       "                    E   ENE   ESE    N    NE   NNE   NNW    NW     S    SE  \\\n",
       "WindGustDir (%)  6.94  5.99  5.51  6.8  5.36  4.86  4.63  5.67  6.84  7.16   \n",
       "\n",
       "                  SSE   SSW    SW     W   WNW   WSW  \n",
       "WindGustDir (%)  6.84  6.53  6.71  7.42  5.97  6.76  "
      ]
     },
     "metadata": {},
     "output_type": "display_data"
    },
    {
     "data": {
      "text/html": [
       "<div>\n",
       "<style scoped>\n",
       "    .dataframe tbody tr th:only-of-type {\n",
       "        vertical-align: middle;\n",
       "    }\n",
       "\n",
       "    .dataframe tbody tr th {\n",
       "        vertical-align: top;\n",
       "    }\n",
       "\n",
       "    .dataframe thead th {\n",
       "        text-align: right;\n",
       "    }\n",
       "</style>\n",
       "<table border=\"1\" class=\"dataframe\">\n",
       "  <thead>\n",
       "    <tr style=\"text-align: right;\">\n",
       "      <th></th>\n",
       "      <th>E</th>\n",
       "      <th>ENE</th>\n",
       "      <th>ESE</th>\n",
       "      <th>N</th>\n",
       "      <th>NE</th>\n",
       "      <th>NNE</th>\n",
       "      <th>NNW</th>\n",
       "      <th>NW</th>\n",
       "      <th>S</th>\n",
       "      <th>SE</th>\n",
       "      <th>SSE</th>\n",
       "      <th>SSW</th>\n",
       "      <th>SW</th>\n",
       "      <th>W</th>\n",
       "      <th>WNW</th>\n",
       "      <th>WSW</th>\n",
       "    </tr>\n",
       "  </thead>\n",
       "  <tbody>\n",
       "    <tr>\n",
       "      <th>WindDir9am (%)</th>\n",
       "      <td>7.07</td>\n",
       "      <td>6.07</td>\n",
       "      <td>5.87</td>\n",
       "      <td>8.69</td>\n",
       "      <td>5.65</td>\n",
       "      <td>6.15</td>\n",
       "      <td>5.8</td>\n",
       "      <td>5.86</td>\n",
       "      <td>6.66</td>\n",
       "      <td>6.93</td>\n",
       "      <td>7.19</td>\n",
       "      <td>5.54</td>\n",
       "      <td>6.18</td>\n",
       "      <td>5.85</td>\n",
       "      <td>5.3</td>\n",
       "      <td>5.18</td>\n",
       "    </tr>\n",
       "  </tbody>\n",
       "</table>\n",
       "</div>"
      ],
      "text/plain": [
       "                   E   ENE   ESE     N    NE   NNE  NNW    NW     S    SE  \\\n",
       "WindDir9am (%)  7.07  6.07  5.87  8.69  5.65  6.15  5.8  5.86  6.66  6.93   \n",
       "\n",
       "                 SSE   SSW    SW     W  WNW   WSW  \n",
       "WindDir9am (%)  7.19  5.54  6.18  5.85  5.3  5.18  "
      ]
     },
     "metadata": {},
     "output_type": "display_data"
    },
    {
     "data": {
      "text/html": [
       "<div>\n",
       "<style scoped>\n",
       "    .dataframe tbody tr th:only-of-type {\n",
       "        vertical-align: middle;\n",
       "    }\n",
       "\n",
       "    .dataframe tbody tr th {\n",
       "        vertical-align: top;\n",
       "    }\n",
       "\n",
       "    .dataframe thead th {\n",
       "        text-align: right;\n",
       "    }\n",
       "</style>\n",
       "<table border=\"1\" class=\"dataframe\">\n",
       "  <thead>\n",
       "    <tr style=\"text-align: right;\">\n",
       "      <th></th>\n",
       "      <th>E</th>\n",
       "      <th>ENE</th>\n",
       "      <th>ESE</th>\n",
       "      <th>N</th>\n",
       "      <th>NE</th>\n",
       "      <th>NNE</th>\n",
       "      <th>NNW</th>\n",
       "      <th>NW</th>\n",
       "      <th>S</th>\n",
       "      <th>SE</th>\n",
       "      <th>SSE</th>\n",
       "      <th>SSW</th>\n",
       "      <th>SW</th>\n",
       "      <th>W</th>\n",
       "      <th>WNW</th>\n",
       "      <th>WSW</th>\n",
       "    </tr>\n",
       "  </thead>\n",
       "  <tbody>\n",
       "    <tr>\n",
       "      <th>WindDir3pm (%)</th>\n",
       "      <td>5.95</td>\n",
       "      <td>5.78</td>\n",
       "      <td>6.08</td>\n",
       "      <td>6.38</td>\n",
       "      <td>5.86</td>\n",
       "      <td>4.69</td>\n",
       "      <td>5.37</td>\n",
       "      <td>5.65</td>\n",
       "      <td>7.2</td>\n",
       "      <td>7.37</td>\n",
       "      <td>6.9</td>\n",
       "      <td>5.92</td>\n",
       "      <td>6.78</td>\n",
       "      <td>7.04</td>\n",
       "      <td>6.14</td>\n",
       "      <td>6.88</td>\n",
       "    </tr>\n",
       "  </tbody>\n",
       "</table>\n",
       "</div>"
      ],
      "text/plain": [
       "                   E   ENE   ESE     N    NE   NNE   NNW    NW    S    SE  \\\n",
       "WindDir3pm (%)  5.95  5.78  6.08  6.38  5.86  4.69  5.37  5.65  7.2  7.37   \n",
       "\n",
       "                SSE   SSW    SW     W   WNW   WSW  \n",
       "WindDir3pm (%)  6.9  5.92  6.78  7.04  6.14  6.88  "
      ]
     },
     "metadata": {},
     "output_type": "display_data"
    }
   ],
   "source": [
    "for c in cat_cols:\n",
    "    display((df[c].value_counts().sort_index()/len(df)*100).round(2).to_frame(c +\" (%)\").T)"
   ]
  },
  {
   "cell_type": "markdown",
   "metadata": {},
   "source": [
    "### Features Numéricas"
   ]
  },
  {
   "cell_type": "code",
   "execution_count": 8,
   "metadata": {
    "scrolled": false
   },
   "outputs": [
    {
     "data": {
      "image/png": "[encoded data removed]",
      "text/plain": [
       "<Figure size 1080x360 with 1 Axes>"
      ]
     },
     "metadata": {
      "needs_background": "light"
     },
     "output_type": "display_data"
    },
    {
     "data": {
      "image/png": "[encoded data removed]",
      "text/plain": [
       "<Figure size 1080x360 with 1 Axes>"
      ]
     },
     "metadata": {
      "needs_background": "light"
     },
     "output_type": "display_data"
    },
    {
     "data": {
      "image/png": "[encoded data removed]",
      "text/plain": [
       "<Figure size 1080x360 with 1 Axes>"
      ]
     },
     "metadata": {
      "needs_background": "light"
     },
     "output_type": "display_data"
    },
    {
     "data": {
      "image/png": "[encoded data removed]",
      "text/plain": [
       "<Figure size 1080x360 with 1 Axes>"
      ]
     },
     "metadata": {
      "needs_background": "light"
     },
     "output_type": "display_data"
    },
    {
     "data": {
      "image/png": "[encoded data removed]",
      "text/plain": [
       "<Figure size 1080x360 with 1 Axes>"
      ]
     },
     "metadata": {
      "needs_background": "light"
     },
     "output_type": "display_data"
    },
    {
     "data": {
      "image/png": "[encoded data removed]",
      "text/plain": [
       "<Figure size 1080x360 with 1 Axes>"
      ]
     },
     "metadata": {
      "needs_background": "light"
     },
     "output_type": "display_data"
    },
    {
     "data": {
      "image/png": "[encoded data removed]",
      "text/plain": [
       "<Figure size 1080x360 with 1 Axes>"
      ]
     },
     "metadata": {
      "needs_background": "light"
     },
     "output_type": "display_data"
    },
    {
     "data": {
      "image/png": "[encoded data removed]",
      "text/plain": [
       "<Figure size 1080x360 with 1 Axes>"
      ]
     },
     "metadata": {
      "needs_background": "light"
     },
     "output_type": "display_data"
    },
    {
     "data": {
      "image/png": "[encoded data removed]",
      "text/plain": [
       "<Figure size 1080x360 with 1 Axes>"
      ]
     },
     "metadata": {
      "needs_background": "light"
     },
     "output_type": "display_data"
    },
    {
     "data": {
      "image/png": "[encoded data removed]",
      "text/plain": [
       "<Figure size 1080x360 with 1 Axes>"
      ]
     },
     "metadata": {
      "needs_background": "light"
     },
     "output_type": "display_data"
    },
    {
     "data": {
      "image/png": "[encoded data removed]",
      "text/plain": [
       "<Figure size 1080x360 with 1 Axes>"
      ]
     },
     "metadata": {
      "needs_background": "light"
     },
     "output_type": "display_data"
    },
    {
     "data": {
      "image/png": "[encoded data removed]",
      "text/plain": [
       "<Figure size 1080x360 with 1 Axes>"
      ]
     },
     "metadata": {
      "needs_background": "light"
     },
     "output_type": "display_data"
    }
   ],
   "source": [
    "for c in real_cols:\n",
    "    plt.figure(figsize=(15, 5))\n",
    "    plt.hist(df[c], bins=20)\n",
    "    plt.title(c)\n",
    "    plt.xlabel(c)\n",
    "    plt.ylabel(\"Numero de valores\")\n",
    "    plt.show()"
   ]
  },
  {
   "cell_type": "markdown",
   "metadata": {},
   "source": [
    "### Target"
   ]
  },
  {
   "cell_type": "markdown",
   "metadata": {},
   "source": [
    "Exibe a proporção de exemplos em cada classe."
   ]
  },
  {
   "cell_type": "code",
   "execution_count": 9,
   "metadata": {},
   "outputs": [
    {
     "data": {
      "text/html": [
       "<div>\n",
       "<style scoped>\n",
       "    .dataframe tbody tr th:only-of-type {\n",
       "        vertical-align: middle;\n",
       "    }\n",
       "\n",
       "    .dataframe tbody tr th {\n",
       "        vertical-align: top;\n",
       "    }\n",
       "\n",
       "    .dataframe thead th {\n",
       "        text-align: right;\n",
       "    }\n",
       "</style>\n",
       "<table border=\"1\" class=\"dataframe\">\n",
       "  <thead>\n",
       "    <tr style=\"text-align: right;\">\n",
       "      <th></th>\n",
       "      <th>No</th>\n",
       "      <th>Yes</th>\n",
       "    </tr>\n",
       "  </thead>\n",
       "  <tbody>\n",
       "    <tr>\n",
       "      <th>RainTomorrow (%)</th>\n",
       "      <td>77.84</td>\n",
       "      <td>22.16</td>\n",
       "    </tr>\n",
       "  </tbody>\n",
       "</table>\n",
       "</div>"
      ],
      "text/plain": [
       "                     No    Yes\n",
       "RainTomorrow (%)  77.84  22.16"
      ]
     },
     "metadata": {},
     "output_type": "display_data"
    }
   ],
   "source": [
    "display((df[TARGET].value_counts()/len(df)*100).round(2).to_frame(TARGET +\" (%)\").T)"
   ]
  },
  {
   "cell_type": "markdown",
   "metadata": {},
   "source": [
    "## Preprocessamento"
   ]
  },
  {
   "cell_type": "markdown",
   "metadata": {},
   "source": [
    "### Dados Categóricos"
   ]
  },
  {
   "cell_type": "code",
   "execution_count": 10,
   "metadata": {},
   "outputs": [
    {
     "name": "stdout",
     "output_type": "stream",
     "text": [
      "Exemplo de resultado para WindGustDir:\n",
      "\n"
     ]
    },
    {
     "data": {
      "text/html": [
       "<div>\n",
       "<style scoped>\n",
       "    .dataframe tbody tr th:only-of-type {\n",
       "        vertical-align: middle;\n",
       "    }\n",
       "\n",
       "    .dataframe tbody tr th {\n",
       "        vertical-align: top;\n",
       "    }\n",
       "\n",
       "    .dataframe thead th {\n",
       "        text-align: right;\n",
       "    }\n",
       "</style>\n",
       "<table border=\"1\" class=\"dataframe\">\n",
       "  <thead>\n",
       "    <tr style=\"text-align: right;\">\n",
       "      <th></th>\n",
       "      <th>WindGustDir_W</th>\n",
       "      <th>WindGustDir_WNW</th>\n",
       "      <th>WindGustDir_WSW</th>\n",
       "      <th>...</th>\n",
       "      <th>WindGustDir_SE</th>\n",
       "      <th>WindGustDir_ESE</th>\n",
       "      <th>WindGustDir_E</th>\n",
       "    </tr>\n",
       "  </thead>\n",
       "  <tbody>\n",
       "    <tr>\n",
       "      <th>0</th>\n",
       "      <td>1</td>\n",
       "      <td>0</td>\n",
       "      <td>0</td>\n",
       "      <td>...</td>\n",
       "      <td>0</td>\n",
       "      <td>0</td>\n",
       "      <td>0</td>\n",
       "    </tr>\n",
       "    <tr>\n",
       "      <th>1</th>\n",
       "      <td>0</td>\n",
       "      <td>1</td>\n",
       "      <td>0</td>\n",
       "      <td>...</td>\n",
       "      <td>0</td>\n",
       "      <td>0</td>\n",
       "      <td>0</td>\n",
       "    </tr>\n",
       "    <tr>\n",
       "      <th>2</th>\n",
       "      <td>0</td>\n",
       "      <td>0</td>\n",
       "      <td>1</td>\n",
       "      <td>...</td>\n",
       "      <td>0</td>\n",
       "      <td>0</td>\n",
       "      <td>0</td>\n",
       "    </tr>\n",
       "    <tr>\n",
       "      <th>3</th>\n",
       "      <td>0</td>\n",
       "      <td>0</td>\n",
       "      <td>0</td>\n",
       "      <td>...</td>\n",
       "      <td>0</td>\n",
       "      <td>0</td>\n",
       "      <td>0</td>\n",
       "    </tr>\n",
       "    <tr>\n",
       "      <th>4</th>\n",
       "      <td>1</td>\n",
       "      <td>0</td>\n",
       "      <td>0</td>\n",
       "      <td>...</td>\n",
       "      <td>0</td>\n",
       "      <td>0</td>\n",
       "      <td>0</td>\n",
       "    </tr>\n",
       "  </tbody>\n",
       "</table>\n",
       "<p>5 rows × 15 columns</p>\n",
       "</div>"
      ],
      "text/plain": [
       "   WindGustDir_W  WindGustDir_WNW  WindGustDir_WSW      ...        \\\n",
       "0              1                0                0      ...         \n",
       "1              0                1                0      ...         \n",
       "2              0                0                1      ...         \n",
       "3              0                0                0      ...         \n",
       "4              1                0                0      ...         \n",
       "\n",
       "   WindGustDir_SE  WindGustDir_ESE  WindGustDir_E  \n",
       "0               0                0              0  \n",
       "1               0                0              0  \n",
       "2               0                0              0  \n",
       "3               0                0              0  \n",
       "4               0                0              0  \n",
       "\n",
       "[5 rows x 15 columns]"
      ]
     },
     "metadata": {},
     "output_type": "display_data"
    }
   ],
   "source": [
    "# One-hot encoding para as features categoricas\n",
    "\n",
    "# Cada valor da feature passa a ser uma coluna, \n",
    "# onde 1 indica que a linha tem aquele valor para \n",
    "# aquela feature, 0 caso contrario.\n",
    "# Apenas N-1 dos N valores precisam ser codificados,\n",
    "# pois o valor restante é representado por 0 nas outras colunas\n",
    "for c in cat_cols:\n",
    "    dfs_c = [(df[c] == val).astype(int).to_frame(\"{}_{}\".format(c, val)) \n",
    "             for val in df[c].unique()[:-1]]\n",
    "    \n",
    "    df = pd.concat(dfs_c + [df], axis=1).drop(c, axis=1)\n",
    "\n",
    "print(\"Exemplo de resultado para {}:\\n\".format(cat_cols[1]))\n",
    "with pd.option_context(\"max_columns\", 7):\n",
    "    display(df[[x for x in df.columns if x.startswith(cat_cols[1])]].head())"
   ]
  },
  {
   "cell_type": "markdown",
   "metadata": {},
   "source": [
    "### Target"
   ]
  },
  {
   "cell_type": "code",
   "execution_count": 11,
   "metadata": {},
   "outputs": [
    {
     "name": "stdout",
     "output_type": "stream",
     "text": [
      "Resultado:\n"
     ]
    },
    {
     "data": {
      "text/html": [
       "<div>\n",
       "<style scoped>\n",
       "    .dataframe tbody tr th:only-of-type {\n",
       "        vertical-align: middle;\n",
       "    }\n",
       "\n",
       "    .dataframe tbody tr th {\n",
       "        vertical-align: top;\n",
       "    }\n",
       "\n",
       "    .dataframe thead th {\n",
       "        text-align: right;\n",
       "    }\n",
       "</style>\n",
       "<table border=\"1\" class=\"dataframe\">\n",
       "  <thead>\n",
       "    <tr style=\"text-align: right;\">\n",
       "      <th></th>\n",
       "      <th>RainTomorrow</th>\n",
       "    </tr>\n",
       "  </thead>\n",
       "  <tbody>\n",
       "    <tr>\n",
       "      <th>100674</th>\n",
       "      <td>1</td>\n",
       "    </tr>\n",
       "    <tr>\n",
       "      <th>27420</th>\n",
       "      <td>1</td>\n",
       "    </tr>\n",
       "    <tr>\n",
       "      <th>104440</th>\n",
       "      <td>1</td>\n",
       "    </tr>\n",
       "    <tr>\n",
       "      <th>27793</th>\n",
       "      <td>0</td>\n",
       "    </tr>\n",
       "    <tr>\n",
       "      <th>91973</th>\n",
       "      <td>0</td>\n",
       "    </tr>\n",
       "    <tr>\n",
       "      <th>32027</th>\n",
       "      <td>0</td>\n",
       "    </tr>\n",
       "    <tr>\n",
       "      <th>56105</th>\n",
       "      <td>0</td>\n",
       "    </tr>\n",
       "    <tr>\n",
       "      <th>100425</th>\n",
       "      <td>0</td>\n",
       "    </tr>\n",
       "    <tr>\n",
       "      <th>77284</th>\n",
       "      <td>0</td>\n",
       "    </tr>\n",
       "    <tr>\n",
       "      <th>66338</th>\n",
       "      <td>0</td>\n",
       "    </tr>\n",
       "  </tbody>\n",
       "</table>\n",
       "</div>"
      ],
      "text/plain": [
       "        RainTomorrow\n",
       "100674             1\n",
       "27420              1\n",
       "104440             1\n",
       "27793              0\n",
       "91973              0\n",
       "32027              0\n",
       "56105              0\n",
       "100425             0\n",
       "77284              0\n",
       "66338              0"
      ]
     },
     "metadata": {},
     "output_type": "display_data"
    }
   ],
   "source": [
    "df[TARGET] = (df[TARGET] == \"Yes\").astype(int)\n",
    "\n",
    "print(\"Resultado:\")\n",
    "\n",
    "display(df[[TARGET]].sample(10))"
   ]
  },
  {
   "cell_type": "markdown",
   "metadata": {},
   "source": [
    "### Normalização"
   ]
  },
  {
   "cell_type": "code",
   "execution_count": 12,
   "metadata": {},
   "outputs": [
    {
     "name": "stdout",
     "output_type": "stream",
     "text": [
      "Resultado:\n"
     ]
    },
    {
     "data": {
      "text/html": [
       "<div>\n",
       "<style scoped>\n",
       "    .dataframe tbody tr th:only-of-type {\n",
       "        vertical-align: middle;\n",
       "    }\n",
       "\n",
       "    .dataframe tbody tr th {\n",
       "        vertical-align: top;\n",
       "    }\n",
       "\n",
       "    .dataframe thead th {\n",
       "        text-align: right;\n",
       "    }\n",
       "</style>\n",
       "<table border=\"1\" class=\"dataframe\">\n",
       "  <thead>\n",
       "    <tr style=\"text-align: right;\">\n",
       "      <th></th>\n",
       "      <th>Media</th>\n",
       "      <th>Std</th>\n",
       "    </tr>\n",
       "  </thead>\n",
       "  <tbody>\n",
       "    <tr>\n",
       "      <th>WindDir3pm_WNW</th>\n",
       "      <td>-0.0</td>\n",
       "      <td>1.0</td>\n",
       "    </tr>\n",
       "    <tr>\n",
       "      <th>WindDir3pm_WSW</th>\n",
       "      <td>0.0</td>\n",
       "      <td>1.0</td>\n",
       "    </tr>\n",
       "    <tr>\n",
       "      <th>WindDir3pm_E</th>\n",
       "      <td>-0.0</td>\n",
       "      <td>1.0</td>\n",
       "    </tr>\n",
       "    <tr>\n",
       "      <th>WindDir3pm_NW</th>\n",
       "      <td>-0.0</td>\n",
       "      <td>1.0</td>\n",
       "    </tr>\n",
       "    <tr>\n",
       "      <th>WindDir3pm_W</th>\n",
       "      <td>0.0</td>\n",
       "      <td>1.0</td>\n",
       "    </tr>\n",
       "    <tr>\n",
       "      <th>WindDir3pm_SSE</th>\n",
       "      <td>-0.0</td>\n",
       "      <td>1.0</td>\n",
       "    </tr>\n",
       "    <tr>\n",
       "      <th>WindDir3pm_ESE</th>\n",
       "      <td>-0.0</td>\n",
       "      <td>1.0</td>\n",
       "    </tr>\n",
       "    <tr>\n",
       "      <th>...</th>\n",
       "      <td>...</td>\n",
       "      <td>...</td>\n",
       "    </tr>\n",
       "    <tr>\n",
       "      <th>WindSpeed3pm</th>\n",
       "      <td>-0.0</td>\n",
       "      <td>1.0</td>\n",
       "    </tr>\n",
       "    <tr>\n",
       "      <th>Humidity9am</th>\n",
       "      <td>0.0</td>\n",
       "      <td>1.0</td>\n",
       "    </tr>\n",
       "    <tr>\n",
       "      <th>Humidity3pm</th>\n",
       "      <td>0.0</td>\n",
       "      <td>1.0</td>\n",
       "    </tr>\n",
       "    <tr>\n",
       "      <th>Pressure9am</th>\n",
       "      <td>-0.0</td>\n",
       "      <td>1.0</td>\n",
       "    </tr>\n",
       "    <tr>\n",
       "      <th>Pressure3pm</th>\n",
       "      <td>-0.0</td>\n",
       "      <td>1.0</td>\n",
       "    </tr>\n",
       "    <tr>\n",
       "      <th>Temp9am</th>\n",
       "      <td>-0.0</td>\n",
       "      <td>1.0</td>\n",
       "    </tr>\n",
       "    <tr>\n",
       "      <th>Temp3pm</th>\n",
       "      <td>0.0</td>\n",
       "      <td>1.0</td>\n",
       "    </tr>\n",
       "  </tbody>\n",
       "</table>\n",
       "<p>58 rows × 2 columns</p>\n",
       "</div>"
      ],
      "text/plain": [
       "                Media  Std\n",
       "WindDir3pm_WNW   -0.0  1.0\n",
       "WindDir3pm_WSW    0.0  1.0\n",
       "WindDir3pm_E     -0.0  1.0\n",
       "WindDir3pm_NW    -0.0  1.0\n",
       "WindDir3pm_W      0.0  1.0\n",
       "WindDir3pm_SSE   -0.0  1.0\n",
       "WindDir3pm_ESE   -0.0  1.0\n",
       "...               ...  ...\n",
       "WindSpeed3pm     -0.0  1.0\n",
       "Humidity9am       0.0  1.0\n",
       "Humidity3pm       0.0  1.0\n",
       "Pressure9am      -0.0  1.0\n",
       "Pressure3pm      -0.0  1.0\n",
       "Temp9am          -0.0  1.0\n",
       "Temp3pm           0.0  1.0\n",
       "\n",
       "[58 rows x 2 columns]"
      ]
     },
     "metadata": {},
     "output_type": "display_data"
    }
   ],
   "source": [
    "# Recria a lista com as features\n",
    "features = list(df.columns)\n",
    "features.remove(TARGET)\n",
    "\n",
    "# Subtrai a media\n",
    "df[features] = df[features] - df[features].mean()\n",
    "\n",
    "# Divide pelo desvio padrão\n",
    "# (deve se tomar cuidado quando o desvio padrao \n",
    "# eh proximo de 0, aqui nao foi o caso)\n",
    "df[features] = df[features] / df[features].std()\n",
    "\n",
    "print(\"Resultado:\")\n",
    "df_mean = df[features].mean().round(2).to_frame(\"Media\")\n",
    "df_std = df[features].std().round(2).to_frame(\"Std\")\n",
    "with pd.option_context(\"max_rows\", 15):\n",
    "    display(df_mean.join(df_std))"
   ]
  },
  {
   "cell_type": "markdown",
   "metadata": {},
   "source": [
    "### Seleção de Features"
   ]
  },
  {
   "cell_type": "code",
   "execution_count": 13,
   "metadata": {},
   "outputs": [],
   "source": [
    "# Utiliza Analysis of Variance (ANOVA) para selecionar features\n",
    "# Cria um objeto skb que é usado posteriormente\n",
    "skb = feature_selection.SelectKBest(feature_selection.f_classif, N_FEATURES)\n",
    "skb = skb.fit(df[features], df[TARGET])"
   ]
  },
  {
   "cell_type": "markdown",
   "metadata": {},
   "source": [
    "## Separação em Treino e Validação"
   ]
  },
  {
   "cell_type": "code",
   "execution_count": 14,
   "metadata": {},
   "outputs": [],
   "source": [
    "# Retira uma amostra do dataset para rodar os experimentos rapido\n",
    "df = df.sample(20000, replace=False, random_state=1)\n",
    "\n",
    "idx = list(df.index)\n",
    "\n",
    "np.random.shuffle(idx)\n",
    "\n",
    "train_idx = idx[int(VAL_SIZE*len(idx)):]\n",
    "val_idx = idx[:int(VAL_SIZE*len(idx))]\n",
    "\n",
    "x_train = skb.transform(df.loc[train_idx, features])\n",
    "x_val = skb.transform(df.loc[val_idx, features])\n",
    "y_train = df.loc[train_idx, TARGET]\n",
    "y_val = df.loc[val_idx, TARGET]"
   ]
  },
  {
   "cell_type": "markdown",
   "metadata": {},
   "source": [
    "## Classificação"
   ]
  },
  {
   "cell_type": "markdown",
   "metadata": {},
   "source": [
    "### k-Nearest Neighbors"
   ]
  },
  {
   "cell_type": "code",
   "execution_count": 15,
   "metadata": {},
   "outputs": [],
   "source": [
    "# Define uma funcao que recebe o numero k de vizinhos,\n",
    "# treina o modelo e mostra os resultados\n",
    "def test_knn(k):\n",
    "    clf = neighbors.KNeighborsClassifier(n_neighbors=k)\n",
    "\n",
    "    clf = clf.fit(x_train, y_train)\n",
    "\n",
    "    train_acc = clf.score(x_train, y_train)\n",
    "    val_acc = clf.score(x_val, y_val)\n",
    "\n",
    "    print(\"K = {}\".format(k))\n",
    "    print(\"Acuracia de treino: {:.3}\".format(train_acc))\n",
    "    print(\"Acuracia de validação: {:.3}\".format(val_acc))"
   ]
  },
  {
   "cell_type": "code",
   "execution_count": 16,
   "metadata": {},
   "outputs": [
    {
     "name": "stdout",
     "output_type": "stream",
     "text": [
      "K = 5\n",
      "Acuracia de treino: 0.87\n",
      "Acuracia de validação: 0.82\n"
     ]
    }
   ],
   "source": [
    "test_knn(5)"
   ]
  },
  {
   "cell_type": "code",
   "execution_count": 17,
   "metadata": {},
   "outputs": [
    {
     "name": "stdout",
     "output_type": "stream",
     "text": [
      "K = 10\n",
      "Acuracia de treino: 0.851\n",
      "Acuracia de validação: 0.828\n"
     ]
    }
   ],
   "source": [
    "test_knn(10)"
   ]
  },
  {
   "cell_type": "code",
   "execution_count": 18,
   "metadata": {},
   "outputs": [
    {
     "name": "stdout",
     "output_type": "stream",
     "text": [
      "K = 20\n",
      "Acuracia de treino: 0.844\n",
      "Acuracia de validação: 0.83\n"
     ]
    }
   ],
   "source": [
    "test_knn(20)"
   ]
  },
  {
   "cell_type": "markdown",
   "metadata": {},
   "source": [
    "### Support Vector Machine"
   ]
  },
  {
   "cell_type": "code",
   "execution_count": 19,
   "metadata": {},
   "outputs": [],
   "source": [
    "def test_svm_linear(C):\n",
    "    clf = svm.SVC(C, \"linear\")\n",
    "\n",
    "    clf = clf.fit(x_train, y_train)\n",
    "\n",
    "    train_acc = clf.score(x_train, y_train)\n",
    "    val_acc = clf.score(x_val, y_val)\n",
    "\n",
    "    print(\"C = {}\".format(C))\n",
    "    print(\"Acuracia de treino: {:.3}\".format(train_acc))\n",
    "    print(\"Acuracia de validação: {:.3}\".format(val_acc))"
   ]
  },
  {
   "cell_type": "code",
   "execution_count": 20,
   "metadata": {},
   "outputs": [
    {
     "name": "stdout",
     "output_type": "stream",
     "text": [
      "C = 0.01\n",
      "Acuracia de treino: 0.848\n",
      "Acuracia de validação: 0.846\n"
     ]
    }
   ],
   "source": [
    "test_svm_linear(0.01)"
   ]
  },
  {
   "cell_type": "code",
   "execution_count": 21,
   "metadata": {},
   "outputs": [
    {
     "name": "stdout",
     "output_type": "stream",
     "text": [
      "C = 0.1\n",
      "Acuracia de treino: 0.848\n",
      "Acuracia de validação: 0.85\n"
     ]
    }
   ],
   "source": [
    "test_svm_linear(0.1)"
   ]
  },
  {
   "cell_type": "code",
   "execution_count": 22,
   "metadata": {},
   "outputs": [
    {
     "name": "stdout",
     "output_type": "stream",
     "text": [
      "C = 1.0\n",
      "Acuracia de treino: 0.849\n",
      "Acuracia de validação: 0.851\n"
     ]
    }
   ],
   "source": [
    "test_svm_linear(1.0)"
   ]
  },
  {
   "cell_type": "markdown",
   "metadata": {},
   "source": [
    "### Adaboost"
   ]
  },
  {
   "cell_type": "code",
   "execution_count": 23,
   "metadata": {},
   "outputs": [],
   "source": [
    "def test_adaboost(N):\n",
    "    clf = ensemble.AdaBoostClassifier(n_estimators=N)\n",
    "\n",
    "    clf = clf.fit(x_train, y_train)\n",
    "\n",
    "    train_acc = clf.score(x_train, y_train)\n",
    "    val_acc = clf.score(x_val, y_val)\n",
    "\n",
    "    print(\"N = {}\".format(N))\n",
    "    print(\"Acuracia de treino: {:.3}\".format(train_acc))\n",
    "    print(\"Acuracia de validação: {:.3}\".format(val_acc))"
   ]
  },
  {
   "cell_type": "code",
   "execution_count": 24,
   "metadata": {},
   "outputs": [
    {
     "name": "stdout",
     "output_type": "stream",
     "text": [
      "N = 10\n",
      "Acuracia de treino: 0.837\n",
      "Acuracia de validação: 0.838\n"
     ]
    }
   ],
   "source": [
    "test_adaboost(10)"
   ]
  },
  {
   "cell_type": "code",
   "execution_count": 25,
   "metadata": {},
   "outputs": [
    {
     "name": "stdout",
     "output_type": "stream",
     "text": [
      "N = 50\n",
      "Acuracia de treino: 0.85\n",
      "Acuracia de validação: 0.845\n"
     ]
    }
   ],
   "source": [
    "test_adaboost(50)"
   ]
  },
  {
   "cell_type": "code",
   "execution_count": 26,
   "metadata": {
    "scrolled": false
   },
   "outputs": [
    {
     "name": "stdout",
     "output_type": "stream",
     "text": [
      "N = 100\n",
      "Acuracia de treino: 0.853\n",
      "Acuracia de validação: 0.845\n"
     ]
    }
   ],
   "source": [
    "test_adaboost(100)"
   ]
  },
  {
   "cell_type": "markdown",
   "metadata": {},
   "source": [
    "### Random Forest"
   ]
  },
  {
   "cell_type": "code",
   "execution_count": 27,
   "metadata": {},
   "outputs": [],
   "source": [
    "def test_rf(N, max_depth):\n",
    "    clf = ensemble.RandomForestClassifier(n_estimators=N, max_depth=max_depth)\n",
    "\n",
    "    clf = clf.fit(x_train, y_train)\n",
    "\n",
    "    train_acc = clf.score(x_train, y_train)\n",
    "    val_acc = clf.score(x_val, y_val)\n",
    "\n",
    "    print(\"N = {}\".format(N))\n",
    "    print(\"Acuracia de treino: {:.3}\".format(train_acc))\n",
    "    print(\"Acuracia de validação: {:.3}\".format(val_acc))"
   ]
  },
  {
   "cell_type": "code",
   "execution_count": 28,
   "metadata": {},
   "outputs": [
    {
     "name": "stdout",
     "output_type": "stream",
     "text": [
      "N = 50\n",
      "Acuracia de treino: 0.999\n",
      "Acuracia de validação: 0.852\n"
     ]
    }
   ],
   "source": [
    "test_rf(50, None)"
   ]
  },
  {
   "cell_type": "code",
   "execution_count": 29,
   "metadata": {},
   "outputs": [
    {
     "name": "stdout",
     "output_type": "stream",
     "text": [
      "N = 50\n",
      "Acuracia de treino: 0.848\n",
      "Acuracia de validação: 0.839\n"
     ]
    }
   ],
   "source": [
    "test_rf(50, 5)"
   ]
  },
  {
   "cell_type": "code",
   "execution_count": 30,
   "metadata": {},
   "outputs": [
    {
     "name": "stdout",
     "output_type": "stream",
     "text": [
      "N = 50\n",
      "Acuracia de treino: 0.826\n",
      "Acuracia de validação: 0.826\n"
     ]
    }
   ],
   "source": [
    "test_rf(50, 3)"
   ]
  },
  {
   "cell_type": "code",
   "execution_count": 31,
   "metadata": {},
   "outputs": [
    {
     "name": "stdout",
     "output_type": "stream",
     "text": [
      "N = 100\n",
      "Acuracia de treino: 0.847\n",
      "Acuracia de validação: 0.836\n"
     ]
    }
   ],
   "source": [
    "test_rf(100, 5)"
   ]
  },
  {
   "cell_type": "code",
   "execution_count": 32,
   "metadata": {},
   "outputs": [
    {
     "name": "stdout",
     "output_type": "stream",
     "text": [
      "N = 200\n",
      "Acuracia de treino: 0.846\n",
      "Acuracia de validação: 0.838\n"
     ]
    }
   ],
   "source": [
    "test_rf(200, 5)"
   ]
  },
  {
   "cell_type": "markdown",
   "metadata": {},
   "source": [
    "### Avaliação do Modelo"
   ]
  },
  {
   "cell_type": "code",
   "execution_count": 33,
   "metadata": {},
   "outputs": [],
   "source": [
    "# Vamos usar o Adaboost como exemplo\n",
    "clf = ensemble.AdaBoostClassifier(n_estimators=50)\n",
    "\n",
    "clf = clf.fit(x_train, y_train)\n",
    "\n",
    "y_pred = clf.predict(x_val)\n",
    "y_proba = clf.predict_proba(x_val)[:, 1]\n",
    "classes = [\"No\", \"Yes\"]"
   ]
  },
  {
   "cell_type": "code",
   "execution_count": 34,
   "metadata": {},
   "outputs": [
    {
     "name": "stdout",
     "output_type": "stream",
     "text": [
      "              precision    recall  f1-score   support\n",
      "\n",
      "          No       0.87      0.94      0.90      3119\n",
      "         Yes       0.70      0.51      0.59       881\n",
      "\n",
      "   micro avg       0.84      0.84      0.84      4000\n",
      "   macro avg       0.79      0.72      0.75      4000\n",
      "weighted avg       0.83      0.84      0.83      4000\n",
      "\n"
     ]
    }
   ],
   "source": [
    "print(metrics.classification_report(y_val, y_pred, [0, 1], classes))"
   ]
  },
  {
   "cell_type": "code",
   "execution_count": 35,
   "metadata": {},
   "outputs": [
    {
     "data": {
      "image/png": "[encoded data removed]",
      "text/plain": [
       "<Figure size 504x504 with 2 Axes>"
      ]
     },
     "metadata": {
      "needs_background": "light"
     },
     "output_type": "display_data"
    }
   ],
   "source": [
    "# Matriz de Confusao\n",
    "cm = metrics.confusion_matrix(y_val, y_pred)\n",
    "\n",
    "fig, ax = plt.subplots(figsize=(7, 7))\n",
    "im = ax.imshow(cm, interpolation='nearest', cmap=plt.cm.Blues)\n",
    "ax.figure.colorbar(im, ax=ax)\n",
    "ax.set(xticks=np.arange(cm.shape[1]),\n",
    "       yticks=np.arange(cm.shape[0]),\n",
    "       xticklabels=classes, yticklabels=classes,\n",
    "       title=\"Matriz de Confusão\",\n",
    "       ylabel=\"Real\",\n",
    "       xlabel=\"Predito\")\n",
    "\n",
    "plt.setp(ax.get_xticklabels(), rotation=45, ha=\"right\",\n",
    "         rotation_mode=\"anchor\")\n",
    "\n",
    "for i in range(cm.shape[0]):\n",
    "    for j in range(cm.shape[1]):\n",
    "        ax.text(j, i, format(cm[i, j], \"d\"),\n",
    "                ha=\"center\", va=\"center\",\n",
    "                color=\"white\" if cm[i, j] > cm.max()/2. else \"black\")\n",
    "fig.tight_layout()\n",
    "plt.show()"
   ]
  },
  {
   "cell_type": "code",
   "execution_count": 36,
   "metadata": {},
   "outputs": [
    {
     "data": {
      "image/png": "[encoded data removed]",
      "text/plain": [
       "<Figure size 504x504 with 1 Axes>"
      ]
     },
     "metadata": {
      "needs_background": "light"
     },
     "output_type": "display_data"
    }
   ],
   "source": [
    "fpr, tpr, _ = metrics.roc_curve(y_val, y_proba)\n",
    "\n",
    "plt.figure(figsize=(7, 7))\n",
    "lw = 2\n",
    "plt.plot(fpr, tpr, color='royalblue',lw=2)\n",
    "plt.plot([0, 1], [0, 1], color='Black', lw=2, ls='--')\n",
    "plt.xlim([0.0, 1.0])\n",
    "plt.ylim([0.0, 1.05])\n",
    "plt.xlabel('False Positive Rate')\n",
    "plt.ylabel('True Positive Rate')\n",
    "plt.title('Curva ROC')\n",
    "plt.show()"
   ]
  }
 ],
 "metadata": {
  "kernelspec": {
   "display_name": "Python 3",
   "language": "python",
   "name": "python3"
  },
  "language_info": {
   "codemirror_mode": {
    "name": "ipython",
    "version": 3
   },
   "file_extension": ".py",
   "mimetype": "text/x-python",
   "name": "python",
   "nbconvert_exporter": "python",
   "pygments_lexer": "ipython3",
   "version": "3.7.3"
  }
 },
 "nbformat": 4,
 "nbformat_minor": 2
}
