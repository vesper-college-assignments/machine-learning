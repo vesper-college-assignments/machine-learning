{
 "cells": [
  {
   "cell_type": "markdown",
   "metadata": {},
   "source": [
    "# Experiment 1 - Predict using XGBoost\n",
    "\n",
    "### Notebook 2: Feature engineering"
   ]
  },
  {
   "cell_type": "markdown",
   "metadata": {},
   "source": [
    "**ToDo**\n",
    "* Padronizar os data types\n",
    "* Normalizar valores\n",
    "* Pesquisar feature engineering para serie temporal multivariada\n",
    "* Será que eu uso a feature tools? =P"
   ]
  },
  {
   "cell_type": "code",
   "execution_count": 3,
   "metadata": {},
   "outputs": [],
   "source": [
    "import pandas as pd"
   ]
  },
  {
   "cell_type": "code",
   "execution_count": 4,
   "metadata": {},
   "outputs": [],
   "source": [
    "data = pd.read_csv('../data/CMAPSSData/data_all.csv')"
   ]
  },
  {
   "cell_type": "code",
   "execution_count": 5,
   "metadata": {},
   "outputs": [
    {
     "data": {
      "text/plain": [
       "(160359, 31)"
      ]
     },
     "execution_count": 5,
     "metadata": {},
     "output_type": "execute_result"
    }
   ],
   "source": [
    "data.shape"
   ]
  },
  {
   "cell_type": "code",
   "execution_count": 6,
   "metadata": {},
   "outputs": [
    {
     "data": {
      "text/html": [
       "<div>\n",
       "<style scoped>\n",
       "    .dataframe tbody tr th:only-of-type {\n",
       "        vertical-align: middle;\n",
       "    }\n",
       "\n",
       "    .dataframe tbody tr th {\n",
       "        vertical-align: top;\n",
       "    }\n",
       "\n",
       "    .dataframe thead th {\n",
       "        text-align: right;\n",
       "    }\n",
       "</style>\n",
       "<table border=\"1\" class=\"dataframe\">\n",
       "  <thead>\n",
       "    <tr style=\"text-align: right;\">\n",
       "      <th></th>\n",
       "      <th>Unnamed: 0</th>\n",
       "      <th>engine_no</th>\n",
       "      <th>time_in_cycles</th>\n",
       "      <th>op_setting_1</th>\n",
       "      <th>op_setting_2</th>\n",
       "      <th>op_setting_3</th>\n",
       "      <th>sensor_meas_1</th>\n",
       "      <th>sensor_meas_2</th>\n",
       "      <th>sensor_meas_3</th>\n",
       "      <th>sensor_meas_4</th>\n",
       "      <th>...</th>\n",
       "      <th>sensor_meas_16</th>\n",
       "      <th>sensor_meas_17</th>\n",
       "      <th>sensor_meas_18</th>\n",
       "      <th>sensor_meas_19</th>\n",
       "      <th>sensor_meas_20</th>\n",
       "      <th>sensor_meas_21</th>\n",
       "      <th>index</th>\n",
       "      <th>time</th>\n",
       "      <th>engine_family</th>\n",
       "      <th>RUL</th>\n",
       "    </tr>\n",
       "  </thead>\n",
       "  <tbody>\n",
       "    <tr>\n",
       "      <th>0</th>\n",
       "      <td>0</td>\n",
       "      <td>1</td>\n",
       "      <td>1</td>\n",
       "      <td>-0.0007</td>\n",
       "      <td>-0.0004</td>\n",
       "      <td>100.0</td>\n",
       "      <td>518.67</td>\n",
       "      <td>641.82</td>\n",
       "      <td>1589.70</td>\n",
       "      <td>1400.60</td>\n",
       "      <td>...</td>\n",
       "      <td>0.03</td>\n",
       "      <td>392</td>\n",
       "      <td>2388</td>\n",
       "      <td>100.0</td>\n",
       "      <td>39.06</td>\n",
       "      <td>23.4190</td>\n",
       "      <td>0</td>\n",
       "      <td>2000-01-01 00:00:00</td>\n",
       "      <td>1</td>\n",
       "      <td>112.0</td>\n",
       "    </tr>\n",
       "    <tr>\n",
       "      <th>1</th>\n",
       "      <td>1</td>\n",
       "      <td>1</td>\n",
       "      <td>2</td>\n",
       "      <td>0.0019</td>\n",
       "      <td>-0.0003</td>\n",
       "      <td>100.0</td>\n",
       "      <td>518.67</td>\n",
       "      <td>642.15</td>\n",
       "      <td>1591.82</td>\n",
       "      <td>1403.14</td>\n",
       "      <td>...</td>\n",
       "      <td>0.03</td>\n",
       "      <td>392</td>\n",
       "      <td>2388</td>\n",
       "      <td>100.0</td>\n",
       "      <td>39.00</td>\n",
       "      <td>23.4236</td>\n",
       "      <td>1</td>\n",
       "      <td>2000-01-01 00:10:00</td>\n",
       "      <td>1</td>\n",
       "      <td>98.0</td>\n",
       "    </tr>\n",
       "    <tr>\n",
       "      <th>2</th>\n",
       "      <td>2</td>\n",
       "      <td>1</td>\n",
       "      <td>3</td>\n",
       "      <td>-0.0043</td>\n",
       "      <td>0.0003</td>\n",
       "      <td>100.0</td>\n",
       "      <td>518.67</td>\n",
       "      <td>642.35</td>\n",
       "      <td>1587.99</td>\n",
       "      <td>1404.20</td>\n",
       "      <td>...</td>\n",
       "      <td>0.03</td>\n",
       "      <td>390</td>\n",
       "      <td>2388</td>\n",
       "      <td>100.0</td>\n",
       "      <td>38.95</td>\n",
       "      <td>23.3442</td>\n",
       "      <td>2</td>\n",
       "      <td>2000-01-01 00:20:00</td>\n",
       "      <td>1</td>\n",
       "      <td>69.0</td>\n",
       "    </tr>\n",
       "  </tbody>\n",
       "</table>\n",
       "<p>3 rows × 31 columns</p>\n",
       "</div>"
      ],
      "text/plain": [
       "   Unnamed: 0  engine_no  time_in_cycles  op_setting_1  op_setting_2  \\\n",
       "0           0          1               1       -0.0007       -0.0004   \n",
       "1           1          1               2        0.0019       -0.0003   \n",
       "2           2          1               3       -0.0043        0.0003   \n",
       "\n",
       "   op_setting_3  sensor_meas_1  sensor_meas_2  sensor_meas_3  sensor_meas_4  \\\n",
       "0         100.0         518.67         641.82        1589.70        1400.60   \n",
       "1         100.0         518.67         642.15        1591.82        1403.14   \n",
       "2         100.0         518.67         642.35        1587.99        1404.20   \n",
       "\n",
       "   ...  sensor_meas_16  sensor_meas_17  sensor_meas_18  sensor_meas_19  \\\n",
       "0  ...            0.03             392            2388           100.0   \n",
       "1  ...            0.03             392            2388           100.0   \n",
       "2  ...            0.03             390            2388           100.0   \n",
       "\n",
       "   sensor_meas_20  sensor_meas_21  index                 time  engine_family  \\\n",
       "0           39.06         23.4190      0  2000-01-01 00:00:00              1   \n",
       "1           39.00         23.4236      1  2000-01-01 00:10:00              1   \n",
       "2           38.95         23.3442      2  2000-01-01 00:20:00              1   \n",
       "\n",
       "     RUL  \n",
       "0  112.0  \n",
       "1   98.0  \n",
       "2   69.0  \n",
       "\n",
       "[3 rows x 31 columns]"
      ]
     },
     "execution_count": 6,
     "metadata": {},
     "output_type": "execute_result"
    }
   ],
   "source": [
    "data.head(3)"
   ]
  },
  {
   "cell_type": "code",
   "execution_count": 7,
   "metadata": {},
   "outputs": [
    {
     "data": {
      "text/plain": [
       "Unnamed: 0          int64\n",
       "engine_no           int64\n",
       "time_in_cycles      int64\n",
       "op_setting_1      float64\n",
       "op_setting_2      float64\n",
       "op_setting_3      float64\n",
       "sensor_meas_1     float64\n",
       "sensor_meas_2     float64\n",
       "sensor_meas_3     float64\n",
       "sensor_meas_4     float64\n",
       "sensor_meas_5     float64\n",
       "sensor_meas_6     float64\n",
       "sensor_meas_7     float64\n",
       "sensor_meas_8     float64\n",
       "sensor_meas_9     float64\n",
       "sensor_meas_10    float64\n",
       "sensor_meas_11    float64\n",
       "sensor_meas_12    float64\n",
       "sensor_meas_13    float64\n",
       "sensor_meas_14    float64\n",
       "sensor_meas_15    float64\n",
       "sensor_meas_16    float64\n",
       "sensor_meas_17      int64\n",
       "sensor_meas_18      int64\n",
       "sensor_meas_19    float64\n",
       "sensor_meas_20    float64\n",
       "sensor_meas_21    float64\n",
       "index               int64\n",
       "time               object\n",
       "engine_family       int64\n",
       "RUL               float64\n",
       "dtype: object"
      ]
     },
     "execution_count": 7,
     "metadata": {},
     "output_type": "execute_result"
    }
   ],
   "source": [
    "data.dtypes"
   ]
  },
  {
   "cell_type": "code",
   "execution_count": 27,
   "metadata": {},
   "outputs": [],
   "source": [
    "data.drop(['Unnamed: 0'], axis=1, inplace=True)"
   ]
  },
  {
   "cell_type": "code",
   "execution_count": 22,
   "metadata": {},
   "outputs": [],
   "source": [
    "# trocar time por datetime\n",
    "time = pd.to_datetime(data['time'])\n",
    "data.drop(['time'], axis=1, inplace=True)\n",
    "data = pd.concat([data, time], axis=1)"
   ]
  },
  {
   "cell_type": "code",
   "execution_count": 19,
   "metadata": {},
   "outputs": [],
   "source": [
    "time = pd.to_datetime(data['time'])\n",
    "data.drop(['time'], axis=1, inplace=True)\n",
    "data = pd.concat([data, time], axis=1)"
   ]
  },
  {
   "cell_type": "code",
   "execution_count": 28,
   "metadata": {},
   "outputs": [
    {
     "data": {
      "text/html": [
       "<div>\n",
       "<style scoped>\n",
       "    .dataframe tbody tr th:only-of-type {\n",
       "        vertical-align: middle;\n",
       "    }\n",
       "\n",
       "    .dataframe tbody tr th {\n",
       "        vertical-align: top;\n",
       "    }\n",
       "\n",
       "    .dataframe thead th {\n",
       "        text-align: right;\n",
       "    }\n",
       "</style>\n",
       "<table border=\"1\" class=\"dataframe\">\n",
       "  <thead>\n",
       "    <tr style=\"text-align: right;\">\n",
       "      <th></th>\n",
       "      <th>engine_no</th>\n",
       "      <th>time_in_cycles</th>\n",
       "      <th>op_setting_1</th>\n",
       "      <th>op_setting_2</th>\n",
       "      <th>op_setting_3</th>\n",
       "      <th>sensor_meas_1</th>\n",
       "      <th>sensor_meas_2</th>\n",
       "      <th>sensor_meas_3</th>\n",
       "      <th>sensor_meas_4</th>\n",
       "      <th>sensor_meas_5</th>\n",
       "      <th>...</th>\n",
       "      <th>sensor_meas_16</th>\n",
       "      <th>sensor_meas_17</th>\n",
       "      <th>sensor_meas_18</th>\n",
       "      <th>sensor_meas_19</th>\n",
       "      <th>sensor_meas_20</th>\n",
       "      <th>sensor_meas_21</th>\n",
       "      <th>index</th>\n",
       "      <th>engine_family</th>\n",
       "      <th>RUL</th>\n",
       "      <th>time</th>\n",
       "    </tr>\n",
       "  </thead>\n",
       "  <tbody>\n",
       "    <tr>\n",
       "      <th>0</th>\n",
       "      <td>1</td>\n",
       "      <td>1</td>\n",
       "      <td>-0.0007</td>\n",
       "      <td>-0.0004</td>\n",
       "      <td>100.0</td>\n",
       "      <td>518.67</td>\n",
       "      <td>641.82</td>\n",
       "      <td>1589.70</td>\n",
       "      <td>1400.60</td>\n",
       "      <td>14.62</td>\n",
       "      <td>...</td>\n",
       "      <td>0.03</td>\n",
       "      <td>392</td>\n",
       "      <td>2388</td>\n",
       "      <td>100.0</td>\n",
       "      <td>39.06</td>\n",
       "      <td>23.4190</td>\n",
       "      <td>0</td>\n",
       "      <td>1</td>\n",
       "      <td>112.0</td>\n",
       "      <td>2000-01-01 00:00:00</td>\n",
       "    </tr>\n",
       "    <tr>\n",
       "      <th>1</th>\n",
       "      <td>1</td>\n",
       "      <td>2</td>\n",
       "      <td>0.0019</td>\n",
       "      <td>-0.0003</td>\n",
       "      <td>100.0</td>\n",
       "      <td>518.67</td>\n",
       "      <td>642.15</td>\n",
       "      <td>1591.82</td>\n",
       "      <td>1403.14</td>\n",
       "      <td>14.62</td>\n",
       "      <td>...</td>\n",
       "      <td>0.03</td>\n",
       "      <td>392</td>\n",
       "      <td>2388</td>\n",
       "      <td>100.0</td>\n",
       "      <td>39.00</td>\n",
       "      <td>23.4236</td>\n",
       "      <td>1</td>\n",
       "      <td>1</td>\n",
       "      <td>98.0</td>\n",
       "      <td>2000-01-01 00:10:00</td>\n",
       "    </tr>\n",
       "    <tr>\n",
       "      <th>2</th>\n",
       "      <td>1</td>\n",
       "      <td>3</td>\n",
       "      <td>-0.0043</td>\n",
       "      <td>0.0003</td>\n",
       "      <td>100.0</td>\n",
       "      <td>518.67</td>\n",
       "      <td>642.35</td>\n",
       "      <td>1587.99</td>\n",
       "      <td>1404.20</td>\n",
       "      <td>14.62</td>\n",
       "      <td>...</td>\n",
       "      <td>0.03</td>\n",
       "      <td>390</td>\n",
       "      <td>2388</td>\n",
       "      <td>100.0</td>\n",
       "      <td>38.95</td>\n",
       "      <td>23.3442</td>\n",
       "      <td>2</td>\n",
       "      <td>1</td>\n",
       "      <td>69.0</td>\n",
       "      <td>2000-01-01 00:20:00</td>\n",
       "    </tr>\n",
       "  </tbody>\n",
       "</table>\n",
       "<p>3 rows × 30 columns</p>\n",
       "</div>"
      ],
      "text/plain": [
       "   engine_no  time_in_cycles  op_setting_1  op_setting_2  op_setting_3  \\\n",
       "0          1               1       -0.0007       -0.0004         100.0   \n",
       "1          1               2        0.0019       -0.0003         100.0   \n",
       "2          1               3       -0.0043        0.0003         100.0   \n",
       "\n",
       "   sensor_meas_1  sensor_meas_2  sensor_meas_3  sensor_meas_4  sensor_meas_5  \\\n",
       "0         518.67         641.82        1589.70        1400.60          14.62   \n",
       "1         518.67         642.15        1591.82        1403.14          14.62   \n",
       "2         518.67         642.35        1587.99        1404.20          14.62   \n",
       "\n",
       "   ...  sensor_meas_16  sensor_meas_17  sensor_meas_18  sensor_meas_19  \\\n",
       "0  ...            0.03             392            2388           100.0   \n",
       "1  ...            0.03             392            2388           100.0   \n",
       "2  ...            0.03             390            2388           100.0   \n",
       "\n",
       "   sensor_meas_20  sensor_meas_21  index  engine_family    RUL  \\\n",
       "0           39.06         23.4190      0              1  112.0   \n",
       "1           39.00         23.4236      1              1   98.0   \n",
       "2           38.95         23.3442      2              1   69.0   \n",
       "\n",
       "                 time  \n",
       "0 2000-01-01 00:00:00  \n",
       "1 2000-01-01 00:10:00  \n",
       "2 2000-01-01 00:20:00  \n",
       "\n",
       "[3 rows x 30 columns]"
      ]
     },
     "execution_count": 28,
     "metadata": {},
     "output_type": "execute_result"
    }
   ],
   "source": [
    "data.head(3)"
   ]
  },
  {
   "cell_type": "code",
   "execution_count": 24,
   "metadata": {},
   "outputs": [
    {
     "data": {
      "text/plain": [
       "Unnamed: 0                 int64\n",
       "engine_no                  int64\n",
       "time_in_cycles             int64\n",
       "op_setting_1             float64\n",
       "op_setting_2             float64\n",
       "op_setting_3             float64\n",
       "sensor_meas_1            float64\n",
       "sensor_meas_2            float64\n",
       "sensor_meas_3            float64\n",
       "sensor_meas_4            float64\n",
       "sensor_meas_5            float64\n",
       "sensor_meas_6            float64\n",
       "sensor_meas_7            float64\n",
       "sensor_meas_8            float64\n",
       "sensor_meas_9            float64\n",
       "sensor_meas_10           float64\n",
       "sensor_meas_11           float64\n",
       "sensor_meas_12           float64\n",
       "sensor_meas_13           float64\n",
       "sensor_meas_14           float64\n",
       "sensor_meas_15           float64\n",
       "sensor_meas_16           float64\n",
       "sensor_meas_17             int64\n",
       "sensor_meas_18             int64\n",
       "sensor_meas_19           float64\n",
       "sensor_meas_20           float64\n",
       "sensor_meas_21           float64\n",
       "index                      int64\n",
       "engine_family              int64\n",
       "RUL                      float64\n",
       "time              datetime64[ns]\n",
       "dtype: object"
      ]
     },
     "execution_count": 24,
     "metadata": {},
     "output_type": "execute_result"
    }
   ],
   "source": [
    "data.dtypes"
   ]
  },
  {
   "cell_type": "markdown",
   "metadata": {},
   "source": [
    "**Date/time features**"
   ]
  },
  {
   "cell_type": "code",
   "execution_count": null,
   "metadata": {},
   "outputs": [],
   "source": []
  },
  {
   "cell_type": "code",
   "execution_count": null,
   "metadata": {},
   "outputs": [],
   "source": []
  },
  {
   "cell_type": "code",
   "execution_count": null,
   "metadata": {},
   "outputs": [],
   "source": []
  },
  {
   "cell_type": "code",
   "execution_count": null,
   "metadata": {},
   "outputs": [],
   "source": []
  },
  {
   "cell_type": "markdown",
   "metadata": {},
   "source": [
    "**"
   ]
  }
 ],
 "metadata": {
  "kernelspec": {
   "display_name": "Python 3",
   "language": "python",
   "name": "python3"
  },
  "language_info": {
   "codemirror_mode": {
    "name": "ipython",
    "version": 3
   },
   "file_extension": ".py",
   "mimetype": "text/x-python",
   "name": "python",
   "nbconvert_exporter": "python",
   "pygments_lexer": "ipython3",
   "version": "3.7.3"
  }
 },
 "nbformat": 4,
 "nbformat_minor": 2
}
