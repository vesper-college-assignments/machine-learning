{
 "cells": [
  {
   "cell_type": "markdown",
   "metadata": {},
   "source": [
    "# Notebook 3 - Make 3D tensors"
   ]
  },
  {
   "cell_type": "code",
   "execution_count": 142,
   "metadata": {},
   "outputs": [],
   "source": [
    "import pandas as pd\n",
    "import numpy as np"
   ]
  },
  {
   "cell_type": "code",
   "execution_count": 53,
   "metadata": {},
   "outputs": [],
   "source": [
    "data = pd.read_hdf('data/data2.h5', key='data')"
   ]
  },
  {
   "cell_type": "code",
   "execution_count": 54,
   "metadata": {},
   "outputs": [
    {
     "name": "stdout",
     "output_type": "stream",
     "text": [
      "(159788, 31)\n"
     ]
    }
   ],
   "source": [
    "print(data.shape)"
   ]
  },
  {
   "cell_type": "code",
   "execution_count": 55,
   "metadata": {},
   "outputs": [
    {
     "data": {
      "text/html": [
       "<div>\n",
       "<style scoped>\n",
       "    .dataframe tbody tr th:only-of-type {\n",
       "        vertical-align: middle;\n",
       "    }\n",
       "\n",
       "    .dataframe tbody tr th {\n",
       "        vertical-align: top;\n",
       "    }\n",
       "\n",
       "    .dataframe thead th {\n",
       "        text-align: right;\n",
       "    }\n",
       "</style>\n",
       "<table border=\"1\" class=\"dataframe\">\n",
       "  <thead>\n",
       "    <tr style=\"text-align: right;\">\n",
       "      <th></th>\n",
       "      <th>op_setting_1</th>\n",
       "      <th>op_setting_2</th>\n",
       "      <th>op_setting_3</th>\n",
       "      <th>sensor_meas_1</th>\n",
       "      <th>sensor_meas_2</th>\n",
       "      <th>sensor_meas_3</th>\n",
       "      <th>sensor_meas_4</th>\n",
       "      <th>sensor_meas_5</th>\n",
       "      <th>sensor_meas_6</th>\n",
       "      <th>sensor_meas_7</th>\n",
       "      <th>...</th>\n",
       "      <th>sensor_meas_19</th>\n",
       "      <th>sensor_meas_20</th>\n",
       "      <th>sensor_meas_21</th>\n",
       "      <th>target</th>\n",
       "      <th>eng_fam</th>\n",
       "      <th>time</th>\n",
       "      <th>time_in_cycles</th>\n",
       "      <th>sensor_meas_17</th>\n",
       "      <th>sensor_meas_18</th>\n",
       "      <th>engine_family</th>\n",
       "    </tr>\n",
       "    <tr>\n",
       "      <th>index</th>\n",
       "      <th></th>\n",
       "      <th></th>\n",
       "      <th></th>\n",
       "      <th></th>\n",
       "      <th></th>\n",
       "      <th></th>\n",
       "      <th></th>\n",
       "      <th></th>\n",
       "      <th></th>\n",
       "      <th></th>\n",
       "      <th></th>\n",
       "      <th></th>\n",
       "      <th></th>\n",
       "      <th></th>\n",
       "      <th></th>\n",
       "      <th></th>\n",
       "      <th></th>\n",
       "      <th></th>\n",
       "      <th></th>\n",
       "      <th></th>\n",
       "      <th></th>\n",
       "    </tr>\n",
       "  </thead>\n",
       "  <tbody>\n",
       "    <tr>\n",
       "      <th>0</th>\n",
       "      <td>-0.0007</td>\n",
       "      <td>-0.0004</td>\n",
       "      <td>100.0</td>\n",
       "      <td>518.67</td>\n",
       "      <td>641.82</td>\n",
       "      <td>1589.70</td>\n",
       "      <td>1400.60</td>\n",
       "      <td>14.62</td>\n",
       "      <td>21.61</td>\n",
       "      <td>554.36</td>\n",
       "      <td>...</td>\n",
       "      <td>100.0</td>\n",
       "      <td>39.06</td>\n",
       "      <td>23.4190</td>\n",
       "      <td>não falha</td>\n",
       "      <td>0_1</td>\n",
       "      <td>2000-01-01 00:00:00</td>\n",
       "      <td>1.0</td>\n",
       "      <td>392.0</td>\n",
       "      <td>2388.0</td>\n",
       "      <td>1.0</td>\n",
       "    </tr>\n",
       "    <tr>\n",
       "      <th>1</th>\n",
       "      <td>0.0019</td>\n",
       "      <td>-0.0003</td>\n",
       "      <td>100.0</td>\n",
       "      <td>518.67</td>\n",
       "      <td>642.15</td>\n",
       "      <td>1591.82</td>\n",
       "      <td>1403.14</td>\n",
       "      <td>14.62</td>\n",
       "      <td>21.61</td>\n",
       "      <td>553.75</td>\n",
       "      <td>...</td>\n",
       "      <td>100.0</td>\n",
       "      <td>39.00</td>\n",
       "      <td>23.4236</td>\n",
       "      <td>não falha</td>\n",
       "      <td>0_1</td>\n",
       "      <td>2000-01-01 00:10:00</td>\n",
       "      <td>2.0</td>\n",
       "      <td>392.0</td>\n",
       "      <td>2388.0</td>\n",
       "      <td>1.0</td>\n",
       "    </tr>\n",
       "    <tr>\n",
       "      <th>2</th>\n",
       "      <td>-0.0043</td>\n",
       "      <td>0.0003</td>\n",
       "      <td>100.0</td>\n",
       "      <td>518.67</td>\n",
       "      <td>642.35</td>\n",
       "      <td>1587.99</td>\n",
       "      <td>1404.20</td>\n",
       "      <td>14.62</td>\n",
       "      <td>21.61</td>\n",
       "      <td>554.26</td>\n",
       "      <td>...</td>\n",
       "      <td>100.0</td>\n",
       "      <td>38.95</td>\n",
       "      <td>23.3442</td>\n",
       "      <td>não falha</td>\n",
       "      <td>0_1</td>\n",
       "      <td>2000-01-01 00:20:00</td>\n",
       "      <td>3.0</td>\n",
       "      <td>390.0</td>\n",
       "      <td>2388.0</td>\n",
       "      <td>1.0</td>\n",
       "    </tr>\n",
       "    <tr>\n",
       "      <th>3</th>\n",
       "      <td>0.0007</td>\n",
       "      <td>0.0000</td>\n",
       "      <td>100.0</td>\n",
       "      <td>518.67</td>\n",
       "      <td>642.35</td>\n",
       "      <td>1582.79</td>\n",
       "      <td>1401.87</td>\n",
       "      <td>14.62</td>\n",
       "      <td>21.61</td>\n",
       "      <td>554.45</td>\n",
       "      <td>...</td>\n",
       "      <td>100.0</td>\n",
       "      <td>38.88</td>\n",
       "      <td>23.3739</td>\n",
       "      <td>não falha</td>\n",
       "      <td>0_1</td>\n",
       "      <td>2000-01-01 00:30:00</td>\n",
       "      <td>4.0</td>\n",
       "      <td>392.0</td>\n",
       "      <td>2388.0</td>\n",
       "      <td>1.0</td>\n",
       "    </tr>\n",
       "    <tr>\n",
       "      <th>4</th>\n",
       "      <td>-0.0019</td>\n",
       "      <td>-0.0002</td>\n",
       "      <td>100.0</td>\n",
       "      <td>518.67</td>\n",
       "      <td>642.37</td>\n",
       "      <td>1582.85</td>\n",
       "      <td>1406.22</td>\n",
       "      <td>14.62</td>\n",
       "      <td>21.61</td>\n",
       "      <td>554.00</td>\n",
       "      <td>...</td>\n",
       "      <td>100.0</td>\n",
       "      <td>38.90</td>\n",
       "      <td>23.4044</td>\n",
       "      <td>não falha</td>\n",
       "      <td>0_1</td>\n",
       "      <td>2000-01-01 00:40:00</td>\n",
       "      <td>5.0</td>\n",
       "      <td>393.0</td>\n",
       "      <td>2388.0</td>\n",
       "      <td>1.0</td>\n",
       "    </tr>\n",
       "  </tbody>\n",
       "</table>\n",
       "<p>5 rows × 29 columns</p>\n",
       "</div>"
      ],
      "text/plain": [
       "       op_setting_1  op_setting_2  op_setting_3  sensor_meas_1  sensor_meas_2  \\\n",
       "index                                                                           \n",
       "0           -0.0007       -0.0004         100.0         518.67         641.82   \n",
       "1            0.0019       -0.0003         100.0         518.67         642.15   \n",
       "2           -0.0043        0.0003         100.0         518.67         642.35   \n",
       "3            0.0007        0.0000         100.0         518.67         642.35   \n",
       "4           -0.0019       -0.0002         100.0         518.67         642.37   \n",
       "\n",
       "       sensor_meas_3  sensor_meas_4  sensor_meas_5  sensor_meas_6  \\\n",
       "index                                                               \n",
       "0            1589.70        1400.60          14.62          21.61   \n",
       "1            1591.82        1403.14          14.62          21.61   \n",
       "2            1587.99        1404.20          14.62          21.61   \n",
       "3            1582.79        1401.87          14.62          21.61   \n",
       "4            1582.85        1406.22          14.62          21.61   \n",
       "\n",
       "       sensor_meas_7  ...  sensor_meas_19  sensor_meas_20  sensor_meas_21  \\\n",
       "index                 ...                                                   \n",
       "0             554.36  ...           100.0           39.06         23.4190   \n",
       "1             553.75  ...           100.0           39.00         23.4236   \n",
       "2             554.26  ...           100.0           38.95         23.3442   \n",
       "3             554.45  ...           100.0           38.88         23.3739   \n",
       "4             554.00  ...           100.0           38.90         23.4044   \n",
       "\n",
       "          target  eng_fam                time  time_in_cycles  sensor_meas_17  \\\n",
       "index                                                                           \n",
       "0      não falha      0_1 2000-01-01 00:00:00             1.0           392.0   \n",
       "1      não falha      0_1 2000-01-01 00:10:00             2.0           392.0   \n",
       "2      não falha      0_1 2000-01-01 00:20:00             3.0           390.0   \n",
       "3      não falha      0_1 2000-01-01 00:30:00             4.0           392.0   \n",
       "4      não falha      0_1 2000-01-01 00:40:00             5.0           393.0   \n",
       "\n",
       "       sensor_meas_18  engine_family  \n",
       "index                                 \n",
       "0              2388.0            1.0  \n",
       "1              2388.0            1.0  \n",
       "2              2388.0            1.0  \n",
       "3              2388.0            1.0  \n",
       "4              2388.0            1.0  \n",
       "\n",
       "[5 rows x 29 columns]"
      ]
     },
     "execution_count": 55,
     "metadata": {},
     "output_type": "execute_result"
    }
   ],
   "source": [
    "data = data.drop(['index', 'engine_no'], axis=1)\n",
    "data.head(5)"
   ]
  },
  {
   "cell_type": "markdown",
   "metadata": {},
   "source": [
    "# Fazer o cards"
   ]
  },
  {
   "cell_type": "code",
   "execution_count": 56,
   "metadata": {},
   "outputs": [
    {
     "data": {
      "text/plain": [
       "709"
      ]
     },
     "execution_count": 56,
     "metadata": {},
     "output_type": "execute_result"
    }
   ],
   "source": [
    "unique_eng_fam = X_df['eng_fam'].unique()\n",
    "len(unique_eng_fam)"
   ]
  },
  {
   "cell_type": "code",
   "execution_count": 57,
   "metadata": {},
   "outputs": [
    {
     "data": {
      "text/plain": [
       "array(['1_1', '1_2', '1_3', '1_4', '2_2', '2_1', '2_3', '2_4', '3_2',\n",
       "       '3_1', '3_3', '3_4', '4_2', '4_1', '4_3', '5_1', '5_2', '4_4',\n",
       "       '5_3', '6_2'], dtype=object)"
      ]
     },
     "execution_count": 57,
     "metadata": {},
     "output_type": "execute_result"
    }
   ],
   "source": [
    "unique_eng_fam[:20]"
   ]
  },
  {
   "cell_type": "code",
   "execution_count": 58,
   "metadata": {},
   "outputs": [],
   "source": [
    "data = data.sort_values(by=['eng_fam', 'time'])"
   ]
  },
  {
   "cell_type": "code",
   "execution_count": 59,
   "metadata": {},
   "outputs": [],
   "source": [
    "def to_cards(X_df):\n",
    "    cards = []\n",
    "    size = []\n",
    "    for i in range(len(unique_eng_fam)):\n",
    "        filtered = X_df.query('@X_df.eng_fam == @unique_eng_fam' + str([i]))\n",
    "        size.append(len(filtered))\n",
    "        \n",
    "        filtered = filtered.reset_index()\n",
    "        filtered = filtered.sort_values(['time'])\n",
    "        filtered = filtered.drop(['index'], axis=1)\n",
    "        filtered.to_numpy()\n",
    "        cards.append(filtered)\n",
    "        \n",
    "    return cards, size"
   ]
  },
  {
   "cell_type": "code",
   "execution_count": 60,
   "metadata": {},
   "outputs": [],
   "source": [
    "cards, size = to_cards(data)"
   ]
  },
  {
   "cell_type": "code",
   "execution_count": 76,
   "metadata": {},
   "outputs": [
    {
     "name": "stdout",
     "output_type": "stream",
     "text": [
      "achou\n",
      "achou\n",
      "achou\n",
      "achou\n",
      "achou\n",
      "achou\n"
     ]
    }
   ],
   "source": [
    "for i in range(len(cards)):\n",
    "#     new_cards = np.empty(shape=(len(cards)))\n",
    "    \n",
    "    item = cards[i]\n",
    "    if item.shape[0] is 0:\n",
    "        print('achou')\n",
    "    else:\n",
    "#         new_cards[i] = item\n",
    "        pass\n",
    "#         cards = np.delete(cards, i)"
   ]
  },
  {
   "cell_type": "code",
   "execution_count": 61,
   "metadata": {},
   "outputs": [
    {
     "name": "stdout",
     "output_type": "stream",
     "text": [
      "<class 'list'>\n",
      "<class 'pandas.core.frame.DataFrame'>\n"
     ]
    }
   ],
   "source": [
    "print(type(cards))\n",
    "print(type(cards[0]))"
   ]
  },
  {
   "cell_type": "code",
   "execution_count": 82,
   "metadata": {},
   "outputs": [
    {
     "name": "stdout",
     "output_type": "stream",
     "text": [
      "achei 367\n",
      "achei 420\n",
      "achei 674\n",
      "achei 676\n",
      "achei 707\n",
      "achei 708\n"
     ]
    }
   ],
   "source": [
    "# Identifica os cards com 0 timestamps\n",
    "for i in range(len(cards)):\n",
    "    if cards[i].shape[0] is 0:\n",
    "        print('achei', i)\n",
    "# print(\"Cards com 0 timestamps:\", zeroes)"
   ]
  },
  {
   "cell_type": "code",
   "execution_count": 79,
   "metadata": {},
   "outputs": [
    {
     "data": {
      "text/html": [
       "<div>\n",
       "<style scoped>\n",
       "    .dataframe tbody tr th:only-of-type {\n",
       "        vertical-align: middle;\n",
       "    }\n",
       "\n",
       "    .dataframe tbody tr th {\n",
       "        vertical-align: top;\n",
       "    }\n",
       "\n",
       "    .dataframe thead th {\n",
       "        text-align: right;\n",
       "    }\n",
       "</style>\n",
       "<table border=\"1\" class=\"dataframe\">\n",
       "  <thead>\n",
       "    <tr style=\"text-align: right;\">\n",
       "      <th></th>\n",
       "      <th>op_setting_1</th>\n",
       "      <th>op_setting_2</th>\n",
       "      <th>op_setting_3</th>\n",
       "      <th>sensor_meas_1</th>\n",
       "      <th>sensor_meas_2</th>\n",
       "      <th>sensor_meas_3</th>\n",
       "      <th>sensor_meas_4</th>\n",
       "      <th>sensor_meas_5</th>\n",
       "      <th>sensor_meas_6</th>\n",
       "      <th>sensor_meas_7</th>\n",
       "      <th>...</th>\n",
       "      <th>sensor_meas_19</th>\n",
       "      <th>sensor_meas_20</th>\n",
       "      <th>sensor_meas_21</th>\n",
       "      <th>target</th>\n",
       "      <th>eng_fam</th>\n",
       "      <th>time</th>\n",
       "      <th>time_in_cycles</th>\n",
       "      <th>sensor_meas_17</th>\n",
       "      <th>sensor_meas_18</th>\n",
       "      <th>engine_family</th>\n",
       "    </tr>\n",
       "  </thead>\n",
       "  <tbody>\n",
       "    <tr>\n",
       "      <th>0</th>\n",
       "      <td>42.0061</td>\n",
       "      <td>0.8400</td>\n",
       "      <td>100.0</td>\n",
       "      <td>445.00</td>\n",
       "      <td>549.18</td>\n",
       "      <td>1347.49</td>\n",
       "      <td>1127.52</td>\n",
       "      <td>3.91</td>\n",
       "      <td>5.71</td>\n",
       "      <td>138.32</td>\n",
       "      <td>...</td>\n",
       "      <td>100.0</td>\n",
       "      <td>10.51</td>\n",
       "      <td>6.3660</td>\n",
       "      <td>falha</td>\n",
       "      <td>102_2</td>\n",
       "      <td>2000-05-22 22:50:00</td>\n",
       "      <td>1.0</td>\n",
       "      <td>329.0</td>\n",
       "      <td>2212.0</td>\n",
       "      <td>2.0</td>\n",
       "    </tr>\n",
       "    <tr>\n",
       "      <th>1</th>\n",
       "      <td>10.0041</td>\n",
       "      <td>0.2503</td>\n",
       "      <td>100.0</td>\n",
       "      <td>489.05</td>\n",
       "      <td>603.87</td>\n",
       "      <td>1502.29</td>\n",
       "      <td>1299.67</td>\n",
       "      <td>10.52</td>\n",
       "      <td>15.49</td>\n",
       "      <td>394.41</td>\n",
       "      <td>...</td>\n",
       "      <td>100.0</td>\n",
       "      <td>28.61</td>\n",
       "      <td>17.1781</td>\n",
       "      <td>falha</td>\n",
       "      <td>102_2</td>\n",
       "      <td>2000-05-22 23:00:00</td>\n",
       "      <td>2.0</td>\n",
       "      <td>370.0</td>\n",
       "      <td>2319.0</td>\n",
       "      <td>2.0</td>\n",
       "    </tr>\n",
       "    <tr>\n",
       "      <th>2</th>\n",
       "      <td>35.0062</td>\n",
       "      <td>0.8413</td>\n",
       "      <td>100.0</td>\n",
       "      <td>449.44</td>\n",
       "      <td>555.13</td>\n",
       "      <td>1367.54</td>\n",
       "      <td>1125.05</td>\n",
       "      <td>5.48</td>\n",
       "      <td>8.00</td>\n",
       "      <td>195.33</td>\n",
       "      <td>...</td>\n",
       "      <td>100.0</td>\n",
       "      <td>15.00</td>\n",
       "      <td>8.8169</td>\n",
       "      <td>falha</td>\n",
       "      <td>102_2</td>\n",
       "      <td>2000-05-22 23:10:00</td>\n",
       "      <td>3.0</td>\n",
       "      <td>333.0</td>\n",
       "      <td>2223.0</td>\n",
       "      <td>2.0</td>\n",
       "    </tr>\n",
       "    <tr>\n",
       "      <th>3</th>\n",
       "      <td>0.0016</td>\n",
       "      <td>0.0012</td>\n",
       "      <td>100.0</td>\n",
       "      <td>518.67</td>\n",
       "      <td>642.17</td>\n",
       "      <td>1587.78</td>\n",
       "      <td>1394.72</td>\n",
       "      <td>14.62</td>\n",
       "      <td>21.61</td>\n",
       "      <td>554.91</td>\n",
       "      <td>...</td>\n",
       "      <td>100.0</td>\n",
       "      <td>39.01</td>\n",
       "      <td>23.3520</td>\n",
       "      <td>falha</td>\n",
       "      <td>102_2</td>\n",
       "      <td>2000-05-22 23:20:00</td>\n",
       "      <td>4.0</td>\n",
       "      <td>391.0</td>\n",
       "      <td>2388.0</td>\n",
       "      <td>2.0</td>\n",
       "    </tr>\n",
       "    <tr>\n",
       "      <th>4</th>\n",
       "      <td>9.9992</td>\n",
       "      <td>0.2518</td>\n",
       "      <td>100.0</td>\n",
       "      <td>489.05</td>\n",
       "      <td>604.49</td>\n",
       "      <td>1494.18</td>\n",
       "      <td>1303.82</td>\n",
       "      <td>10.52</td>\n",
       "      <td>15.49</td>\n",
       "      <td>394.40</td>\n",
       "      <td>...</td>\n",
       "      <td>100.0</td>\n",
       "      <td>28.80</td>\n",
       "      <td>17.1959</td>\n",
       "      <td>falha</td>\n",
       "      <td>102_2</td>\n",
       "      <td>2000-05-22 23:30:00</td>\n",
       "      <td>5.0</td>\n",
       "      <td>368.0</td>\n",
       "      <td>2319.0</td>\n",
       "      <td>2.0</td>\n",
       "    </tr>\n",
       "  </tbody>\n",
       "</table>\n",
       "<p>5 rows × 29 columns</p>\n",
       "</div>"
      ],
      "text/plain": [
       "   op_setting_1  op_setting_2  op_setting_3  sensor_meas_1  sensor_meas_2  \\\n",
       "0       42.0061        0.8400         100.0         445.00         549.18   \n",
       "1       10.0041        0.2503         100.0         489.05         603.87   \n",
       "2       35.0062        0.8413         100.0         449.44         555.13   \n",
       "3        0.0016        0.0012         100.0         518.67         642.17   \n",
       "4        9.9992        0.2518         100.0         489.05         604.49   \n",
       "\n",
       "   sensor_meas_3  sensor_meas_4  sensor_meas_5  sensor_meas_6  sensor_meas_7  \\\n",
       "0        1347.49        1127.52           3.91           5.71         138.32   \n",
       "1        1502.29        1299.67          10.52          15.49         394.41   \n",
       "2        1367.54        1125.05           5.48           8.00         195.33   \n",
       "3        1587.78        1394.72          14.62          21.61         554.91   \n",
       "4        1494.18        1303.82          10.52          15.49         394.40   \n",
       "\n",
       "   ...  sensor_meas_19  sensor_meas_20  sensor_meas_21  target  eng_fam  \\\n",
       "0  ...           100.0           10.51          6.3660   falha    102_2   \n",
       "1  ...           100.0           28.61         17.1781   falha    102_2   \n",
       "2  ...           100.0           15.00          8.8169   falha    102_2   \n",
       "3  ...           100.0           39.01         23.3520   falha    102_2   \n",
       "4  ...           100.0           28.80         17.1959   falha    102_2   \n",
       "\n",
       "                 time  time_in_cycles  sensor_meas_17  sensor_meas_18  \\\n",
       "0 2000-05-22 22:50:00             1.0           329.0          2212.0   \n",
       "1 2000-05-22 23:00:00             2.0           370.0          2319.0   \n",
       "2 2000-05-22 23:10:00             3.0           333.0          2223.0   \n",
       "3 2000-05-22 23:20:00             4.0           391.0          2388.0   \n",
       "4 2000-05-22 23:30:00             5.0           368.0          2319.0   \n",
       "\n",
       "   engine_family  \n",
       "0            2.0  \n",
       "1            2.0  \n",
       "2            2.0  \n",
       "3            2.0  \n",
       "4            2.0  \n",
       "\n",
       "[5 rows x 29 columns]"
      ]
     },
     "execution_count": 79,
     "metadata": {},
     "output_type": "execute_result"
    }
   ],
   "source": [
    "cards[366].head(5)"
   ]
  },
  {
   "cell_type": "code",
   "execution_count": 80,
   "metadata": {},
   "outputs": [
    {
     "ename": "AttributeError",
     "evalue": "'list' object has no attribute 'delete'",
     "output_type": "error",
     "traceback": [
      "\u001b[0;31m---------------------------------------------------------------------------\u001b[0m",
      "\u001b[0;31mAttributeError\u001b[0m                            Traceback (most recent call last)",
      "\u001b[0;32m<ipython-input-80-a67f61083b28>\u001b[0m in \u001b[0;36m<module>\u001b[0;34m\u001b[0m\n\u001b[0;32m----> 1\u001b[0;31m \u001b[0mcards\u001b[0m\u001b[0;34m.\u001b[0m\u001b[0mdelete\u001b[0m\u001b[0;34m(\u001b[0m\u001b[0;36m367\u001b[0m\u001b[0;34m)\u001b[0m\u001b[0;34m\u001b[0m\u001b[0;34m\u001b[0m\u001b[0m\n\u001b[0m",
      "\u001b[0;31mAttributeError\u001b[0m: 'list' object has no attribute 'delete'"
     ]
    }
   ],
   "source": []
  },
  {
   "cell_type": "code",
   "execution_count": 64,
   "metadata": {},
   "outputs": [],
   "source": [
    "# dropar as linhas com 0 timestamps\n",
    "for row in zeroes:\n",
    "    data = data.drop(row)"
   ]
  },
  {
   "cell_type": "code",
   "execution_count": 65,
   "metadata": {},
   "outputs": [
    {
     "data": {
      "text/plain": [
       "(159764, 29)"
      ]
     },
     "execution_count": 65,
     "metadata": {},
     "output_type": "execute_result"
    }
   ],
   "source": [
    "data.shape"
   ]
  },
  {
   "cell_type": "code",
   "execution_count": null,
   "metadata": {},
   "outputs": [],
   "source": []
  },
  {
   "cell_type": "code",
   "execution_count": null,
   "metadata": {},
   "outputs": [],
   "source": []
  },
  {
   "cell_type": "code",
   "execution_count": null,
   "metadata": {},
   "outputs": [],
   "source": []
  },
  {
   "cell_type": "code",
   "execution_count": null,
   "metadata": {},
   "outputs": [],
   "source": []
  },
  {
   "cell_type": "code",
   "execution_count": null,
   "metadata": {},
   "outputs": [],
   "source": []
  },
  {
   "cell_type": "code",
   "execution_count": null,
   "metadata": {},
   "outputs": [],
   "source": []
  },
  {
   "cell_type": "code",
   "execution_count": null,
   "metadata": {},
   "outputs": [],
   "source": [
    "?X_df.to_numpy"
   ]
  },
  {
   "cell_type": "code",
   "execution_count": null,
   "metadata": {},
   "outputs": [],
   "source": [
    "# Time information is on index 22\n",
    "X_np[0][22]"
   ]
  },
  {
   "cell_type": "code",
   "execution_count": null,
   "metadata": {},
   "outputs": [],
   "source": [
    "X.shape"
   ]
  },
  {
   "cell_type": "code",
   "execution_count": null,
   "metadata": {},
   "outputs": [],
   "source": []
  },
  {
   "cell_type": "code",
   "execution_count": null,
   "metadata": {},
   "outputs": [],
   "source": [
    "def format_to_lstm(df):\n",
    "\tX = np.array(df)\n",
    "\treturn np.reshape(X, (X.shape[0], 1, X.shape[1]))"
   ]
  }
 ],
 "metadata": {
  "kernelspec": {
   "display_name": "Python 3",
   "language": "python",
   "name": "python3"
  },
  "language_info": {
   "codemirror_mode": {
    "name": "ipython",
    "version": 3
   },
   "file_extension": ".py",
   "mimetype": "text/x-python",
   "name": "python",
   "nbconvert_exporter": "python",
   "pygments_lexer": "ipython3",
   "version": "3.7.3"
  }
 },
 "nbformat": 4,
 "nbformat_minor": 2
}
