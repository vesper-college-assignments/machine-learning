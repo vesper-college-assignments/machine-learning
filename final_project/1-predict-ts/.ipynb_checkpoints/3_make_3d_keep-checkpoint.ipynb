{
 "cells": [
  {
   "cell_type": "markdown",
   "metadata": {},
   "source": [
    "# Notebook 3 - Make 3D tensors"
   ]
  },
  {
   "cell_type": "code",
   "execution_count": 14,
   "metadata": {},
   "outputs": [],
   "source": [
    "import pandas as pd\n",
    "import numpy as np"
   ]
  },
  {
   "cell_type": "code",
   "execution_count": 61,
   "metadata": {},
   "outputs": [],
   "source": [
    "data = pd.read_hdf('data2.h5', key='data')"
   ]
  },
  {
   "cell_type": "code",
   "execution_count": 16,
   "metadata": {},
   "outputs": [
    {
     "name": "stdout",
     "output_type": "stream",
     "text": [
      "(159788, 31)\n"
     ]
    }
   ],
   "source": [
    "print(data.shape)"
   ]
  },
  {
   "cell_type": "code",
   "execution_count": 62,
   "metadata": {},
   "outputs": [
    {
     "data": {
      "text/html": [
       "<div>\n",
       "<style scoped>\n",
       "    .dataframe tbody tr th:only-of-type {\n",
       "        vertical-align: middle;\n",
       "    }\n",
       "\n",
       "    .dataframe tbody tr th {\n",
       "        vertical-align: top;\n",
       "    }\n",
       "\n",
       "    .dataframe thead th {\n",
       "        text-align: right;\n",
       "    }\n",
       "</style>\n",
       "<table border=\"1\" class=\"dataframe\">\n",
       "  <thead>\n",
       "    <tr style=\"text-align: right;\">\n",
       "      <th></th>\n",
       "      <th>op_setting_1</th>\n",
       "      <th>op_setting_2</th>\n",
       "      <th>op_setting_3</th>\n",
       "      <th>sensor_meas_1</th>\n",
       "      <th>sensor_meas_2</th>\n",
       "      <th>sensor_meas_3</th>\n",
       "      <th>sensor_meas_4</th>\n",
       "      <th>sensor_meas_5</th>\n",
       "      <th>sensor_meas_6</th>\n",
       "      <th>sensor_meas_7</th>\n",
       "      <th>...</th>\n",
       "      <th>sensor_meas_19</th>\n",
       "      <th>sensor_meas_20</th>\n",
       "      <th>sensor_meas_21</th>\n",
       "      <th>target</th>\n",
       "      <th>eng_fam</th>\n",
       "      <th>time</th>\n",
       "      <th>time_in_cycles</th>\n",
       "      <th>sensor_meas_17</th>\n",
       "      <th>sensor_meas_18</th>\n",
       "      <th>engine_family</th>\n",
       "    </tr>\n",
       "    <tr>\n",
       "      <th>index</th>\n",
       "      <th></th>\n",
       "      <th></th>\n",
       "      <th></th>\n",
       "      <th></th>\n",
       "      <th></th>\n",
       "      <th></th>\n",
       "      <th></th>\n",
       "      <th></th>\n",
       "      <th></th>\n",
       "      <th></th>\n",
       "      <th></th>\n",
       "      <th></th>\n",
       "      <th></th>\n",
       "      <th></th>\n",
       "      <th></th>\n",
       "      <th></th>\n",
       "      <th></th>\n",
       "      <th></th>\n",
       "      <th></th>\n",
       "      <th></th>\n",
       "      <th></th>\n",
       "    </tr>\n",
       "  </thead>\n",
       "  <tbody>\n",
       "    <tr>\n",
       "      <th>0</th>\n",
       "      <td>-0.0007</td>\n",
       "      <td>-0.0004</td>\n",
       "      <td>100.0</td>\n",
       "      <td>518.67</td>\n",
       "      <td>641.82</td>\n",
       "      <td>1589.70</td>\n",
       "      <td>1400.60</td>\n",
       "      <td>14.62</td>\n",
       "      <td>21.61</td>\n",
       "      <td>554.36</td>\n",
       "      <td>...</td>\n",
       "      <td>100.0</td>\n",
       "      <td>39.06</td>\n",
       "      <td>23.4190</td>\n",
       "      <td>não falha</td>\n",
       "      <td>0_1</td>\n",
       "      <td>2000-01-01 00:00:00</td>\n",
       "      <td>1.0</td>\n",
       "      <td>392.0</td>\n",
       "      <td>2388.0</td>\n",
       "      <td>1.0</td>\n",
       "    </tr>\n",
       "    <tr>\n",
       "      <th>1</th>\n",
       "      <td>0.0019</td>\n",
       "      <td>-0.0003</td>\n",
       "      <td>100.0</td>\n",
       "      <td>518.67</td>\n",
       "      <td>642.15</td>\n",
       "      <td>1591.82</td>\n",
       "      <td>1403.14</td>\n",
       "      <td>14.62</td>\n",
       "      <td>21.61</td>\n",
       "      <td>553.75</td>\n",
       "      <td>...</td>\n",
       "      <td>100.0</td>\n",
       "      <td>39.00</td>\n",
       "      <td>23.4236</td>\n",
       "      <td>não falha</td>\n",
       "      <td>0_1</td>\n",
       "      <td>2000-01-01 00:10:00</td>\n",
       "      <td>2.0</td>\n",
       "      <td>392.0</td>\n",
       "      <td>2388.0</td>\n",
       "      <td>1.0</td>\n",
       "    </tr>\n",
       "    <tr>\n",
       "      <th>2</th>\n",
       "      <td>-0.0043</td>\n",
       "      <td>0.0003</td>\n",
       "      <td>100.0</td>\n",
       "      <td>518.67</td>\n",
       "      <td>642.35</td>\n",
       "      <td>1587.99</td>\n",
       "      <td>1404.20</td>\n",
       "      <td>14.62</td>\n",
       "      <td>21.61</td>\n",
       "      <td>554.26</td>\n",
       "      <td>...</td>\n",
       "      <td>100.0</td>\n",
       "      <td>38.95</td>\n",
       "      <td>23.3442</td>\n",
       "      <td>não falha</td>\n",
       "      <td>0_1</td>\n",
       "      <td>2000-01-01 00:20:00</td>\n",
       "      <td>3.0</td>\n",
       "      <td>390.0</td>\n",
       "      <td>2388.0</td>\n",
       "      <td>1.0</td>\n",
       "    </tr>\n",
       "    <tr>\n",
       "      <th>3</th>\n",
       "      <td>0.0007</td>\n",
       "      <td>0.0000</td>\n",
       "      <td>100.0</td>\n",
       "      <td>518.67</td>\n",
       "      <td>642.35</td>\n",
       "      <td>1582.79</td>\n",
       "      <td>1401.87</td>\n",
       "      <td>14.62</td>\n",
       "      <td>21.61</td>\n",
       "      <td>554.45</td>\n",
       "      <td>...</td>\n",
       "      <td>100.0</td>\n",
       "      <td>38.88</td>\n",
       "      <td>23.3739</td>\n",
       "      <td>não falha</td>\n",
       "      <td>0_1</td>\n",
       "      <td>2000-01-01 00:30:00</td>\n",
       "      <td>4.0</td>\n",
       "      <td>392.0</td>\n",
       "      <td>2388.0</td>\n",
       "      <td>1.0</td>\n",
       "    </tr>\n",
       "    <tr>\n",
       "      <th>4</th>\n",
       "      <td>-0.0019</td>\n",
       "      <td>-0.0002</td>\n",
       "      <td>100.0</td>\n",
       "      <td>518.67</td>\n",
       "      <td>642.37</td>\n",
       "      <td>1582.85</td>\n",
       "      <td>1406.22</td>\n",
       "      <td>14.62</td>\n",
       "      <td>21.61</td>\n",
       "      <td>554.00</td>\n",
       "      <td>...</td>\n",
       "      <td>100.0</td>\n",
       "      <td>38.90</td>\n",
       "      <td>23.4044</td>\n",
       "      <td>não falha</td>\n",
       "      <td>0_1</td>\n",
       "      <td>2000-01-01 00:40:00</td>\n",
       "      <td>5.0</td>\n",
       "      <td>393.0</td>\n",
       "      <td>2388.0</td>\n",
       "      <td>1.0</td>\n",
       "    </tr>\n",
       "  </tbody>\n",
       "</table>\n",
       "<p>5 rows × 29 columns</p>\n",
       "</div>"
      ],
      "text/plain": [
       "       op_setting_1  op_setting_2  op_setting_3  sensor_meas_1  sensor_meas_2  \\\n",
       "index                                                                           \n",
       "0           -0.0007       -0.0004         100.0         518.67         641.82   \n",
       "1            0.0019       -0.0003         100.0         518.67         642.15   \n",
       "2           -0.0043        0.0003         100.0         518.67         642.35   \n",
       "3            0.0007        0.0000         100.0         518.67         642.35   \n",
       "4           -0.0019       -0.0002         100.0         518.67         642.37   \n",
       "\n",
       "       sensor_meas_3  sensor_meas_4  sensor_meas_5  sensor_meas_6  \\\n",
       "index                                                               \n",
       "0            1589.70        1400.60          14.62          21.61   \n",
       "1            1591.82        1403.14          14.62          21.61   \n",
       "2            1587.99        1404.20          14.62          21.61   \n",
       "3            1582.79        1401.87          14.62          21.61   \n",
       "4            1582.85        1406.22          14.62          21.61   \n",
       "\n",
       "       sensor_meas_7  ...  sensor_meas_19  sensor_meas_20  sensor_meas_21  \\\n",
       "index                 ...                                                   \n",
       "0             554.36  ...           100.0           39.06         23.4190   \n",
       "1             553.75  ...           100.0           39.00         23.4236   \n",
       "2             554.26  ...           100.0           38.95         23.3442   \n",
       "3             554.45  ...           100.0           38.88         23.3739   \n",
       "4             554.00  ...           100.0           38.90         23.4044   \n",
       "\n",
       "          target  eng_fam                time  time_in_cycles  sensor_meas_17  \\\n",
       "index                                                                           \n",
       "0      não falha      0_1 2000-01-01 00:00:00             1.0           392.0   \n",
       "1      não falha      0_1 2000-01-01 00:10:00             2.0           392.0   \n",
       "2      não falha      0_1 2000-01-01 00:20:00             3.0           390.0   \n",
       "3      não falha      0_1 2000-01-01 00:30:00             4.0           392.0   \n",
       "4      não falha      0_1 2000-01-01 00:40:00             5.0           393.0   \n",
       "\n",
       "       sensor_meas_18  engine_family  \n",
       "index                                 \n",
       "0              2388.0            1.0  \n",
       "1              2388.0            1.0  \n",
       "2              2388.0            1.0  \n",
       "3              2388.0            1.0  \n",
       "4              2388.0            1.0  \n",
       "\n",
       "[5 rows x 29 columns]"
      ]
     },
     "execution_count": 62,
     "metadata": {},
     "output_type": "execute_result"
    }
   ],
   "source": [
    "data = data.drop(['index', 'engine_no'], axis=1)\n",
    "data.head(5)"
   ]
  },
  {
   "cell_type": "markdown",
   "metadata": {},
   "source": [
    "# Get targets per eng_fam"
   ]
  },
  {
   "cell_type": "code",
   "execution_count": 63,
   "metadata": {},
   "outputs": [],
   "source": [
    "y = data[['eng_fam', 'target']].copy(deep=True)"
   ]
  },
  {
   "cell_type": "code",
   "execution_count": 19,
   "metadata": {},
   "outputs": [],
   "source": [
    "data = data.drop(['target'], axis=1)"
   ]
  },
  {
   "cell_type": "code",
   "execution_count": 20,
   "metadata": {},
   "outputs": [
    {
     "data": {
      "text/html": [
       "<div>\n",
       "<style scoped>\n",
       "    .dataframe tbody tr th:only-of-type {\n",
       "        vertical-align: middle;\n",
       "    }\n",
       "\n",
       "    .dataframe tbody tr th {\n",
       "        vertical-align: top;\n",
       "    }\n",
       "\n",
       "    .dataframe thead th {\n",
       "        text-align: right;\n",
       "    }\n",
       "</style>\n",
       "<table border=\"1\" class=\"dataframe\">\n",
       "  <thead>\n",
       "    <tr style=\"text-align: right;\">\n",
       "      <th></th>\n",
       "      <th>op_setting_1</th>\n",
       "      <th>op_setting_2</th>\n",
       "      <th>op_setting_3</th>\n",
       "      <th>sensor_meas_1</th>\n",
       "      <th>sensor_meas_2</th>\n",
       "      <th>sensor_meas_3</th>\n",
       "      <th>sensor_meas_4</th>\n",
       "      <th>sensor_meas_5</th>\n",
       "      <th>sensor_meas_6</th>\n",
       "      <th>sensor_meas_7</th>\n",
       "      <th>...</th>\n",
       "      <th>sensor_meas_16</th>\n",
       "      <th>sensor_meas_19</th>\n",
       "      <th>sensor_meas_20</th>\n",
       "      <th>sensor_meas_21</th>\n",
       "      <th>eng_fam</th>\n",
       "      <th>time</th>\n",
       "      <th>time_in_cycles</th>\n",
       "      <th>sensor_meas_17</th>\n",
       "      <th>sensor_meas_18</th>\n",
       "      <th>engine_family</th>\n",
       "    </tr>\n",
       "    <tr>\n",
       "      <th>index</th>\n",
       "      <th></th>\n",
       "      <th></th>\n",
       "      <th></th>\n",
       "      <th></th>\n",
       "      <th></th>\n",
       "      <th></th>\n",
       "      <th></th>\n",
       "      <th></th>\n",
       "      <th></th>\n",
       "      <th></th>\n",
       "      <th></th>\n",
       "      <th></th>\n",
       "      <th></th>\n",
       "      <th></th>\n",
       "      <th></th>\n",
       "      <th></th>\n",
       "      <th></th>\n",
       "      <th></th>\n",
       "      <th></th>\n",
       "      <th></th>\n",
       "      <th></th>\n",
       "    </tr>\n",
       "  </thead>\n",
       "  <tbody>\n",
       "    <tr>\n",
       "      <th>0</th>\n",
       "      <td>-0.0007</td>\n",
       "      <td>-0.0004</td>\n",
       "      <td>100.0</td>\n",
       "      <td>518.67</td>\n",
       "      <td>641.82</td>\n",
       "      <td>1589.70</td>\n",
       "      <td>1400.60</td>\n",
       "      <td>14.62</td>\n",
       "      <td>21.61</td>\n",
       "      <td>554.36</td>\n",
       "      <td>...</td>\n",
       "      <td>0.03</td>\n",
       "      <td>100.0</td>\n",
       "      <td>39.06</td>\n",
       "      <td>23.4190</td>\n",
       "      <td>0_1</td>\n",
       "      <td>2000-01-01 00:00:00</td>\n",
       "      <td>1.0</td>\n",
       "      <td>392.0</td>\n",
       "      <td>2388.0</td>\n",
       "      <td>1.0</td>\n",
       "    </tr>\n",
       "    <tr>\n",
       "      <th>1</th>\n",
       "      <td>0.0019</td>\n",
       "      <td>-0.0003</td>\n",
       "      <td>100.0</td>\n",
       "      <td>518.67</td>\n",
       "      <td>642.15</td>\n",
       "      <td>1591.82</td>\n",
       "      <td>1403.14</td>\n",
       "      <td>14.62</td>\n",
       "      <td>21.61</td>\n",
       "      <td>553.75</td>\n",
       "      <td>...</td>\n",
       "      <td>0.03</td>\n",
       "      <td>100.0</td>\n",
       "      <td>39.00</td>\n",
       "      <td>23.4236</td>\n",
       "      <td>0_1</td>\n",
       "      <td>2000-01-01 00:10:00</td>\n",
       "      <td>2.0</td>\n",
       "      <td>392.0</td>\n",
       "      <td>2388.0</td>\n",
       "      <td>1.0</td>\n",
       "    </tr>\n",
       "    <tr>\n",
       "      <th>2</th>\n",
       "      <td>-0.0043</td>\n",
       "      <td>0.0003</td>\n",
       "      <td>100.0</td>\n",
       "      <td>518.67</td>\n",
       "      <td>642.35</td>\n",
       "      <td>1587.99</td>\n",
       "      <td>1404.20</td>\n",
       "      <td>14.62</td>\n",
       "      <td>21.61</td>\n",
       "      <td>554.26</td>\n",
       "      <td>...</td>\n",
       "      <td>0.03</td>\n",
       "      <td>100.0</td>\n",
       "      <td>38.95</td>\n",
       "      <td>23.3442</td>\n",
       "      <td>0_1</td>\n",
       "      <td>2000-01-01 00:20:00</td>\n",
       "      <td>3.0</td>\n",
       "      <td>390.0</td>\n",
       "      <td>2388.0</td>\n",
       "      <td>1.0</td>\n",
       "    </tr>\n",
       "  </tbody>\n",
       "</table>\n",
       "<p>3 rows × 28 columns</p>\n",
       "</div>"
      ],
      "text/plain": [
       "       op_setting_1  op_setting_2  op_setting_3  sensor_meas_1  sensor_meas_2  \\\n",
       "index                                                                           \n",
       "0           -0.0007       -0.0004         100.0         518.67         641.82   \n",
       "1            0.0019       -0.0003         100.0         518.67         642.15   \n",
       "2           -0.0043        0.0003         100.0         518.67         642.35   \n",
       "\n",
       "       sensor_meas_3  sensor_meas_4  sensor_meas_5  sensor_meas_6  \\\n",
       "index                                                               \n",
       "0            1589.70        1400.60          14.62          21.61   \n",
       "1            1591.82        1403.14          14.62          21.61   \n",
       "2            1587.99        1404.20          14.62          21.61   \n",
       "\n",
       "       sensor_meas_7  ...  sensor_meas_16  sensor_meas_19  sensor_meas_20  \\\n",
       "index                 ...                                                   \n",
       "0             554.36  ...            0.03           100.0           39.06   \n",
       "1             553.75  ...            0.03           100.0           39.00   \n",
       "2             554.26  ...            0.03           100.0           38.95   \n",
       "\n",
       "       sensor_meas_21  eng_fam                time  time_in_cycles  \\\n",
       "index                                                                \n",
       "0             23.4190      0_1 2000-01-01 00:00:00             1.0   \n",
       "1             23.4236      0_1 2000-01-01 00:10:00             2.0   \n",
       "2             23.3442      0_1 2000-01-01 00:20:00             3.0   \n",
       "\n",
       "       sensor_meas_17  sensor_meas_18  engine_family  \n",
       "index                                                 \n",
       "0               392.0          2388.0            1.0  \n",
       "1               392.0          2388.0            1.0  \n",
       "2               390.0          2388.0            1.0  \n",
       "\n",
       "[3 rows x 28 columns]"
      ]
     },
     "execution_count": 20,
     "metadata": {},
     "output_type": "execute_result"
    }
   ],
   "source": [
    "data.head(3)"
   ]
  },
  {
   "cell_type": "code",
   "execution_count": null,
   "metadata": {},
   "outputs": [],
   "source": []
  },
  {
   "cell_type": "code",
   "execution_count": 21,
   "metadata": {},
   "outputs": [],
   "source": [
    "data = data.sort_values(by=['eng_fam', 'time'])"
   ]
  },
  {
   "cell_type": "code",
   "execution_count": 22,
   "metadata": {},
   "outputs": [],
   "source": [
    "# ordenar \n",
    "# dar drop no timestamp\n",
    "data = data.drop(['time'], axis=1)"
   ]
  },
  {
   "cell_type": "code",
   "execution_count": null,
   "metadata": {},
   "outputs": [],
   "source": []
  },
  {
   "cell_type": "code",
   "execution_count": null,
   "metadata": {},
   "outputs": [],
   "source": []
  },
  {
   "cell_type": "code",
   "execution_count": null,
   "metadata": {},
   "outputs": [],
   "source": []
  },
  {
   "cell_type": "markdown",
   "metadata": {},
   "source": [
    "# Fazer o cards"
   ]
  },
  {
   "cell_type": "code",
   "execution_count": 23,
   "metadata": {},
   "outputs": [
    {
     "data": {
      "text/plain": [
       "707"
      ]
     },
     "execution_count": 23,
     "metadata": {},
     "output_type": "execute_result"
    }
   ],
   "source": [
    "unique_eng_fam = data['eng_fam'].unique()\n",
    "len(unique_eng_fam)"
   ]
  },
  {
   "cell_type": "code",
   "execution_count": 24,
   "metadata": {},
   "outputs": [
    {
     "data": {
      "text/plain": [
       "array(['0_1', '0_2', '0_3', '0_4', '100_2', '100_4', '101_2', '101_4',\n",
       "       '102_2', '102_4', '103_2', '103_4', '104_2', '104_4', '105_2',\n",
       "       '105_4', '106_2', '106_4', '107_2', '107_4'], dtype=object)"
      ]
     },
     "execution_count": 24,
     "metadata": {},
     "output_type": "execute_result"
    }
   ],
   "source": [
    "unique_eng_fam[:20]"
   ]
  },
  {
   "cell_type": "code",
   "execution_count": 25,
   "metadata": {},
   "outputs": [],
   "source": [
    "def crop(df):\n",
    "    print(\"len df:\", len(df))\n",
    "    to_drop = [i for i in range (128, df.shape[0])]\n",
    "    df.drop(labels=to_drop, axis=0, inplace=True)"
   ]
  },
  {
   "cell_type": "code",
   "execution_count": 28,
   "metadata": {},
   "outputs": [],
   "source": [
    "def to_cards(X_df):\n",
    "    cards = []\n",
    "    size = []\n",
    "    for i in range(len(unique_eng_fam)):\n",
    "        filtered = X_df.query('@X_df.eng_fam == @unique_eng_fam' + str([i]))\n",
    "        size.append(len(filtered))\n",
    "        filtered = filtered.reset_index()\n",
    "#         filtered = filtered.sort_values(['time'])\n",
    "        filtered = filtered.drop(['index'], axis=1)\n",
    "#         filtered = filtered.T\n",
    "        filtered.to_numpy()\n",
    "        cards.append(filtered)\n",
    "        \n",
    "    return cards, size"
   ]
  },
  {
   "cell_type": "code",
   "execution_count": 29,
   "metadata": {},
   "outputs": [],
   "source": [
    "cards, size = to_cards(data)"
   ]
  },
  {
   "cell_type": "code",
   "execution_count": 30,
   "metadata": {},
   "outputs": [],
   "source": [
    "for item in size:\n",
    "    if item is 0:\n",
    "        print(\"achei um 0\")"
   ]
  },
  {
   "cell_type": "code",
   "execution_count": 31,
   "metadata": {},
   "outputs": [
    {
     "name": "stdout",
     "output_type": "stream",
     "text": [
      "<class 'list'>\n",
      "<class 'pandas.core.frame.DataFrame'>\n"
     ]
    }
   ],
   "source": [
    "print(type(cards))\n",
    "print(type(cards[0]))"
   ]
  },
  {
   "cell_type": "code",
   "execution_count": 32,
   "metadata": {},
   "outputs": [
    {
     "data": {
      "text/html": [
       "<div>\n",
       "<style scoped>\n",
       "    .dataframe tbody tr th:only-of-type {\n",
       "        vertical-align: middle;\n",
       "    }\n",
       "\n",
       "    .dataframe tbody tr th {\n",
       "        vertical-align: top;\n",
       "    }\n",
       "\n",
       "    .dataframe thead th {\n",
       "        text-align: right;\n",
       "    }\n",
       "</style>\n",
       "<table border=\"1\" class=\"dataframe\">\n",
       "  <thead>\n",
       "    <tr style=\"text-align: right;\">\n",
       "      <th></th>\n",
       "      <th>op_setting_1</th>\n",
       "      <th>op_setting_2</th>\n",
       "      <th>op_setting_3</th>\n",
       "      <th>sensor_meas_1</th>\n",
       "      <th>sensor_meas_2</th>\n",
       "      <th>sensor_meas_3</th>\n",
       "      <th>sensor_meas_4</th>\n",
       "      <th>sensor_meas_5</th>\n",
       "      <th>sensor_meas_6</th>\n",
       "      <th>sensor_meas_7</th>\n",
       "      <th>...</th>\n",
       "      <th>sensor_meas_15</th>\n",
       "      <th>sensor_meas_16</th>\n",
       "      <th>sensor_meas_19</th>\n",
       "      <th>sensor_meas_20</th>\n",
       "      <th>sensor_meas_21</th>\n",
       "      <th>eng_fam</th>\n",
       "      <th>time_in_cycles</th>\n",
       "      <th>sensor_meas_17</th>\n",
       "      <th>sensor_meas_18</th>\n",
       "      <th>engine_family</th>\n",
       "    </tr>\n",
       "  </thead>\n",
       "  <tbody>\n",
       "    <tr>\n",
       "      <th>0</th>\n",
       "      <td>-0.0007</td>\n",
       "      <td>-0.0004</td>\n",
       "      <td>100.0</td>\n",
       "      <td>518.67</td>\n",
       "      <td>641.82</td>\n",
       "      <td>1589.70</td>\n",
       "      <td>1400.60</td>\n",
       "      <td>14.62</td>\n",
       "      <td>21.61</td>\n",
       "      <td>554.36</td>\n",
       "      <td>...</td>\n",
       "      <td>8.4195</td>\n",
       "      <td>0.03</td>\n",
       "      <td>100.0</td>\n",
       "      <td>39.06</td>\n",
       "      <td>23.4190</td>\n",
       "      <td>0_1</td>\n",
       "      <td>1.0</td>\n",
       "      <td>392.0</td>\n",
       "      <td>2388.0</td>\n",
       "      <td>1.0</td>\n",
       "    </tr>\n",
       "    <tr>\n",
       "      <th>1</th>\n",
       "      <td>0.0019</td>\n",
       "      <td>-0.0003</td>\n",
       "      <td>100.0</td>\n",
       "      <td>518.67</td>\n",
       "      <td>642.15</td>\n",
       "      <td>1591.82</td>\n",
       "      <td>1403.14</td>\n",
       "      <td>14.62</td>\n",
       "      <td>21.61</td>\n",
       "      <td>553.75</td>\n",
       "      <td>...</td>\n",
       "      <td>8.4318</td>\n",
       "      <td>0.03</td>\n",
       "      <td>100.0</td>\n",
       "      <td>39.00</td>\n",
       "      <td>23.4236</td>\n",
       "      <td>0_1</td>\n",
       "      <td>2.0</td>\n",
       "      <td>392.0</td>\n",
       "      <td>2388.0</td>\n",
       "      <td>1.0</td>\n",
       "    </tr>\n",
       "    <tr>\n",
       "      <th>2</th>\n",
       "      <td>-0.0043</td>\n",
       "      <td>0.0003</td>\n",
       "      <td>100.0</td>\n",
       "      <td>518.67</td>\n",
       "      <td>642.35</td>\n",
       "      <td>1587.99</td>\n",
       "      <td>1404.20</td>\n",
       "      <td>14.62</td>\n",
       "      <td>21.61</td>\n",
       "      <td>554.26</td>\n",
       "      <td>...</td>\n",
       "      <td>8.4178</td>\n",
       "      <td>0.03</td>\n",
       "      <td>100.0</td>\n",
       "      <td>38.95</td>\n",
       "      <td>23.3442</td>\n",
       "      <td>0_1</td>\n",
       "      <td>3.0</td>\n",
       "      <td>390.0</td>\n",
       "      <td>2388.0</td>\n",
       "      <td>1.0</td>\n",
       "    </tr>\n",
       "  </tbody>\n",
       "</table>\n",
       "<p>3 rows × 27 columns</p>\n",
       "</div>"
      ],
      "text/plain": [
       "   op_setting_1  op_setting_2  op_setting_3  sensor_meas_1  sensor_meas_2  \\\n",
       "0       -0.0007       -0.0004         100.0         518.67         641.82   \n",
       "1        0.0019       -0.0003         100.0         518.67         642.15   \n",
       "2       -0.0043        0.0003         100.0         518.67         642.35   \n",
       "\n",
       "   sensor_meas_3  sensor_meas_4  sensor_meas_5  sensor_meas_6  sensor_meas_7  \\\n",
       "0        1589.70        1400.60          14.62          21.61         554.36   \n",
       "1        1591.82        1403.14          14.62          21.61         553.75   \n",
       "2        1587.99        1404.20          14.62          21.61         554.26   \n",
       "\n",
       "   ...  sensor_meas_15  sensor_meas_16  sensor_meas_19  sensor_meas_20  \\\n",
       "0  ...          8.4195            0.03           100.0           39.06   \n",
       "1  ...          8.4318            0.03           100.0           39.00   \n",
       "2  ...          8.4178            0.03           100.0           38.95   \n",
       "\n",
       "   sensor_meas_21  eng_fam  time_in_cycles  sensor_meas_17  sensor_meas_18  \\\n",
       "0         23.4190      0_1             1.0           392.0          2388.0   \n",
       "1         23.4236      0_1             2.0           392.0          2388.0   \n",
       "2         23.3442      0_1             3.0           390.0          2388.0   \n",
       "\n",
       "   engine_family  \n",
       "0            1.0  \n",
       "1            1.0  \n",
       "2            1.0  \n",
       "\n",
       "[3 rows x 27 columns]"
      ]
     },
     "execution_count": 32,
     "metadata": {},
     "output_type": "execute_result"
    }
   ],
   "source": [
    "cards[0].head(3)"
   ]
  },
  {
   "cell_type": "markdown",
   "metadata": {},
   "source": [
    "# Crop cards"
   ]
  },
  {
   "cell_type": "code",
   "execution_count": 33,
   "metadata": {},
   "outputs": [
    {
     "data": {
      "text/plain": [
       "128"
      ]
     },
     "execution_count": 33,
     "metadata": {},
     "output_type": "execute_result"
    }
   ],
   "source": [
    "np.amin(size, axis=0)"
   ]
  },
  {
   "cell_type": "code",
   "execution_count": 34,
   "metadata": {},
   "outputs": [],
   "source": [
    "for i, item in enumerate(cards):\n",
    "    to_drop = [i for i in range (128, item.shape[0])]\n",
    "    item.drop(labels=to_drop, axis=0, inplace=True)"
   ]
  },
  {
   "cell_type": "code",
   "execution_count": 35,
   "metadata": {},
   "outputs": [],
   "source": [
    "# Conferir se deu certo\n",
    "for item in cards:\n",
    "    if item.shape[0] is not 128:\n",
    "        print(item.shape)"
   ]
  },
  {
   "cell_type": "markdown",
   "metadata": {},
   "source": [
    "# Transpose"
   ]
  },
  {
   "cell_type": "code",
   "execution_count": 36,
   "metadata": {},
   "outputs": [],
   "source": [
    "for i, item in enumerate(cards):\n",
    "    item = item.T\n",
    "    cards[i] = item"
   ]
  },
  {
   "cell_type": "code",
   "execution_count": 37,
   "metadata": {},
   "outputs": [
    {
     "data": {
      "text/html": [
       "<div>\n",
       "<style scoped>\n",
       "    .dataframe tbody tr th:only-of-type {\n",
       "        vertical-align: middle;\n",
       "    }\n",
       "\n",
       "    .dataframe tbody tr th {\n",
       "        vertical-align: top;\n",
       "    }\n",
       "\n",
       "    .dataframe thead th {\n",
       "        text-align: right;\n",
       "    }\n",
       "</style>\n",
       "<table border=\"1\" class=\"dataframe\">\n",
       "  <thead>\n",
       "    <tr style=\"text-align: right;\">\n",
       "      <th></th>\n",
       "      <th>0</th>\n",
       "      <th>1</th>\n",
       "      <th>2</th>\n",
       "      <th>3</th>\n",
       "      <th>4</th>\n",
       "      <th>5</th>\n",
       "      <th>6</th>\n",
       "      <th>7</th>\n",
       "      <th>8</th>\n",
       "      <th>9</th>\n",
       "      <th>...</th>\n",
       "      <th>118</th>\n",
       "      <th>119</th>\n",
       "      <th>120</th>\n",
       "      <th>121</th>\n",
       "      <th>122</th>\n",
       "      <th>123</th>\n",
       "      <th>124</th>\n",
       "      <th>125</th>\n",
       "      <th>126</th>\n",
       "      <th>127</th>\n",
       "    </tr>\n",
       "  </thead>\n",
       "  <tbody>\n",
       "    <tr>\n",
       "      <th>op_setting_1</th>\n",
       "      <td>-0.0007</td>\n",
       "      <td>0.0019</td>\n",
       "      <td>-0.0043</td>\n",
       "      <td>0.0007</td>\n",
       "      <td>-0.0019</td>\n",
       "      <td>-0.0043</td>\n",
       "      <td>0.001</td>\n",
       "      <td>-0.0034</td>\n",
       "      <td>0.0008</td>\n",
       "      <td>-0.0033</td>\n",
       "      <td>...</td>\n",
       "      <td>0.0013</td>\n",
       "      <td>-0.0024</td>\n",
       "      <td>-0.0033</td>\n",
       "      <td>0.0026</td>\n",
       "      <td>0.0016</td>\n",
       "      <td>0.0025</td>\n",
       "      <td>-0.0004</td>\n",
       "      <td>0.0016</td>\n",
       "      <td>-0.001</td>\n",
       "      <td>-0.0006</td>\n",
       "    </tr>\n",
       "    <tr>\n",
       "      <th>op_setting_2</th>\n",
       "      <td>-0.0004</td>\n",
       "      <td>-0.0003</td>\n",
       "      <td>0.0003</td>\n",
       "      <td>0</td>\n",
       "      <td>-0.0002</td>\n",
       "      <td>-0.0001</td>\n",
       "      <td>0.0001</td>\n",
       "      <td>0.0003</td>\n",
       "      <td>0.0001</td>\n",
       "      <td>0.0001</td>\n",
       "      <td>...</td>\n",
       "      <td>0.0005</td>\n",
       "      <td>0.0005</td>\n",
       "      <td>0.0004</td>\n",
       "      <td>-0.0001</td>\n",
       "      <td>-0.0002</td>\n",
       "      <td>0.0002</td>\n",
       "      <td>0.0005</td>\n",
       "      <td>0.0001</td>\n",
       "      <td>0.0002</td>\n",
       "      <td>0.0003</td>\n",
       "    </tr>\n",
       "    <tr>\n",
       "      <th>op_setting_3</th>\n",
       "      <td>100</td>\n",
       "      <td>100</td>\n",
       "      <td>100</td>\n",
       "      <td>100</td>\n",
       "      <td>100</td>\n",
       "      <td>100</td>\n",
       "      <td>100</td>\n",
       "      <td>100</td>\n",
       "      <td>100</td>\n",
       "      <td>100</td>\n",
       "      <td>...</td>\n",
       "      <td>100</td>\n",
       "      <td>100</td>\n",
       "      <td>100</td>\n",
       "      <td>100</td>\n",
       "      <td>100</td>\n",
       "      <td>100</td>\n",
       "      <td>100</td>\n",
       "      <td>100</td>\n",
       "      <td>100</td>\n",
       "      <td>100</td>\n",
       "    </tr>\n",
       "    <tr>\n",
       "      <th>sensor_meas_1</th>\n",
       "      <td>518.67</td>\n",
       "      <td>518.67</td>\n",
       "      <td>518.67</td>\n",
       "      <td>518.67</td>\n",
       "      <td>518.67</td>\n",
       "      <td>518.67</td>\n",
       "      <td>518.67</td>\n",
       "      <td>518.67</td>\n",
       "      <td>518.67</td>\n",
       "      <td>518.67</td>\n",
       "      <td>...</td>\n",
       "      <td>518.67</td>\n",
       "      <td>518.67</td>\n",
       "      <td>518.67</td>\n",
       "      <td>518.67</td>\n",
       "      <td>518.67</td>\n",
       "      <td>518.67</td>\n",
       "      <td>518.67</td>\n",
       "      <td>518.67</td>\n",
       "      <td>518.67</td>\n",
       "      <td>518.67</td>\n",
       "    </tr>\n",
       "    <tr>\n",
       "      <th>sensor_meas_2</th>\n",
       "      <td>641.82</td>\n",
       "      <td>642.15</td>\n",
       "      <td>642.35</td>\n",
       "      <td>642.35</td>\n",
       "      <td>642.37</td>\n",
       "      <td>642.1</td>\n",
       "      <td>642.48</td>\n",
       "      <td>642.56</td>\n",
       "      <td>642.12</td>\n",
       "      <td>641.71</td>\n",
       "      <td>...</td>\n",
       "      <td>642.67</td>\n",
       "      <td>642.81</td>\n",
       "      <td>642.63</td>\n",
       "      <td>643.3</td>\n",
       "      <td>643.39</td>\n",
       "      <td>642.48</td>\n",
       "      <td>642.96</td>\n",
       "      <td>642.49</td>\n",
       "      <td>642.99</td>\n",
       "      <td>642.47</td>\n",
       "    </tr>\n",
       "  </tbody>\n",
       "</table>\n",
       "<p>5 rows × 128 columns</p>\n",
       "</div>"
      ],
      "text/plain": [
       "                  0       1       2       3       4       5       6       7    \\\n",
       "op_setting_1  -0.0007  0.0019 -0.0043  0.0007 -0.0019 -0.0043   0.001 -0.0034   \n",
       "op_setting_2  -0.0004 -0.0003  0.0003       0 -0.0002 -0.0001  0.0001  0.0003   \n",
       "op_setting_3      100     100     100     100     100     100     100     100   \n",
       "sensor_meas_1  518.67  518.67  518.67  518.67  518.67  518.67  518.67  518.67   \n",
       "sensor_meas_2  641.82  642.15  642.35  642.35  642.37   642.1  642.48  642.56   \n",
       "\n",
       "                  8       9    ...     118     119     120     121     122  \\\n",
       "op_setting_1   0.0008 -0.0033  ...  0.0013 -0.0024 -0.0033  0.0026  0.0016   \n",
       "op_setting_2   0.0001  0.0001  ...  0.0005  0.0005  0.0004 -0.0001 -0.0002   \n",
       "op_setting_3      100     100  ...     100     100     100     100     100   \n",
       "sensor_meas_1  518.67  518.67  ...  518.67  518.67  518.67  518.67  518.67   \n",
       "sensor_meas_2  642.12  641.71  ...  642.67  642.81  642.63   643.3  643.39   \n",
       "\n",
       "                  123     124     125     126     127  \n",
       "op_setting_1   0.0025 -0.0004  0.0016  -0.001 -0.0006  \n",
       "op_setting_2   0.0002  0.0005  0.0001  0.0002  0.0003  \n",
       "op_setting_3      100     100     100     100     100  \n",
       "sensor_meas_1  518.67  518.67  518.67  518.67  518.67  \n",
       "sensor_meas_2  642.48  642.96  642.49  642.99  642.47  \n",
       "\n",
       "[5 rows x 128 columns]"
      ]
     },
     "execution_count": 37,
     "metadata": {},
     "output_type": "execute_result"
    }
   ],
   "source": [
    "cards[0].head(5)"
   ]
  },
  {
   "cell_type": "markdown",
   "metadata": {},
   "source": [
    "# Resize"
   ]
  },
  {
   "cell_type": "code",
   "execution_count": 38,
   "metadata": {},
   "outputs": [
    {
     "data": {
      "text/plain": [
       "707"
      ]
     },
     "execution_count": 38,
     "metadata": {},
     "output_type": "execute_result"
    }
   ],
   "source": [
    "len(cards)"
   ]
  },
  {
   "cell_type": "code",
   "execution_count": 39,
   "metadata": {},
   "outputs": [
    {
     "data": {
      "text/html": [
       "<div>\n",
       "<style scoped>\n",
       "    .dataframe tbody tr th:only-of-type {\n",
       "        vertical-align: middle;\n",
       "    }\n",
       "\n",
       "    .dataframe tbody tr th {\n",
       "        vertical-align: top;\n",
       "    }\n",
       "\n",
       "    .dataframe thead th {\n",
       "        text-align: right;\n",
       "    }\n",
       "</style>\n",
       "<table border=\"1\" class=\"dataframe\">\n",
       "  <thead>\n",
       "    <tr style=\"text-align: right;\">\n",
       "      <th></th>\n",
       "      <th>0</th>\n",
       "      <th>1</th>\n",
       "      <th>2</th>\n",
       "      <th>3</th>\n",
       "      <th>4</th>\n",
       "      <th>5</th>\n",
       "      <th>6</th>\n",
       "      <th>7</th>\n",
       "      <th>8</th>\n",
       "      <th>9</th>\n",
       "      <th>...</th>\n",
       "      <th>118</th>\n",
       "      <th>119</th>\n",
       "      <th>120</th>\n",
       "      <th>121</th>\n",
       "      <th>122</th>\n",
       "      <th>123</th>\n",
       "      <th>124</th>\n",
       "      <th>125</th>\n",
       "      <th>126</th>\n",
       "      <th>127</th>\n",
       "    </tr>\n",
       "  </thead>\n",
       "  <tbody>\n",
       "    <tr>\n",
       "      <th>op_setting_1</th>\n",
       "      <td>-0.0007</td>\n",
       "      <td>0.0019</td>\n",
       "      <td>-0.0043</td>\n",
       "      <td>0.0007</td>\n",
       "      <td>-0.0019</td>\n",
       "      <td>-0.0043</td>\n",
       "      <td>0.001</td>\n",
       "      <td>-0.0034</td>\n",
       "      <td>0.0008</td>\n",
       "      <td>-0.0033</td>\n",
       "      <td>...</td>\n",
       "      <td>0.0013</td>\n",
       "      <td>-0.0024</td>\n",
       "      <td>-0.0033</td>\n",
       "      <td>0.0026</td>\n",
       "      <td>0.0016</td>\n",
       "      <td>0.0025</td>\n",
       "      <td>-0.0004</td>\n",
       "      <td>0.0016</td>\n",
       "      <td>-0.001</td>\n",
       "      <td>-0.0006</td>\n",
       "    </tr>\n",
       "  </tbody>\n",
       "</table>\n",
       "<p>1 rows × 128 columns</p>\n",
       "</div>"
      ],
      "text/plain": [
       "                 0       1       2       3       4       5      6       7    \\\n",
       "op_setting_1 -0.0007  0.0019 -0.0043  0.0007 -0.0019 -0.0043  0.001 -0.0034   \n",
       "\n",
       "                 8       9    ...     118     119     120     121     122  \\\n",
       "op_setting_1  0.0008 -0.0033  ...  0.0013 -0.0024 -0.0033  0.0026  0.0016   \n",
       "\n",
       "                 123     124     125    126     127  \n",
       "op_setting_1  0.0025 -0.0004  0.0016 -0.001 -0.0006  \n",
       "\n",
       "[1 rows x 128 columns]"
      ]
     },
     "execution_count": 39,
     "metadata": {},
     "output_type": "execute_result"
    }
   ],
   "source": [
    "cards[0].head(1)"
   ]
  },
  {
   "cell_type": "code",
   "execution_count": 40,
   "metadata": {},
   "outputs": [],
   "source": [
    "item = np.array(cards[0])"
   ]
  },
  {
   "cell_type": "code",
   "execution_count": 41,
   "metadata": {},
   "outputs": [
    {
     "data": {
      "text/plain": [
       "(27, 128)"
      ]
     },
     "execution_count": 41,
     "metadata": {},
     "output_type": "execute_result"
    }
   ],
   "source": [
    "item.shape"
   ]
  },
  {
   "cell_type": "code",
   "execution_count": 42,
   "metadata": {},
   "outputs": [
    {
     "data": {
      "text/plain": [
       "array([[-0.0007, 0.0019, -0.0043, ..., 0.0016, -0.001, -0.0006],\n",
       "       [-0.0004, -0.0003, 0.0003, ..., 0.0001, 0.0002, 0.0003],\n",
       "       [100.0, 100.0, 100.0, ..., 100.0, 100.0, 100.0],\n",
       "       ...,\n",
       "       [392.0, 392.0, 390.0, ..., 392.0, 393.0, 393.0],\n",
       "       [2388.0, 2388.0, 2388.0, ..., 2388.0, 2388.0, 2388.0],\n",
       "       [1.0, 1.0, 1.0, ..., 1.0, 1.0, 1.0]], dtype=object)"
      ]
     },
     "execution_count": 42,
     "metadata": {},
     "output_type": "execute_result"
    }
   ],
   "source": [
    "item"
   ]
  },
  {
   "cell_type": "code",
   "execution_count": 43,
   "metadata": {},
   "outputs": [],
   "source": [
    "# b = np.resize(a,(2,1,10))\n",
    "resized = np.resize(item, (28, 1, 128))"
   ]
  },
  {
   "cell_type": "code",
   "execution_count": 44,
   "metadata": {},
   "outputs": [
    {
     "data": {
      "text/plain": [
       "(28, 1, 128)"
      ]
     },
     "execution_count": 44,
     "metadata": {},
     "output_type": "execute_result"
    }
   ],
   "source": [
    "resized.shape"
   ]
  },
  {
   "cell_type": "code",
   "execution_count": 45,
   "metadata": {},
   "outputs": [
    {
     "data": {
      "text/plain": [
       "array([[[-0.0007, 0.0019, -0.0043, ..., 0.0016, -0.001, -0.0006]],\n",
       "\n",
       "       [[-0.0004, -0.0003, 0.0003, ..., 0.0001, 0.0002, 0.0003]],\n",
       "\n",
       "       [[100.0, 100.0, 100.0, ..., 100.0, 100.0, 100.0]],\n",
       "\n",
       "       ...,\n",
       "\n",
       "       [[2388.0, 2388.0, 2388.0, ..., 2388.0, 2388.0, 2388.0]],\n",
       "\n",
       "       [[1.0, 1.0, 1.0, ..., 1.0, 1.0, 1.0]],\n",
       "\n",
       "       [[-0.0007, 0.0019, -0.0043, ..., 0.0016, -0.001, -0.0006]]],\n",
       "      dtype=object)"
      ]
     },
     "execution_count": 45,
     "metadata": {},
     "output_type": "execute_result"
    }
   ],
   "source": [
    "resized"
   ]
  },
  {
   "cell_type": "code",
   "execution_count": 46,
   "metadata": {},
   "outputs": [],
   "source": [
    "for i, item in enumerate(cards):\n",
    "    item = np.array(item)\n",
    "    resized = np.resize(item, (28, 1, 128))\n",
    "    cards[i] = resized"
   ]
  },
  {
   "cell_type": "code",
   "execution_count": 47,
   "metadata": {},
   "outputs": [
    {
     "data": {
      "text/plain": [
       "(28, 1, 128)"
      ]
     },
     "execution_count": 47,
     "metadata": {},
     "output_type": "execute_result"
    }
   ],
   "source": [
    "cards[0].shape"
   ]
  },
  {
   "cell_type": "code",
   "execution_count": 48,
   "metadata": {},
   "outputs": [],
   "source": [
    "np.save('data_3d', cards)"
   ]
  },
  {
   "cell_type": "markdown",
   "metadata": {},
   "source": [
    "# Separar o target"
   ]
  },
  {
   "cell_type": "code",
   "execution_count": 64,
   "metadata": {},
   "outputs": [
    {
     "data": {
      "text/plain": [
       "(159788, 2)"
      ]
     },
     "execution_count": 64,
     "metadata": {},
     "output_type": "execute_result"
    }
   ],
   "source": [
    "y.shape"
   ]
  },
  {
   "cell_type": "code",
   "execution_count": 65,
   "metadata": {},
   "outputs": [
    {
     "data": {
      "text/html": [
       "<div>\n",
       "<style scoped>\n",
       "    .dataframe tbody tr th:only-of-type {\n",
       "        vertical-align: middle;\n",
       "    }\n",
       "\n",
       "    .dataframe tbody tr th {\n",
       "        vertical-align: top;\n",
       "    }\n",
       "\n",
       "    .dataframe thead th {\n",
       "        text-align: right;\n",
       "    }\n",
       "</style>\n",
       "<table border=\"1\" class=\"dataframe\">\n",
       "  <thead>\n",
       "    <tr style=\"text-align: right;\">\n",
       "      <th></th>\n",
       "      <th>eng_fam</th>\n",
       "      <th>target</th>\n",
       "    </tr>\n",
       "    <tr>\n",
       "      <th>index</th>\n",
       "      <th></th>\n",
       "      <th></th>\n",
       "    </tr>\n",
       "  </thead>\n",
       "  <tbody>\n",
       "    <tr>\n",
       "      <th>0</th>\n",
       "      <td>0_1</td>\n",
       "      <td>não falha</td>\n",
       "    </tr>\n",
       "    <tr>\n",
       "      <th>1</th>\n",
       "      <td>0_1</td>\n",
       "      <td>não falha</td>\n",
       "    </tr>\n",
       "    <tr>\n",
       "      <th>2</th>\n",
       "      <td>0_1</td>\n",
       "      <td>não falha</td>\n",
       "    </tr>\n",
       "    <tr>\n",
       "      <th>3</th>\n",
       "      <td>0_1</td>\n",
       "      <td>não falha</td>\n",
       "    </tr>\n",
       "  </tbody>\n",
       "</table>\n",
       "</div>"
      ],
      "text/plain": [
       "      eng_fam     target\n",
       "index                   \n",
       "0         0_1  não falha\n",
       "1         0_1  não falha\n",
       "2         0_1  não falha\n",
       "3         0_1  não falha"
      ]
     },
     "execution_count": 65,
     "metadata": {},
     "output_type": "execute_result"
    }
   ],
   "source": [
    "y.head(4)"
   ]
  },
  {
   "cell_type": "code",
   "execution_count": 70,
   "metadata": {},
   "outputs": [],
   "source": [
    "y_g = y.groupby(['eng_fam'])"
   ]
  },
  {
   "cell_type": "code",
   "execution_count": 73,
   "metadata": {},
   "outputs": [],
   "source": [
    "y_true = y_g.head(1)"
   ]
  },
  {
   "cell_type": "code",
   "execution_count": 79,
   "metadata": {},
   "outputs": [],
   "source": [
    "y_values = y_true.values"
   ]
  },
  {
   "cell_type": "code",
   "execution_count": 92,
   "metadata": {},
   "outputs": [],
   "source": [
    "y_pure = []\n",
    "for i, item in enumerate(y_values):\n",
    "#     print(item)\n",
    "    y_pure.append(y_values[i][1])"
   ]
  },
  {
   "cell_type": "code",
   "execution_count": 93,
   "metadata": {},
   "outputs": [
    {
     "data": {
      "text/plain": [
       "707"
      ]
     },
     "execution_count": 93,
     "metadata": {},
     "output_type": "execute_result"
    }
   ],
   "source": [
    "len(y_pure)"
   ]
  },
  {
   "cell_type": "code",
   "execution_count": 94,
   "metadata": {},
   "outputs": [],
   "source": [
    "y_pure = np.array(y_pure)"
   ]
  },
  {
   "cell_type": "code",
   "execution_count": 95,
   "metadata": {},
   "outputs": [
    {
     "data": {
      "text/plain": [
       "array(['não falha', 'não falha', 'falha', 'não falha', 'não falha',\n",
       "       'não falha', 'não falha', 'não falha', 'não falha', 'não falha'],\n",
       "      dtype='<U9')"
      ]
     },
     "execution_count": 95,
     "metadata": {},
     "output_type": "execute_result"
    }
   ],
   "source": [
    "y_pure[:10]"
   ]
  },
  {
   "cell_type": "code",
   "execution_count": 96,
   "metadata": {},
   "outputs": [],
   "source": [
    "np.save('y', y_pure)"
   ]
  },
  {
   "cell_type": "code",
   "execution_count": null,
   "metadata": {},
   "outputs": [],
   "source": []
  },
  {
   "cell_type": "markdown",
   "metadata": {},
   "source": [
    "end ===================================================="
   ]
  }
 ],
 "metadata": {
  "kernelspec": {
   "display_name": "Python 3",
   "language": "python",
   "name": "python3"
  },
  "language_info": {
   "codemirror_mode": {
    "name": "ipython",
    "version": 3
   },
   "file_extension": ".py",
   "mimetype": "text/x-python",
   "name": "python",
   "nbconvert_exporter": "python",
   "pygments_lexer": "ipython3",
   "version": "3.7.3"
  }
 },
 "nbformat": 4,
 "nbformat_minor": 2
}
