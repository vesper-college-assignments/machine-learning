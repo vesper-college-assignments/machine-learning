{
 "cells": [
  {
   "cell_type": "markdown",
   "metadata": {},
   "source": [
    "# Experiment 1 - Predict using XGBoost\n",
    "\n",
    "### Notebook 1: Organizing the dataset"
   ]
  },
  {
   "cell_type": "markdown",
   "metadata": {},
   "source": [
    "**Details**.\n",
    "* O dataset de teste não tem os labels, então:\n",
    "    * Incluir uma coluna dizendo a qual família de motores aqueles dados fazem parte\n",
    "    * Concatenar train-label de todos os train\n",
    "    * Ordenar por timestamp\n",
    "    * Dividir em treino - teste simples"
   ]
  },
  {
   "cell_type": "code",
   "execution_count": 14,
   "metadata": {},
   "outputs": [],
   "source": [
    "from pathlib import Path\n",
    "import pandas as pd"
   ]
  },
  {
   "cell_type": "code",
   "execution_count": 15,
   "metadata": {},
   "outputs": [],
   "source": [
    "def load_data(data_path):   \n",
    "    operational_settings = ['op_setting_{}'.format(i + 1) for i in range (3)]\n",
    "    sensor_columns = ['sensor_meas_{}'.format(i + 1) for i in range(26)]\n",
    "    cols = ['engine_no', 'time_in_cycles'] + operational_settings + sensor_columns\n",
    "    \n",
    "    data = pd.read_csv(data_path, sep=' ', header=-1, names=cols)\n",
    "    data = data.drop(cols[-5:], axis=1)\n",
    "    data['index'] = data.index\n",
    "    data.index = data['index']\n",
    "    data['time'] = pd.date_range('1/1/2000', periods=data.shape[0], freq='600s')\n",
    "#     print('Loaded data with:\\n{} Recordings\\n{} Engines'.format(\n",
    "#         data.shape[0], len(data['engine_no'].unique())))\n",
    "#     print('21 Sensor Measurements\\n3 Operational Settings')\n",
    "    return data"
   ]
  },
  {
   "cell_type": "code",
   "execution_count": 16,
   "metadata": {},
   "outputs": [],
   "source": [
    "def load_target(data_path):\n",
    "    cols = ['RUL']\n",
    "    data = pd.read_csv(data_path, sep=' ', header=-1, names=cols, index_col=False)\n",
    "    return data"
   ]
  },
  {
   "cell_type": "code",
   "execution_count": 17,
   "metadata": {},
   "outputs": [],
   "source": [
    "# Load dos trains e targets\n",
    "PATH   = Path('../data/CMAPSSData')\n",
    "train01 = load_data(PATH/'train_FD001.txt')\n",
    "target01 = load_target(PATH/'RUL_FD001.txt')\n",
    "\n",
    "train02 = load_data(PATH/'train_FD002.txt')\n",
    "target02 = load_target(PATH/'RUL_FD002.txt')\n",
    "\n",
    "train03 = load_data(PATH/'train_FD003.txt')\n",
    "target03 = load_target(PATH/'RUL_FD003.txt')\n",
    "\n",
    "train04 = load_data(PATH/'train_FD004.txt')\n",
    "target04 = load_target(PATH/'RUL_FD004.txt')"
   ]
  },
  {
   "cell_type": "code",
   "execution_count": 18,
   "metadata": {},
   "outputs": [],
   "source": [
    "# incluir a coluna com a família do motor\n",
    "train01['engine_family'] = 1\n",
    "train02['engine_family'] = 2\n",
    "train03['engine_family'] = 3\n",
    "train04['engine_family'] = 4"
   ]
  },
  {
   "cell_type": "code",
   "execution_count": 19,
   "metadata": {},
   "outputs": [],
   "source": [
    "# concatenar train-label \n",
    "data01 = pd.concat([train01, target01], axis=1, sort=False)\n",
    "data02 = pd.concat([train02, target02], axis=1, sort=False)\n",
    "data03 = pd.concat([train03, target03], axis=1, sort=False)\n",
    "data04 = pd.concat([train04, target04], axis=1, sort=False)"
   ]
  },
  {
   "cell_type": "code",
   "execution_count": 20,
   "metadata": {},
   "outputs": [],
   "source": [
    "data_all = pd.concat([data01, data02, data03, data04], axis = 0, sort=False)"
   ]
  },
  {
   "cell_type": "code",
   "execution_count": 23,
   "metadata": {},
   "outputs": [],
   "source": [
    "# Ordenar por timestamp\n",
    "data = data.sort_values(by=['time'])"
   ]
  },
  {
   "cell_type": "code",
   "execution_count": 24,
   "metadata": {},
   "outputs": [
    {
     "name": "stdout",
     "output_type": "stream",
     "text": [
      "(20631, 30)\n",
      "(53759, 30)\n",
      "(24720, 30)\n",
      "(61249, 30)\n",
      "(160359, 30)\n"
     ]
    }
   ],
   "source": [
    "print(data01.shape)\n",
    "print(data02.shape)\n",
    "print(data03.shape)\n",
    "print(data04.shape)\n",
    "print(data_all.shape)"
   ]
  },
  {
   "cell_type": "code",
   "execution_count": 25,
   "metadata": {},
   "outputs": [],
   "source": [
    "# trocar time por datetime\n",
    "time = pd.to_datetime(data['time'])\n",
    "data.drop(['time'], axis=1, inplace=True)\n",
    "data = pd.concat([data, time], axis=1)"
   ]
  },
  {
   "cell_type": "code",
   "execution_count": 26,
   "metadata": {},
   "outputs": [],
   "source": [
    "# trocar int por float\n",
    "for col in ['engine_no', 'time_in_cycles', 'sensor_meas_17','sensor_meas_18', 'engine_family']:\n",
    "    ints = data[col].astype('float64')\n",
    "    data.drop([col], axis=1, inplace=True)\n",
    "    data = pd.concat([data, ints], axis=1)"
   ]
  },
  {
   "cell_type": "code",
   "execution_count": 27,
   "metadata": {},
   "outputs": [],
   "source": [
    "# persist new dataframe\n",
    "data.to_csv('../data/CMAPSSData/data_all.csv')"
   ]
  },
  {
   "cell_type": "markdown",
   "metadata": {},
   "source": [
    "end ================================================================="
   ]
  }
 ],
 "metadata": {
  "kernelspec": {
   "display_name": "Python 3",
   "language": "python",
   "name": "python3"
  },
  "language_info": {
   "codemirror_mode": {
    "name": "ipython",
    "version": 3
   },
   "file_extension": ".py",
   "mimetype": "text/x-python",
   "name": "python",
   "nbconvert_exporter": "python",
   "pygments_lexer": "ipython3",
   "version": "3.7.3"
  }
 },
 "nbformat": 4,
 "nbformat_minor": 2
}
