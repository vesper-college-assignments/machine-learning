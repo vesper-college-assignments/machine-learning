{
 "cells": [
  {
   "cell_type": "code",
   "execution_count": 1,
   "metadata": {},
   "outputs": [],
   "source": [
    "import numpy as np"
   ]
  },
  {
   "cell_type": "code",
   "execution_count": 23,
   "metadata": {},
   "outputs": [],
   "source": [
    "a=np.array([[1,1,1,1,1,1,1, 1, 1, 1],[2,2,2,2,2,2,2,2,2,2,]])"
   ]
  },
  {
   "cell_type": "code",
   "execution_count": 24,
   "metadata": {},
   "outputs": [
    {
     "data": {
      "text/plain": [
       "array([[1, 1, 1, 1, 1, 1, 1, 1, 1, 1],\n",
       "       [2, 2, 2, 2, 2, 2, 2, 2, 2, 2]])"
      ]
     },
     "execution_count": 24,
     "metadata": {},
     "output_type": "execute_result"
    }
   ],
   "source": [
    "a"
   ]
  },
  {
   "cell_type": "code",
   "execution_count": 25,
   "metadata": {},
   "outputs": [
    {
     "data": {
      "text/plain": [
       "(2, 10)"
      ]
     },
     "execution_count": 25,
     "metadata": {},
     "output_type": "execute_result"
    }
   ],
   "source": [
    "a.shape"
   ]
  },
  {
   "cell_type": "code",
   "execution_count": 34,
   "metadata": {},
   "outputs": [],
   "source": [
    "#qtd, linhas, colunas\n",
    "b = np.resize(a,(2,1,10))\n",
    "\n",
    "(?, 27, 128)"
   ]
  },
  {
   "cell_type": "code",
   "execution_count": 35,
   "metadata": {},
   "outputs": [
    {
     "data": {
      "text/plain": [
       "array([[[1, 1, 1, 1, 1, 1, 1, 1, 1, 1]],\n",
       "\n",
       "       [[2, 2, 2, 2, 2, 2, 2, 2, 2, 2]]])"
      ]
     },
     "execution_count": 35,
     "metadata": {},
     "output_type": "execute_result"
    }
   ],
   "source": [
    "b"
   ]
  },
  {
   "cell_type": "code",
   "execution_count": 22,
   "metadata": {},
   "outputs": [
    {
     "data": {
      "text/plain": [
       "(2, 3)"
      ]
     },
     "execution_count": 22,
     "metadata": {},
     "output_type": "execute_result"
    }
   ],
   "source": [
    "b.shape"
   ]
  },
  {
   "cell_type": "code",
   "execution_count": null,
   "metadata": {},
   "outputs": [],
   "source": [
    ">>> np.resize(a,(1,4))\n",
    "array([[0, 1, 2, 3]])\n",
    ">>> np.resize(a,(2,4))\n",
    "array([[0, 1, 2, 3],\n",
    "       [0, 1, 2, 3]])"
   ]
  },
  {
   "cell_type": "code",
   "execution_count": null,
   "metadata": {},
   "outputs": [],
   "source": []
  },
  {
   "cell_type": "code",
   "execution_count": null,
   "metadata": {},
   "outputs": [],
   "source": []
  },
  {
   "cell_type": "code",
   "execution_count": null,
   "metadata": {},
   "outputs": [],
   "source": []
  },
  {
   "cell_type": "code",
   "execution_count": null,
   "metadata": {},
   "outputs": [],
   "source": []
  },
  {
   "cell_type": "code",
   "execution_count": 7,
   "metadata": {},
   "outputs": [],
   "source": [
    "__author__ = 'Jake Varley'\n",
    "\n",
    "import numpy as np\n",
    "import math\n",
    "import random\n",
    "import matplotlib.pyplot as plt\n",
    "from mpl_toolkits.mplot3d import Axes3D\n",
    "import numpy as np"
   ]
  },
  {
   "cell_type": "code",
   "execution_count": 18,
   "metadata": {},
   "outputs": [],
   "source": [
    "def __generate_solid_figures(geometry_types, patch_size):\n",
    "\n",
    "    \"\"\"\n",
    "    Output shape\n",
    "    ------------\n",
    "    4D array (samples, patch_size(Z), patch_size(X), patch_size(Y))\n",
    "        Voxel for each label passed as input through geometry_types\n",
    "\n",
    "    Arguments\n",
    "        geometry_types: numpy array (samples, 1)\n",
    "             An array of class labels (0 for sphere, 1 for cube)\n",
    "        patch_size: int\n",
    "             Size of 3d array to store voxel\n",
    "\n",
    "    \"\"\"\n",
    "    shapes_no = geometry_types.shape[0]\n",
    "\n",
    "    # Assuming data is centered\n",
    "    (x0, y0, z0) = ((patch_size-1)/2,)*3\n",
    "\n",
    "    # Allocate 3D data array, data is in cube(all dimensions are same)\n",
    "    solid_figures = np.zeros((len(geometry_types), 1, patch_size,\n",
    "                                  patch_size, patch_size))\n",
    "    for i in range(0, len(geometry_types)):\n",
    "        # # radius is a random number in [3, self.patch_size/2)\n",
    "        radius = (patch_size/2 - 3) * np.random.rand() + 3\n",
    "\n",
    "        # bounding box values for optimization\n",
    "        x_min = int(max(math.ceil(x0-radius), 0))\n",
    "        y_min = int(max(math.ceil(y0-radius), 0))\n",
    "        z_min = int(max(math.ceil(z0-radius), 0))\n",
    "        x_max = int(min(math.floor(x0+radius), patch_size-1))\n",
    "        y_max = int(min(math.floor(y0+radius), patch_size-1))\n",
    "        z_max = int(min(math.floor(z0+radius), patch_size-1))\n",
    "\n",
    "        if geometry_types[i] == 0: #Sphere\n",
    "            radius_squared = radius**2\n",
    "            for z in range(z_min, z_max+1):\n",
    "                for x in range(x_min, x_max+1):\n",
    "                    for y in range(y_min, y_max+1):\n",
    "                        if (x-x0)**2 + (y-y0)**2 + (z-z0)**2 <= radius_squared:\n",
    "                            # inside the sphere\n",
    "                            solid_figures[i, 0, z, x, y] = 1\n",
    "        elif geometry_types[i] == 1: #Cube\n",
    "            solid_figures[i, 0, z_min:z_max+1, x_min:x_max+1, y_min:y_max+1] = 1\n",
    "        else:\n",
    "            raise NotImplementedError\n",
    "\n",
    "    return solid_figures"
   ]
  },
  {
   "cell_type": "code",
   "execution_count": 23,
   "metadata": {},
   "outputs": [],
   "source": [
    "def to_categorical(y, nb_classes=None):\n",
    "    '''Convert class vector (integers from 0 to nb_classes)\n",
    "    to binary class matrix, for use with categorical_crossentropy\n",
    "    '''\n",
    "    y = np.asarray(y, dtype='int32')\n",
    "    if not nb_classes:\n",
    "        nb_classes = np.max(y)+1\n",
    "    Y = np.zeros((len(y), nb_classes))\n",
    "    for i in range(len(y)):\n",
    "        Y[i, y[i]] = 1.\n",
    "    return Y"
   ]
  },
  {
   "cell_type": "code",
   "execution_count": 21,
   "metadata": {},
   "outputs": [],
   "source": [
    "\n",
    "\n",
    "def load_data(test_split=0.2, dataset_size=5000, patch_size=32):\n",
    "    \"\"\"\n",
    "    Description\n",
    "    -----------\n",
    "    creates a dataset with total \"dataset_size\" samples.\n",
    "    Class of a sample (sphere, and cube) is chosen at random with equal probability.\n",
    "    Based on the \"test_split\", the dataset is divided in test and train subsets.\n",
    "    The \"patch_size\" defines the size of a 3D array for storing voxel.\n",
    "\n",
    "\n",
    "    Output shape\n",
    "    ------------                                size\n",
    "    (4D array, 1D array), (4D array, 1D array) ====> (Train_Voxels, Train_Lables), (Test_Voxels, Test_Labels)\n",
    "        Train and test split of total 'dataset_size' voxels with labels\n",
    "\n",
    "    Arguments\n",
    "    ------------\n",
    "    test_split: float\n",
    "        percentage of total samples for training\n",
    "\n",
    "    dataset_size: int\n",
    "        total number of samples\n",
    "\n",
    "    patch_size:\n",
    "        size of each dimension of a 3D array to store voxel\n",
    "    \"\"\"\n",
    "\n",
    "    if patch_size < 10:\n",
    "       raise NotImplementedError\n",
    "\n",
    "    num_labels = 2\n",
    "        \n",
    "    # Using same probability for each class\n",
    "    geometry_types = np.random.randint(0, num_labels, dataset_size)\n",
    "    random.shuffle(geometry_types)\n",
    "\n",
    "    # Getting the training set\n",
    "    end = int(abs((1-test_split)*dataset_size))\n",
    "    print(type(end))\n",
    "    y_train = geometry_types[0:end]\n",
    "    x_train = __generate_solid_figures(geometry_types=y_train, patch_size=patch_size)\n",
    "\n",
    "    # Getting the testing set\n",
    "    y_test = geometry_types[int(abs((1-test_split)*dataset_size)):]\n",
    "    x_test = __generate_solid_figures(geometry_types=y_test, patch_size=patch_size)\n",
    "\n",
    "    return (x_train, y_train),(x_test, y_test)\n",
    "\n"
   ]
  },
  {
   "cell_type": "code",
   "execution_count": 24,
   "metadata": {},
   "outputs": [
    {
     "name": "stdout",
     "output_type": "stream",
     "text": [
      "<class 'int'>\n",
      "X_train shape: (400, 1, 32, 32, 32)\n",
      "400 train samples\n",
      "100 test samples\n"
     ]
    }
   ],
   "source": [
    "test_split = 0.2\n",
    "dataset_size = 500\n",
    "patch_size = 32\n",
    "\n",
    "(X_train, Y_train),(X_test, Y_test) = load_data(test_split=test_split,\n",
    "                                                          dataset_size=dataset_size,\n",
    "                                                          patch_size=patch_size)\n",
    "\n",
    "print('X_train shape:', X_train.shape)\n",
    "print(X_train.shape[0], 'train samples')\n",
    "print(X_test.shape[0], 'test samples')"
   ]
  },
  {
   "cell_type": "code",
   "execution_count": 27,
   "metadata": {},
   "outputs": [
    {
     "data": {
      "text/plain": [
       "(400, 1, 32, 32, 32)"
      ]
     },
     "execution_count": 27,
     "metadata": {},
     "output_type": "execute_result"
    }
   ],
   "source": [
    "X_train.shape\n",
    "# instancias, channel, "
   ]
  },
  {
   "cell_type": "code",
   "execution_count": 33,
   "metadata": {},
   "outputs": [],
   "source": [
    "# CNN Training parameters\n",
    "batch_size = 10\n",
    "nb_classes = 2\n",
    "nb_epoch = 100\n",
    "\n",
    "# convert class vectors to binary class matrices\n",
    "Y_train = to_categorical(Y_train, nb_classes)\n",
    "Y_test = to_categorical(Y_test, nb_classes)\n",
    "\n",
    "# number of convolutional filters to use at each layer\n",
    "nb_filters = [16, 32]\n",
    "\n",
    "# level of pooling to perform at each layer (POOL x POOL)\n",
    "nb_pool = [3, 3]\n",
    "\n",
    "# level of convolution to perform at each layer (CONV x CONV)\n",
    "nb_conv = [7, 3]"
   ]
  },
  {
   "cell_type": "code",
   "execution_count": 32,
   "metadata": {},
   "outputs": [
    {
     "name": "stderr",
     "output_type": "stream",
     "text": [
      "/home/valeriaps/anaconda3/lib/python3.7/site-packages/ipykernel_launcher.py:6: UserWarning: Update your `Conv3D` call to the Keras 2 API: `Conv3D(16, nb_depth=7, nb_row=7, nb_col=7, input_shape=(1, 32, 32..., activation=\"relu\", padding=\"full\")`\n",
      "  \n"
     ]
    },
    {
     "ename": "TypeError",
     "evalue": "__init__() missing 1 required positional argument: 'kernel_size'",
     "output_type": "error",
     "traceback": [
      "\u001b[0;31m---------------------------------------------------------------------------\u001b[0m",
      "\u001b[0;31mTypeError\u001b[0m                                 Traceback (most recent call last)",
      "\u001b[0;32m<ipython-input-32-46aae8c0978a>\u001b[0m in \u001b[0;36m<module>\u001b[0;34m\u001b[0m\n\u001b[1;32m      4\u001b[0m \u001b[0mmodel\u001b[0m \u001b[0;34m=\u001b[0m \u001b[0mSequential\u001b[0m\u001b[0;34m(\u001b[0m\u001b[0;34m)\u001b[0m\u001b[0;34m\u001b[0m\u001b[0;34m\u001b[0m\u001b[0m\n\u001b[1;32m      5\u001b[0m model.add(Convolution3D(nb_filters[0],nb_depth=nb_conv[0], nb_row=nb_conv[0], nb_col=nb_conv[0], border_mode='full',\n\u001b[0;32m----> 6\u001b[0;31m                         input_shape=(1, patch_size, patch_size, patch_size), activation='relu'))\n\u001b[0m\u001b[1;32m      7\u001b[0m \u001b[0mmodel\u001b[0m\u001b[0;34m.\u001b[0m\u001b[0madd\u001b[0m\u001b[0;34m(\u001b[0m\u001b[0mMaxPooling3D\u001b[0m\u001b[0;34m(\u001b[0m\u001b[0mpool_size\u001b[0m\u001b[0;34m=\u001b[0m\u001b[0;34m(\u001b[0m\u001b[0mnb_pool\u001b[0m\u001b[0;34m[\u001b[0m\u001b[0;36m0\u001b[0m\u001b[0;34m]\u001b[0m\u001b[0;34m,\u001b[0m \u001b[0mnb_pool\u001b[0m\u001b[0;34m[\u001b[0m\u001b[0;36m0\u001b[0m\u001b[0;34m]\u001b[0m\u001b[0;34m,\u001b[0m \u001b[0mnb_pool\u001b[0m\u001b[0;34m[\u001b[0m\u001b[0;36m0\u001b[0m\u001b[0;34m]\u001b[0m\u001b[0;34m)\u001b[0m\u001b[0;34m)\u001b[0m\u001b[0;34m)\u001b[0m\u001b[0;34m\u001b[0m\u001b[0;34m\u001b[0m\u001b[0m\n\u001b[1;32m      8\u001b[0m \u001b[0mmodel\u001b[0m\u001b[0;34m.\u001b[0m\u001b[0madd\u001b[0m\u001b[0;34m(\u001b[0m\u001b[0mDropout\u001b[0m\u001b[0;34m(\u001b[0m\u001b[0;36m0.5\u001b[0m\u001b[0;34m)\u001b[0m\u001b[0;34m)\u001b[0m\u001b[0;34m\u001b[0m\u001b[0;34m\u001b[0m\u001b[0m\n",
      "\u001b[0;32m~/anaconda3/lib/python3.7/site-packages/keras/legacy/interfaces.py\u001b[0m in \u001b[0;36mwrapper\u001b[0;34m(*args, **kwargs)\u001b[0m\n\u001b[1;32m     89\u001b[0m                 warnings.warn('Update your `' + object_name + '` call to the ' +\n\u001b[1;32m     90\u001b[0m                               'Keras 2 API: ' + signature, stacklevel=2)\n\u001b[0;32m---> 91\u001b[0;31m             \u001b[0;32mreturn\u001b[0m \u001b[0mfunc\u001b[0m\u001b[0;34m(\u001b[0m\u001b[0;34m*\u001b[0m\u001b[0margs\u001b[0m\u001b[0;34m,\u001b[0m \u001b[0;34m**\u001b[0m\u001b[0mkwargs\u001b[0m\u001b[0;34m)\u001b[0m\u001b[0;34m\u001b[0m\u001b[0;34m\u001b[0m\u001b[0m\n\u001b[0m\u001b[1;32m     92\u001b[0m         \u001b[0mwrapper\u001b[0m\u001b[0;34m.\u001b[0m\u001b[0m_original_function\u001b[0m \u001b[0;34m=\u001b[0m \u001b[0mfunc\u001b[0m\u001b[0;34m\u001b[0m\u001b[0;34m\u001b[0m\u001b[0m\n\u001b[1;32m     93\u001b[0m         \u001b[0;32mreturn\u001b[0m \u001b[0mwrapper\u001b[0m\u001b[0;34m\u001b[0m\u001b[0;34m\u001b[0m\u001b[0m\n",
      "\u001b[0;31mTypeError\u001b[0m: __init__() missing 1 required positional argument: 'kernel_size'"
     ]
    }
   ],
   "source": [
    "from keras import Sequential\n",
    "from keras.layers import Convolution3D, MaxPooling3D, Dropout, Flatten, Dense, Activation\n",
    "\n",
    "model = Sequential()\n",
    "model.add(Convolution3D(nb_filters[0],nb_depth=nb_conv[0], nb_row=nb_conv[0], nb_col=nb_conv[0], \n",
    "                        border_mode='full',\n",
    "                        input_shape=(1, patch_size, patch_size, patch_size), \n",
    "                        activation='relu'))\n",
    "model.add(MaxPooling3D(pool_size=(nb_pool[0], nb_pool[0], nb_pool[0])))\n",
    "model.add(Dropout(0.5))\n",
    "model.add(Convolution3D(nb_filters[1],nb_depth=nb_conv[1], nb_row=nb_conv[1], nb_col=nb_conv[1], border_mode='full',\n",
    "                        activation='relu'))\n",
    "model.add(MaxPooling3D(pool_size=(nb_pool[1], nb_pool[1], nb_pool[1])))\n",
    "model.add(Flatten())\n",
    "model.add(Dropout(0.5))\n",
    "model.add(Dense(16, init='normal', activation='relu'))\n",
    "model.add(Dense(nb_classes, init='normal'))\n",
    "model.add(Activation('softmax'))\n",
    "\n",
    "# sgd = RMSprop(lr=0.01, decay=1e-6, momentum=0.9, nesterov=True)\n",
    "# model.compile(loss='categorical_crossentropy', optimizer=sgd)\n",
    "\n",
    "# model.fit(X_train, Y_train, batch_size=batch_size, nb_epoch=nb_epoch, show_accuracy=True, verbose=2,\n",
    "#           validation_data=(X_test, Y_test))\n",
    "# score = model.evaluate(X_test, Y_test, batch_size=batch_size, show_accuracy=True)\n",
    "# print('Test score:', score[0])\n",
    "# print('Test accuracy:', score[1])"
   ]
  },
  {
   "cell_type": "code",
   "execution_count": null,
   "metadata": {},
   "outputs": [],
   "source": []
  },
  {
   "cell_type": "code",
   "execution_count": null,
   "metadata": {},
   "outputs": [],
   "source": []
  },
  {
   "cell_type": "code",
   "execution_count": null,
   "metadata": {},
   "outputs": [],
   "source": []
  }
 ],
 "metadata": {
  "kernelspec": {
   "display_name": "Python 3",
   "language": "python",
   "name": "python3"
  },
  "language_info": {
   "codemirror_mode": {
    "name": "ipython",
    "version": 3
   },
   "file_extension": ".py",
   "mimetype": "text/x-python",
   "name": "python",
   "nbconvert_exporter": "python",
   "pygments_lexer": "ipython3",
   "version": "3.7.3"
  }
 },
 "nbformat": 4,
 "nbformat_minor": 2
}
