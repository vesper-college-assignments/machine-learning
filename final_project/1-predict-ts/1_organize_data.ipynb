{
 "cells": [
  {
   "cell_type": "markdown",
   "metadata": {},
   "source": [
    "# Notebook 1: Organizing the dataset"
   ]
  },
  {
   "cell_type": "code",
   "execution_count": 1,
   "metadata": {},
   "outputs": [],
   "source": [
    "from pathlib import Path\n",
    "import pandas as pd"
   ]
  },
  {
   "cell_type": "code",
   "execution_count": 2,
   "metadata": {},
   "outputs": [],
   "source": [
    "def load_data(data_path):   \n",
    "    operational_settings = ['op_setting_{}'.format(i + 1) for i in range (3)]\n",
    "    sensor_columns = ['sensor_meas_{}'.format(i + 1) for i in range(26)]\n",
    "    cols = ['engine_no', 'time_in_cycles'] + operational_settings + sensor_columns\n",
    "    \n",
    "    data = pd.read_csv(data_path, sep=' ', header=-1, names=cols)\n",
    "    data = data.drop(cols[-5:], axis=1)\n",
    "    data['index'] = data.index\n",
    "    data.index = data['index']\n",
    "    data['time'] = pd.date_range('1/1/2000', periods=data.shape[0], freq='600s')\n",
    "#     print('Loaded data with:\\n{} Recordings\\n{} Engines'.format(\n",
    "#         data.shape[0], len(data['engine_no'].unique())))\n",
    "#     print('21 Sensor Measurements\\n3 Operational Settings')\n",
    "    return data"
   ]
  },
  {
   "cell_type": "code",
   "execution_count": 3,
   "metadata": {},
   "outputs": [],
   "source": [
    "def load_target(data_path):\n",
    "    cols = ['RUL']\n",
    "    data = pd.read_csv(data_path, sep=' ', header=-1, names=cols, index_col=False)\n",
    "    return data"
   ]
  },
  {
   "cell_type": "code",
   "execution_count": 4,
   "metadata": {},
   "outputs": [],
   "source": [
    "def make_list(targetx):\n",
    "    targetx = targetx.values\n",
    "    target_x=[]\n",
    "    for item in targetx:\n",
    "        target_x.append(item[0])\n",
    "    return target_x"
   ]
  },
  {
   "cell_type": "code",
   "execution_count": 5,
   "metadata": {},
   "outputs": [],
   "source": [
    "PATH   = Path('../data/CMAPSSData')"
   ]
  },
  {
   "cell_type": "code",
   "execution_count": 6,
   "metadata": {},
   "outputs": [],
   "source": [
    "# Load dos trains e targets\n",
    "train01 = load_data(PATH/'train_FD001.txt')\n",
    "target01 = load_target(PATH/'RUL_FD001.txt')\n",
    "\n",
    "train02 = load_data(PATH/'train_FD002.txt')\n",
    "target02 = load_target(PATH/'RUL_FD002.txt')\n",
    "\n",
    "train03 = load_data(PATH/'train_FD003.txt')\n",
    "target03 = load_target(PATH/'RUL_FD003.txt')\n",
    "\n",
    "train04 = load_data(PATH/'train_FD004.txt')\n",
    "target04 = load_target(PATH/'RUL_FD004.txt')"
   ]
  },
  {
   "cell_type": "code",
   "execution_count": 7,
   "metadata": {},
   "outputs": [
    {
     "data": {
      "text/html": [
       "<div>\n",
       "<style scoped>\n",
       "    .dataframe tbody tr th:only-of-type {\n",
       "        vertical-align: middle;\n",
       "    }\n",
       "\n",
       "    .dataframe tbody tr th {\n",
       "        vertical-align: top;\n",
       "    }\n",
       "\n",
       "    .dataframe thead th {\n",
       "        text-align: right;\n",
       "    }\n",
       "</style>\n",
       "<table border=\"1\" class=\"dataframe\">\n",
       "  <thead>\n",
       "    <tr style=\"text-align: right;\">\n",
       "      <th></th>\n",
       "      <th>RUL</th>\n",
       "    </tr>\n",
       "  </thead>\n",
       "  <tbody>\n",
       "    <tr>\n",
       "      <th>0</th>\n",
       "      <td>18</td>\n",
       "    </tr>\n",
       "    <tr>\n",
       "      <th>1</th>\n",
       "      <td>79</td>\n",
       "    </tr>\n",
       "    <tr>\n",
       "      <th>2</th>\n",
       "      <td>106</td>\n",
       "    </tr>\n",
       "    <tr>\n",
       "      <th>3</th>\n",
       "      <td>110</td>\n",
       "    </tr>\n",
       "    <tr>\n",
       "      <th>4</th>\n",
       "      <td>15</td>\n",
       "    </tr>\n",
       "  </tbody>\n",
       "</table>\n",
       "</div>"
      ],
      "text/plain": [
       "   RUL\n",
       "0   18\n",
       "1   79\n",
       "2  106\n",
       "3  110\n",
       "4   15"
      ]
     },
     "execution_count": 7,
     "metadata": {},
     "output_type": "execute_result"
    }
   ],
   "source": [
    "target02.head(5)"
   ]
  },
  {
   "cell_type": "code",
   "execution_count": 8,
   "metadata": {},
   "outputs": [],
   "source": [
    "# Arrange engine_no to align with target index\n",
    "train01['engine_no'] = train01['engine_no'].apply(lambda x: x-1)\n",
    "train02['engine_no'] = train02['engine_no'].apply(lambda x: x-1)\n",
    "train03['engine_no'] = train03['engine_no'].apply(lambda x: x-1)\n",
    "train04['engine_no'] = train04['engine_no'].apply(lambda x: x-1)"
   ]
  },
  {
   "cell_type": "code",
   "execution_count": 9,
   "metadata": {},
   "outputs": [],
   "source": [
    "# Transformar o target numa lista\n",
    "target_01= make_list(target01)\n",
    "target_02= make_list(target02)\n",
    "target_03= make_list(target03)\n",
    "target_04= make_list(target04)"
   ]
  },
  {
   "cell_type": "code",
   "execution_count": 10,
   "metadata": {},
   "outputs": [
    {
     "name": "stdout",
     "output_type": "stream",
     "text": [
      "01:  (100,)   100\n",
      "02:  (260,)   259\n",
      "03:  (100,)   100\n",
      "04:  (249,)   248\n"
     ]
    }
   ],
   "source": [
    "# Verificar quais DS precisa dropar a última linha\n",
    "print(\"01: \",train01['engine_no'].unique().shape, \" \", len(target_01))\n",
    "print(\"02: \",train02['engine_no'].unique().shape, \" \", len(target_02))\n",
    "print(\"03: \",train03['engine_no'].unique().shape, \" \", len(target_03))\n",
    "print(\"04: \",train04['engine_no'].unique().shape, \" \", len(target_04))"
   ]
  },
  {
   "cell_type": "code",
   "execution_count": 11,
   "metadata": {},
   "outputs": [],
   "source": [
    "# Dropar todoo último engine dos DS 02 \n",
    "filtered = train02.query('@train02.engine_no == 259')\n",
    "to_drop = list(filtered['index'].values)\n",
    "\n",
    "for row in to_drop:\n",
    "    train02 = train02.drop([row], axis=0)"
   ]
  },
  {
   "cell_type": "code",
   "execution_count": 12,
   "metadata": {},
   "outputs": [],
   "source": [
    "# Dropar todoo último engine dos DS 02\n",
    "filtered = train04.query('@train04.engine_no == 248')\n",
    "to_drop = list(filtered['index'].values)\n",
    "\n",
    "for row in to_drop:\n",
    "    train04 = train04.drop([row], axis=0)"
   ]
  },
  {
   "cell_type": "code",
   "execution_count": 13,
   "metadata": {},
   "outputs": [
    {
     "name": "stdout",
     "output_type": "stream",
     "text": [
      "01:  (100,)   100\n",
      "02:  (259,)   259\n",
      "03:  (100,)   100\n",
      "04:  (248,)   248\n"
     ]
    }
   ],
   "source": [
    "# Conferir tamanhos\n",
    "print(\"01: \",train01['engine_no'].unique().shape, \" \", len(target_01))\n",
    "print(\"02: \",train02['engine_no'].unique().shape, \" \", len(target_02))\n",
    "print(\"03: \",train03['engine_no'].unique().shape, \" \", len(target_03))\n",
    "print(\"04: \",train04['engine_no'].unique().shape, \" \", len(target_04))"
   ]
  },
  {
   "cell_type": "code",
   "execution_count": 14,
   "metadata": {},
   "outputs": [],
   "source": [
    "# anotar como target correto para cada engine\n",
    "train01['target'] = train01['engine_no'].apply(lambda x: target_01[x])\n",
    "train02['target'] = train02['engine_no'].apply(lambda x: target_02[x])\n",
    "train03['target'] = train03['engine_no'].apply(lambda x: target_03[x])\n",
    "train04['target'] = train04['engine_no'].apply(lambda x: target_04[x])"
   ]
  },
  {
   "cell_type": "markdown",
   "metadata": {},
   "source": [
    "# Criar eng_fam"
   ]
  },
  {
   "cell_type": "code",
   "execution_count": 15,
   "metadata": {},
   "outputs": [],
   "source": [
    "# incluir a coluna com a família do motor\n",
    "train01['engine_family'] = 1\n",
    "train02['engine_family'] = 2\n",
    "train03['engine_family'] = 3\n",
    "train04['engine_family'] = 4"
   ]
  },
  {
   "cell_type": "code",
   "execution_count": 16,
   "metadata": {},
   "outputs": [],
   "source": [
    "def make_eng_fam(df):\n",
    "    df['eng_fam'] = ''\n",
    "    for i in range(len(df)):\n",
    "        engine = df.at[i,'engine_no']\n",
    "        engine = str(int(engine))\n",
    "        family = str(int(df.at[i, 'engine_family']))\n",
    "        df.at[i,'eng_fam'] = engine + '_' + family\n",
    "    return df"
   ]
  },
  {
   "cell_type": "code",
   "execution_count": 17,
   "metadata": {},
   "outputs": [],
   "source": [
    "train01 = make_eng_fam(train01)"
   ]
  },
  {
   "cell_type": "code",
   "execution_count": 18,
   "metadata": {},
   "outputs": [],
   "source": [
    "train02 = make_eng_fam(train02)\n",
    "train03 = make_eng_fam(train03)\n",
    "train04 = make_eng_fam(train04)"
   ]
  },
  {
   "cell_type": "code",
   "execution_count": 19,
   "metadata": {},
   "outputs": [
    {
     "data": {
      "text/html": [
       "<div>\n",
       "<style scoped>\n",
       "    .dataframe tbody tr th:only-of-type {\n",
       "        vertical-align: middle;\n",
       "    }\n",
       "\n",
       "    .dataframe tbody tr th {\n",
       "        vertical-align: top;\n",
       "    }\n",
       "\n",
       "    .dataframe thead th {\n",
       "        text-align: right;\n",
       "    }\n",
       "</style>\n",
       "<table border=\"1\" class=\"dataframe\">\n",
       "  <thead>\n",
       "    <tr style=\"text-align: right;\">\n",
       "      <th></th>\n",
       "      <th>engine_no</th>\n",
       "      <th>time_in_cycles</th>\n",
       "      <th>op_setting_1</th>\n",
       "      <th>op_setting_2</th>\n",
       "      <th>op_setting_3</th>\n",
       "      <th>sensor_meas_1</th>\n",
       "      <th>sensor_meas_2</th>\n",
       "      <th>sensor_meas_3</th>\n",
       "      <th>sensor_meas_4</th>\n",
       "      <th>sensor_meas_5</th>\n",
       "      <th>...</th>\n",
       "      <th>sensor_meas_17</th>\n",
       "      <th>sensor_meas_18</th>\n",
       "      <th>sensor_meas_19</th>\n",
       "      <th>sensor_meas_20</th>\n",
       "      <th>sensor_meas_21</th>\n",
       "      <th>index</th>\n",
       "      <th>time</th>\n",
       "      <th>target</th>\n",
       "      <th>engine_family</th>\n",
       "      <th>eng_fam</th>\n",
       "    </tr>\n",
       "    <tr>\n",
       "      <th>index</th>\n",
       "      <th></th>\n",
       "      <th></th>\n",
       "      <th></th>\n",
       "      <th></th>\n",
       "      <th></th>\n",
       "      <th></th>\n",
       "      <th></th>\n",
       "      <th></th>\n",
       "      <th></th>\n",
       "      <th></th>\n",
       "      <th></th>\n",
       "      <th></th>\n",
       "      <th></th>\n",
       "      <th></th>\n",
       "      <th></th>\n",
       "      <th></th>\n",
       "      <th></th>\n",
       "      <th></th>\n",
       "      <th></th>\n",
       "      <th></th>\n",
       "      <th></th>\n",
       "    </tr>\n",
       "  </thead>\n",
       "  <tbody>\n",
       "    <tr>\n",
       "      <th>0</th>\n",
       "      <td>0</td>\n",
       "      <td>1</td>\n",
       "      <td>-0.0007</td>\n",
       "      <td>-0.0004</td>\n",
       "      <td>100.0</td>\n",
       "      <td>518.67</td>\n",
       "      <td>641.82</td>\n",
       "      <td>1589.70</td>\n",
       "      <td>1400.60</td>\n",
       "      <td>14.62</td>\n",
       "      <td>...</td>\n",
       "      <td>392</td>\n",
       "      <td>2388</td>\n",
       "      <td>100.0</td>\n",
       "      <td>39.06</td>\n",
       "      <td>23.4190</td>\n",
       "      <td>0</td>\n",
       "      <td>2000-01-01 00:00:00</td>\n",
       "      <td>112</td>\n",
       "      <td>1</td>\n",
       "      <td>0_1</td>\n",
       "    </tr>\n",
       "    <tr>\n",
       "      <th>1</th>\n",
       "      <td>0</td>\n",
       "      <td>2</td>\n",
       "      <td>0.0019</td>\n",
       "      <td>-0.0003</td>\n",
       "      <td>100.0</td>\n",
       "      <td>518.67</td>\n",
       "      <td>642.15</td>\n",
       "      <td>1591.82</td>\n",
       "      <td>1403.14</td>\n",
       "      <td>14.62</td>\n",
       "      <td>...</td>\n",
       "      <td>392</td>\n",
       "      <td>2388</td>\n",
       "      <td>100.0</td>\n",
       "      <td>39.00</td>\n",
       "      <td>23.4236</td>\n",
       "      <td>1</td>\n",
       "      <td>2000-01-01 00:10:00</td>\n",
       "      <td>112</td>\n",
       "      <td>1</td>\n",
       "      <td>0_1</td>\n",
       "    </tr>\n",
       "    <tr>\n",
       "      <th>2</th>\n",
       "      <td>0</td>\n",
       "      <td>3</td>\n",
       "      <td>-0.0043</td>\n",
       "      <td>0.0003</td>\n",
       "      <td>100.0</td>\n",
       "      <td>518.67</td>\n",
       "      <td>642.35</td>\n",
       "      <td>1587.99</td>\n",
       "      <td>1404.20</td>\n",
       "      <td>14.62</td>\n",
       "      <td>...</td>\n",
       "      <td>390</td>\n",
       "      <td>2388</td>\n",
       "      <td>100.0</td>\n",
       "      <td>38.95</td>\n",
       "      <td>23.3442</td>\n",
       "      <td>2</td>\n",
       "      <td>2000-01-01 00:20:00</td>\n",
       "      <td>112</td>\n",
       "      <td>1</td>\n",
       "      <td>0_1</td>\n",
       "    </tr>\n",
       "    <tr>\n",
       "      <th>3</th>\n",
       "      <td>0</td>\n",
       "      <td>4</td>\n",
       "      <td>0.0007</td>\n",
       "      <td>0.0000</td>\n",
       "      <td>100.0</td>\n",
       "      <td>518.67</td>\n",
       "      <td>642.35</td>\n",
       "      <td>1582.79</td>\n",
       "      <td>1401.87</td>\n",
       "      <td>14.62</td>\n",
       "      <td>...</td>\n",
       "      <td>392</td>\n",
       "      <td>2388</td>\n",
       "      <td>100.0</td>\n",
       "      <td>38.88</td>\n",
       "      <td>23.3739</td>\n",
       "      <td>3</td>\n",
       "      <td>2000-01-01 00:30:00</td>\n",
       "      <td>112</td>\n",
       "      <td>1</td>\n",
       "      <td>0_1</td>\n",
       "    </tr>\n",
       "    <tr>\n",
       "      <th>4</th>\n",
       "      <td>0</td>\n",
       "      <td>5</td>\n",
       "      <td>-0.0019</td>\n",
       "      <td>-0.0002</td>\n",
       "      <td>100.0</td>\n",
       "      <td>518.67</td>\n",
       "      <td>642.37</td>\n",
       "      <td>1582.85</td>\n",
       "      <td>1406.22</td>\n",
       "      <td>14.62</td>\n",
       "      <td>...</td>\n",
       "      <td>393</td>\n",
       "      <td>2388</td>\n",
       "      <td>100.0</td>\n",
       "      <td>38.90</td>\n",
       "      <td>23.4044</td>\n",
       "      <td>4</td>\n",
       "      <td>2000-01-01 00:40:00</td>\n",
       "      <td>112</td>\n",
       "      <td>1</td>\n",
       "      <td>0_1</td>\n",
       "    </tr>\n",
       "  </tbody>\n",
       "</table>\n",
       "<p>5 rows × 31 columns</p>\n",
       "</div>"
      ],
      "text/plain": [
       "       engine_no  time_in_cycles  op_setting_1  op_setting_2  op_setting_3  \\\n",
       "index                                                                        \n",
       "0              0               1       -0.0007       -0.0004         100.0   \n",
       "1              0               2        0.0019       -0.0003         100.0   \n",
       "2              0               3       -0.0043        0.0003         100.0   \n",
       "3              0               4        0.0007        0.0000         100.0   \n",
       "4              0               5       -0.0019       -0.0002         100.0   \n",
       "\n",
       "       sensor_meas_1  sensor_meas_2  sensor_meas_3  sensor_meas_4  \\\n",
       "index                                                               \n",
       "0             518.67         641.82        1589.70        1400.60   \n",
       "1             518.67         642.15        1591.82        1403.14   \n",
       "2             518.67         642.35        1587.99        1404.20   \n",
       "3             518.67         642.35        1582.79        1401.87   \n",
       "4             518.67         642.37        1582.85        1406.22   \n",
       "\n",
       "       sensor_meas_5  ...  sensor_meas_17  sensor_meas_18  sensor_meas_19  \\\n",
       "index                 ...                                                   \n",
       "0              14.62  ...             392            2388           100.0   \n",
       "1              14.62  ...             392            2388           100.0   \n",
       "2              14.62  ...             390            2388           100.0   \n",
       "3              14.62  ...             392            2388           100.0   \n",
       "4              14.62  ...             393            2388           100.0   \n",
       "\n",
       "       sensor_meas_20  sensor_meas_21  index                time  target  \\\n",
       "index                                                                      \n",
       "0               39.06         23.4190      0 2000-01-01 00:00:00     112   \n",
       "1               39.00         23.4236      1 2000-01-01 00:10:00     112   \n",
       "2               38.95         23.3442      2 2000-01-01 00:20:00     112   \n",
       "3               38.88         23.3739      3 2000-01-01 00:30:00     112   \n",
       "4               38.90         23.4044      4 2000-01-01 00:40:00     112   \n",
       "\n",
       "       engine_family  eng_fam  \n",
       "index                          \n",
       "0                  1      0_1  \n",
       "1                  1      0_1  \n",
       "2                  1      0_1  \n",
       "3                  1      0_1  \n",
       "4                  1      0_1  \n",
       "\n",
       "[5 rows x 31 columns]"
      ]
     },
     "execution_count": 19,
     "metadata": {},
     "output_type": "execute_result"
    }
   ],
   "source": [
    "train01.head(5)"
   ]
  },
  {
   "cell_type": "markdown",
   "metadata": {},
   "source": [
    "# sort by time"
   ]
  },
  {
   "cell_type": "code",
   "execution_count": 20,
   "metadata": {},
   "outputs": [],
   "source": [
    "train01 = train01.sort_values(by='time')\n",
    "train02 = train02.sort_values(by='time')\n",
    "train03 = train03.sort_values(by='time')\n",
    "train04 = train04.sort_values(by='time')"
   ]
  },
  {
   "cell_type": "markdown",
   "metadata": {},
   "source": [
    "# Concat all 4 datasets"
   ]
  },
  {
   "cell_type": "code",
   "execution_count": 21,
   "metadata": {},
   "outputs": [],
   "source": [
    "data = pd.concat([train01, train02, train03, train04], axis = 0, sort=False)"
   ]
  },
  {
   "cell_type": "code",
   "execution_count": 22,
   "metadata": {},
   "outputs": [
    {
     "data": {
      "text/plain": [
       "engine_no         0\n",
       "time_in_cycles    0\n",
       "op_setting_1      0\n",
       "op_setting_2      0\n",
       "op_setting_3      0\n",
       "sensor_meas_1     0\n",
       "sensor_meas_2     0\n",
       "sensor_meas_3     0\n",
       "sensor_meas_4     0\n",
       "sensor_meas_5     0\n",
       "sensor_meas_6     0\n",
       "sensor_meas_7     0\n",
       "sensor_meas_8     0\n",
       "sensor_meas_9     0\n",
       "sensor_meas_10    0\n",
       "sensor_meas_11    0\n",
       "sensor_meas_12    0\n",
       "sensor_meas_13    0\n",
       "sensor_meas_14    0\n",
       "sensor_meas_15    0\n",
       "sensor_meas_16    0\n",
       "sensor_meas_17    0\n",
       "sensor_meas_18    0\n",
       "sensor_meas_19    0\n",
       "sensor_meas_20    0\n",
       "sensor_meas_21    0\n",
       "index             0\n",
       "time              0\n",
       "target            0\n",
       "engine_family     0\n",
       "eng_fam           0\n",
       "dtype: int64"
      ]
     },
     "execution_count": 22,
     "metadata": {},
     "output_type": "execute_result"
    }
   ],
   "source": [
    "data.isnull().sum()"
   ]
  },
  {
   "cell_type": "code",
   "execution_count": 23,
   "metadata": {},
   "outputs": [
    {
     "name": "stdout",
     "output_type": "stream",
     "text": [
      "(20631, 31)\n",
      "(53443, 31)\n",
      "(24720, 31)\n",
      "(60994, 31)\n",
      "(159788, 31)\n"
     ]
    }
   ],
   "source": [
    "print(train01.shape)\n",
    "print(train02.shape)\n",
    "print(train03.shape)\n",
    "print(train04.shape)\n",
    "print(data.shape)"
   ]
  },
  {
   "cell_type": "code",
   "execution_count": 24,
   "metadata": {},
   "outputs": [],
   "source": [
    "# trocar time por datetime\n",
    "time = pd.to_datetime(data['time'])\n",
    "data.drop(['time'], axis=1, inplace=True)\n",
    "data = pd.concat([data, time], axis=1)"
   ]
  },
  {
   "cell_type": "code",
   "execution_count": 25,
   "metadata": {},
   "outputs": [],
   "source": [
    "# trocar int por float\n",
    "for col in ['engine_no', 'time_in_cycles', 'sensor_meas_17','sensor_meas_18', 'engine_family']:\n",
    "    ints = data[col].astype('float64')\n",
    "    data.drop([col], axis=1, inplace=True)\n",
    "    data = pd.concat([data, ints], axis=1)"
   ]
  },
  {
   "cell_type": "code",
   "execution_count": 28,
   "metadata": {},
   "outputs": [],
   "source": [
    "# persist new dataframe\n",
    "data.to_hdf('data1.h5', key='data', mode='w')"
   ]
  },
  {
   "cell_type": "markdown",
   "metadata": {},
   "source": [
    "end ================================================================="
   ]
  }
 ],
 "metadata": {
  "kernelspec": {
   "display_name": "Python 3",
   "language": "python",
   "name": "python3"
  },
  "language_info": {
   "codemirror_mode": {
    "name": "ipython",
    "version": 3
   },
   "file_extension": ".py",
   "mimetype": "text/x-python",
   "name": "python",
   "nbconvert_exporter": "python",
   "pygments_lexer": "ipython3",
   "version": "3.7.3"
  }
 },
 "nbformat": 4,
 "nbformat_minor": 2
}
